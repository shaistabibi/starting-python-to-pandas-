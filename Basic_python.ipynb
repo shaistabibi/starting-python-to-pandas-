{
  "cells": [
    {
      "cell_type": "markdown",
      "metadata": {
        "id": "xBAU8IalF5UR"
      },
      "source": [
        "#1.1 Elementary Data Types"
      ]
    },
    {
      "cell_type": "code",
      "execution_count": 88,
      "metadata": {
        "colab": {
          "base_uri": "https://localhost:8080/",
          "height": 0
        },
        "id": "N2sxRW3pF3KG",
        "outputId": "751f31cb-5046-4747-80e9-3ea3294bcab3"
      },
      "outputs": [
        {
          "output_type": "stream",
          "name": "stdout",
          "text": [
            "10\n",
            "<class 'int'>\n"
          ]
        }
      ],
      "source": [
        "a=10\n",
        "print(a)\n",
        "print(type(a))"
      ]
    },
    {
      "cell_type": "code",
      "execution_count": 89,
      "metadata": {
        "colab": {
          "base_uri": "https://localhost:8080/",
          "height": 0
        },
        "id": "fRcGndjlGFAH",
        "outputId": "15839470-d235-4886-eda7-244351530738"
      },
      "outputs": [
        {
          "output_type": "stream",
          "name": "stdout",
          "text": [
            "12.7\n",
            "<class 'float'>\n"
          ]
        }
      ],
      "source": [
        "b=12.7\n",
        "print(b)\n",
        "print(type(b))"
      ]
    },
    {
      "cell_type": "code",
      "execution_count": 90,
      "metadata": {
        "colab": {
          "base_uri": "https://localhost:8080/",
          "height": 0
        },
        "id": "SAIovmySGJ0y",
        "outputId": "04e3bc17-604b-4c42-d58f-61b86b0772c3"
      },
      "outputs": [
        {
          "output_type": "stream",
          "name": "stdout",
          "text": [
            "True\n",
            "<class 'bool'>\n"
          ]
        }
      ],
      "source": [
        "c=True\n",
        "print(c)\n",
        "print(type(c))"
      ]
    },
    {
      "cell_type": "code",
      "execution_count": 91,
      "metadata": {
        "colab": {
          "base_uri": "https://localhost:8080/",
          "height": 0
        },
        "id": "ZUf0r3juGQPX",
        "outputId": "9b57d37e-0038-4986-fe56-d653b3a919de"
      },
      "outputs": [
        {
          "output_type": "stream",
          "name": "stdout",
          "text": [
            "shaista <class 'str'>\n"
          ]
        }
      ],
      "source": [
        "d=\"shaista\"\n",
        "print(d,type(d))\n"
      ]
    },
    {
      "cell_type": "markdown",
      "metadata": {
        "id": "9dvWoAhYGxEh"
      },
      "source": [
        "The following are some of the arithmetic operations available for manipulating integers and floating point\n",
        "numbers\n"
      ]
    },
    {
      "cell_type": "code",
      "execution_count": 92,
      "metadata": {
        "colab": {
          "base_uri": "https://localhost:8080/",
          "height": 0
        },
        "id": "DNR1j6FFGoTB",
        "outputId": "fd4406a9-9faf-4c7e-cf83-c04d913d9b6c"
      },
      "outputs": [
        {
          "output_type": "stream",
          "name": "stdout",
          "text": [
            "8\n",
            "8\n"
          ]
        }
      ],
      "source": [
        "#Addition\n",
        "a=5\n",
        "b=3\n",
        "print(a+b)\n",
        "#or\n",
        "c=a+b\n",
        "print(c)"
      ]
    },
    {
      "cell_type": "code",
      "execution_count": 93,
      "metadata": {
        "colab": {
          "base_uri": "https://localhost:8080/",
          "height": 0
        },
        "id": "lKqQUq3bHMN_",
        "outputId": "75730344-df25-4645-d65a-ef3941040132"
      },
      "outputs": [
        {
          "output_type": "stream",
          "name": "stdout",
          "text": [
            "2\n",
            "2\n"
          ]
        }
      ],
      "source": [
        "#Subtraction\n",
        "c=a-b\n",
        "print(c)\n",
        "print(a -b)"
      ]
    },
    {
      "cell_type": "code",
      "source": [
        "#Multiplication\n",
        "x=34\n",
        "y=22\n",
        "z=x*y\n",
        "print(z)\n",
        "print(x*y)"
      ],
      "metadata": {
        "colab": {
          "base_uri": "https://localhost:8080/",
          "height": 0
        },
        "id": "BCbVR-8h8SBC",
        "outputId": "8827cc01-223d-41a2-8e54-cca890b0fe80"
      },
      "execution_count": 94,
      "outputs": [
        {
          "output_type": "stream",
          "name": "stdout",
          "text": [
            "748\n",
            "748\n"
          ]
        }
      ]
    },
    {
      "cell_type": "code",
      "source": [
        "#division\n",
        "x=10\n",
        "y=2\n",
        "z=x/y\n",
        "print(z)\n",
        "print(x/2)"
      ],
      "metadata": {
        "colab": {
          "base_uri": "https://localhost:8080/",
          "height": 0
        },
        "id": "neziEYJv8baB",
        "outputId": "a964f34d-1b5e-4df2-c90f-1e8db965753a"
      },
      "execution_count": 95,
      "outputs": [
        {
          "output_type": "stream",
          "name": "stdout",
          "text": [
            "5.0\n",
            "5.0\n"
          ]
        }
      ]
    },
    {
      "cell_type": "code",
      "source": [
        "# modulo (remainder) operator\n",
        "x=10\n",
        "y=2\n",
        "z=x%y\n",
        "print(z)\n",
        "print(x%2)"
      ],
      "metadata": {
        "colab": {
          "base_uri": "https://localhost:8080/",
          "height": 0
        },
        "id": "h1zZkMyD8l8J",
        "outputId": "09c83972-5ab4-4438-88dc-e79f1e43f9a3"
      },
      "execution_count": 96,
      "outputs": [
        {
          "output_type": "stream",
          "name": "stdout",
          "text": [
            "0\n",
            "0\n"
          ]
        }
      ]
    },
    {
      "cell_type": "markdown",
      "source": [
        "floating point number"
      ],
      "metadata": {
        "id": "GaFH6MY899MR"
      }
    },
    {
      "cell_type": "code",
      "source": [
        "# floating point number\n",
        "#Addition\n",
        "a=5.1\n",
        "b=3.3\n",
        "print(a+b)\n",
        "#or\n",
        "c=a+b\n",
        "print(c)"
      ],
      "metadata": {
        "colab": {
          "base_uri": "https://localhost:8080/",
          "height": 0
        },
        "id": "w8kwNjl081eM",
        "outputId": "ca20586b-ee11-4d38-d5dd-86b65950ccd1"
      },
      "execution_count": 97,
      "outputs": [
        {
          "output_type": "stream",
          "name": "stdout",
          "text": [
            "8.399999999999999\n",
            "8.399999999999999\n"
          ]
        }
      ]
    },
    {
      "cell_type": "code",
      "source": [
        "#Subtraction\n",
        "c=a-b\n",
        "print(c)\n",
        "print(a -b)"
      ],
      "metadata": {
        "colab": {
          "base_uri": "https://localhost:8080/",
          "height": 0
        },
        "id": "QS4mkNPV8_GL",
        "outputId": "34479f6b-9381-4e11-e217-68ad07c14a1c"
      },
      "execution_count": 98,
      "outputs": [
        {
          "output_type": "stream",
          "name": "stdout",
          "text": [
            "1.7999999999999998\n",
            "1.7999999999999998\n"
          ]
        }
      ]
    },
    {
      "cell_type": "code",
      "source": [
        "#Multiplication\n",
        "x=34.22\n",
        "y=22.45\n",
        "z=x*y\n",
        "print(z)\n",
        "print(x*y)"
      ],
      "metadata": {
        "colab": {
          "base_uri": "https://localhost:8080/",
          "height": 0
        },
        "id": "WN0sPfLB9BXy",
        "outputId": "07aaf5bd-f66e-4517-da2e-ade305e9bb52"
      },
      "execution_count": 99,
      "outputs": [
        {
          "output_type": "stream",
          "name": "stdout",
          "text": [
            "768.2389999999999\n",
            "768.2389999999999\n"
          ]
        }
      ]
    },
    {
      "cell_type": "code",
      "source": [
        "#division\n",
        "x=10.5\n",
        "y=2.1\n",
        "z=x/y\n",
        "print(z)\n",
        "# integer division\n",
        "print(x/2)"
      ],
      "metadata": {
        "colab": {
          "base_uri": "https://localhost:8080/",
          "height": 0
        },
        "id": "vQ7tItyB9Lox",
        "outputId": "2abf7e5c-54f7-49c7-8716-0e8e52aef4e1"
      },
      "execution_count": 100,
      "outputs": [
        {
          "output_type": "stream",
          "name": "stdout",
          "text": [
            "5.0\n",
            "5.25\n"
          ]
        }
      ]
    },
    {
      "cell_type": "code",
      "source": [
        "# square of z\n",
        "sq_z=z**2\n",
        "print(sq_z)"
      ],
      "metadata": {
        "colab": {
          "base_uri": "https://localhost:8080/",
          "height": 0
        },
        "id": "PYsCrB5G9Una",
        "outputId": "092a6591-a96b-435a-f91e-15fa4b5f7991"
      },
      "execution_count": 101,
      "outputs": [
        {
          "output_type": "stream",
          "name": "stdout",
          "text": [
            "25.0\n"
          ]
        }
      ]
    },
    {
      "cell_type": "code",
      "source": [
        "# square root\n",
        "print(z**(1/2))\n",
        "#or\n",
        "print(z**0.5)\n"
      ],
      "metadata": {
        "colab": {
          "base_uri": "https://localhost:8080/",
          "height": 0
        },
        "id": "k2EuMm2Q9dax",
        "outputId": "5d97fa56-e5df-41bb-ac9a-d68ffe97ed88"
      },
      "execution_count": 102,
      "outputs": [
        {
          "output_type": "stream",
          "name": "stdout",
          "text": [
            "2.23606797749979\n",
            "2.23606797749979\n"
          ]
        }
      ]
    },
    {
      "cell_type": "code",
      "source": [
        "# equivalent to square of z\n",
        "z1=pow(5,2)\n",
        "print(z1)\n",
        "if z1==sq_z:\n",
        "  print(\"yes\")\n",
        "else:\n",
        "  print(\"No\")"
      ],
      "metadata": {
        "colab": {
          "base_uri": "https://localhost:8080/",
          "height": 0
        },
        "id": "F3-Wj7Om9vBm",
        "outputId": "0b1a629f-b9fe-4f63-a283-5239d9f1c68b"
      },
      "execution_count": 103,
      "outputs": [
        {
          "output_type": "stream",
          "name": "stdout",
          "text": [
            "25\n",
            "yes\n"
          ]
        }
      ]
    },
    {
      "cell_type": "code",
      "source": [
        "# rounding z to its nearest integer\n",
        "sr_z=z**0.5\n",
        "rd=round(sr_z)\n",
        "print(rd)"
      ],
      "metadata": {
        "colab": {
          "base_uri": "https://localhost:8080/",
          "height": 0
        },
        "id": "i78ClUoW9yoN",
        "outputId": "d7da0481-531c-4dde-86d8-eeecdd6cebea"
      },
      "execution_count": 104,
      "outputs": [
        {
          "output_type": "stream",
          "name": "stdout",
          "text": [
            "2\n"
          ]
        }
      ]
    },
    {
      "cell_type": "code",
      "source": [
        "# type casting float to int\n",
        "cst=int(sr_z)\n",
        "print(cst)\n"
      ],
      "metadata": {
        "colab": {
          "base_uri": "https://localhost:8080/",
          "height": 0
        },
        "id": "rTrr7Y4k90pN",
        "outputId": "ac7abb2e-6e94-45c5-bc39-fcd00a6645bc"
      },
      "execution_count": 105,
      "outputs": [
        {
          "output_type": "stream",
          "name": "stdout",
          "text": [
            "2\n"
          ]
        }
      ]
    },
    {
      "cell_type": "markdown",
      "source": [
        "The following are some of the functions provided by the math module for integers and floating point numbers"
      ],
      "metadata": {
        "id": "OW0rz3vw_UgA"
      }
    },
    {
      "cell_type": "code",
      "source": [
        "#math module\n",
        "import math\n",
        "x=54\n",
        "#square root\n",
        "print(math.sqrt(x))"
      ],
      "metadata": {
        "id": "cmRJ-rAh_Q_F",
        "colab": {
          "base_uri": "https://localhost:8080/",
          "height": 0
        },
        "outputId": "5875ccf8-2495-4323-ddd9-4936bea3921f"
      },
      "execution_count": 106,
      "outputs": [
        {
          "output_type": "stream",
          "name": "stdout",
          "text": [
            "7.3484692283495345\n"
          ]
        }
      ]
    },
    {
      "cell_type": "code",
      "source": [
        "#power function\n",
        "print(math.pow(23,2))"
      ],
      "metadata": {
        "colab": {
          "base_uri": "https://localhost:8080/",
          "height": 0
        },
        "id": "OOT3s66mHPMt",
        "outputId": "d7fc67d7-ce55-497f-9f23-79a24621842c"
      },
      "execution_count": 107,
      "outputs": [
        {
          "output_type": "stream",
          "name": "stdout",
          "text": [
            "529.0\n"
          ]
        }
      ]
    },
    {
      "cell_type": "code",
      "source": [
        "#exponential function\n",
        "print(math.exp(4))"
      ],
      "metadata": {
        "colab": {
          "base_uri": "https://localhost:8080/",
          "height": 0
        },
        "id": "_L4VXvofHWeH",
        "outputId": "6edeaddf-26c9-4857-c671-6890bf8c7717"
      },
      "execution_count": 108,
      "outputs": [
        {
          "output_type": "stream",
          "name": "stdout",
          "text": [
            "54.598150033144236\n"
          ]
        }
      ]
    },
    {
      "cell_type": "code",
      "source": [
        "#log base 2 function\n",
        "a=12\n",
        "print(math.log(a,2))"
      ],
      "metadata": {
        "colab": {
          "base_uri": "https://localhost:8080/",
          "height": 0
        },
        "id": "Q7HDslt7Hwvm",
        "outputId": "8ca7ddf8-8b60-4a6e-cbce-f2b2497f92df"
      },
      "execution_count": 109,
      "outputs": [
        {
          "output_type": "stream",
          "name": "stdout",
          "text": [
            "3.5849625007211565\n"
          ]
        }
      ]
    },
    {
      "cell_type": "code",
      "source": [
        "# absolute value\n",
        "print(math.fabs(-3.56))"
      ],
      "metadata": {
        "colab": {
          "base_uri": "https://localhost:8080/",
          "height": 0
        },
        "id": "sfaNBq_9IQgs",
        "outputId": "a97e42d6-ae08-4f7d-8cdd-89cc393990d3"
      },
      "execution_count": 110,
      "outputs": [
        {
          "output_type": "stream",
          "name": "stdout",
          "text": [
            "3.56\n"
          ]
        }
      ]
    },
    {
      "cell_type": "code",
      "source": [
        "#factorial function\n",
        "print(math.factorial(16))"
      ],
      "metadata": {
        "colab": {
          "base_uri": "https://localhost:8080/",
          "height": 0
        },
        "id": "WzZbufOPIevF",
        "outputId": "9cb81d6b-c925-44ff-ae9c-e3ef7828245c"
      },
      "execution_count": 111,
      "outputs": [
        {
          "output_type": "stream",
          "name": "stdout",
          "text": [
            "20922789888000\n"
          ]
        }
      ]
    },
    {
      "cell_type": "code",
      "source": [
        "# ceiling function\n",
        "z=0.2\n",
        "print(math.ceil(z))"
      ],
      "metadata": {
        "colab": {
          "base_uri": "https://localhost:8080/",
          "height": 0
        },
        "id": "GN7IG844Ima-",
        "outputId": "f4b57091-8b6b-4a72-9925-d52aefad9e7f"
      },
      "execution_count": 112,
      "outputs": [
        {
          "output_type": "stream",
          "name": "stdout",
          "text": [
            "1\n"
          ]
        }
      ]
    },
    {
      "cell_type": "code",
      "source": [
        "#floor function\n",
        "print(math.floor(z))"
      ],
      "metadata": {
        "colab": {
          "base_uri": "https://localhost:8080/",
          "height": 0
        },
        "id": "BIDm7h6nIyyc",
        "outputId": "7b40c0ff-30b7-4e2c-8563-78ccf5556669"
      },
      "execution_count": 113,
      "outputs": [
        {
          "output_type": "stream",
          "name": "stdout",
          "text": [
            "0\n"
          ]
        }
      ]
    },
    {
      "cell_type": "code",
      "source": [
        "# truncate function\n",
        "print(math.trunc(z))"
      ],
      "metadata": {
        "colab": {
          "base_uri": "https://localhost:8080/",
          "height": 0
        },
        "id": "O3pap02iI5E1",
        "outputId": "b32aaafc-2655-44f8-b7fb-3fc60abf3afb"
      },
      "execution_count": 114,
      "outputs": [
        {
          "output_type": "stream",
          "name": "stdout",
          "text": [
            "0\n"
          ]
        }
      ]
    },
    {
      "cell_type": "code",
      "source": [
        "#math.pi\n",
        "print(math.pi)"
      ],
      "metadata": {
        "colab": {
          "base_uri": "https://localhost:8080/",
          "height": 0
        },
        "id": "rhdO5ZpKJB0G",
        "outputId": "07c17db3-586f-4609-aeb9-46b92b99d959"
      },
      "execution_count": 115,
      "outputs": [
        {
          "output_type": "stream",
          "name": "stdout",
          "text": [
            "3.141592653589793\n"
          ]
        }
      ]
    },
    {
      "cell_type": "code",
      "source": [
        "# sine function\n",
        "print(math.sin(z))"
      ],
      "metadata": {
        "colab": {
          "base_uri": "https://localhost:8080/",
          "height": 0
        },
        "id": "dxPpiqlTJRad",
        "outputId": "a1e84405-e954-48a8-8d12-644bcd17bfee"
      },
      "execution_count": 116,
      "outputs": [
        {
          "output_type": "stream",
          "name": "stdout",
          "text": [
            "0.19866933079506122\n"
          ]
        }
      ]
    },
    {
      "cell_type": "code",
      "source": [
        " # arctan function\n",
        "print(math.tanh(z))"
      ],
      "metadata": {
        "colab": {
          "base_uri": "https://localhost:8080/",
          "height": 0
        },
        "id": "gMVSSuj_JaYL",
        "outputId": "df2f14b2-62d9-4619-b236-8b675ab12adb"
      },
      "execution_count": 117,
      "outputs": [
        {
          "output_type": "stream",
          "name": "stdout",
          "text": [
            "0.197375320224904\n"
          ]
        }
      ]
    },
    {
      "cell_type": "code",
      "source": [
        "# not a number\n",
        "print(math.nan)\n",
        "x = math.nan\n",
        "print(math.isnan(x))"
      ],
      "metadata": {
        "colab": {
          "base_uri": "https://localhost:8080/",
          "height": 0
        },
        "id": "w9z0dCkHJob7",
        "outputId": "f0a48027-fd11-46cc-a731-7d0a50d25363"
      },
      "execution_count": 118,
      "outputs": [
        {
          "output_type": "stream",
          "name": "stdout",
          "text": [
            "nan\n",
            "True\n"
          ]
        }
      ]
    },
    {
      "cell_type": "code",
      "source": [
        "# infinity\n",
        "x = math.inf \n",
        "print(math.isinf(x))"
      ],
      "metadata": {
        "colab": {
          "base_uri": "https://localhost:8080/",
          "height": 0
        },
        "id": "LzN02ouFJ0Lu",
        "outputId": "0d679853-9241-437f-ff72-ddbd28b54087"
      },
      "execution_count": 119,
      "outputs": [
        {
          "output_type": "stream",
          "name": "stdout",
          "text": [
            "True\n"
          ]
        }
      ]
    },
    {
      "cell_type": "markdown",
      "source": [
        "The following are some of the logical operations available for booleans"
      ],
      "metadata": {
        "id": "Ay809QrsKCbb"
      }
    },
    {
      "cell_type": "code",
      "source": [
        "x1=True\n",
        "x2=False\n",
        "print(x1 and x2) #Logical AND\n",
        "print(x1 or x2) #Logical or\n",
        "print(not x2) #Logical Not"
      ],
      "metadata": {
        "colab": {
          "base_uri": "https://localhost:8080/",
          "height": 0
        },
        "id": "e9YvLCBHJ9Xk",
        "outputId": "6accb2fa-ef22-4a74-a681-2bc376c24b99"
      },
      "execution_count": 120,
      "outputs": [
        {
          "output_type": "stream",
          "name": "stdout",
          "text": [
            "False\n",
            "True\n",
            "True\n"
          ]
        }
      ]
    },
    {
      "cell_type": "markdown",
      "source": [
        "The following are some of the operations and functions for manipulating strings"
      ],
      "metadata": {
        "id": "g5onjmEYLLLT"
      }
    },
    {
      "cell_type": "code",
      "source": [
        "my_name=\"shaista bibi\"\n",
        "print(my_name)"
      ],
      "metadata": {
        "colab": {
          "base_uri": "https://localhost:8080/",
          "height": 0
        },
        "id": "oqBQIYE_LMRE",
        "outputId": "15a00e66-2af5-4b14-aca0-680570f2debc"
      },
      "execution_count": 121,
      "outputs": [
        {
          "output_type": "stream",
          "name": "stdout",
          "text": [
            "shaista bibi\n"
          ]
        }
      ]
    },
    {
      "cell_type": "code",
      "source": [
        "# print last three characters\n",
        "print(my_name[9:])"
      ],
      "metadata": {
        "colab": {
          "base_uri": "https://localhost:8080/",
          "height": 0
        },
        "id": "fhbd2BAuLlTK",
        "outputId": "fa8f626c-b27d-434f-8e94-f98ca5653d41"
      },
      "execution_count": 122,
      "outputs": [
        {
          "output_type": "stream",
          "name": "stdout",
          "text": [
            "ibi\n"
          ]
        }
      ]
    },
    {
      "cell_type": "code",
      "source": [
        "# get the string length\n",
        "print(len(my_name))"
      ],
      "metadata": {
        "colab": {
          "base_uri": "https://localhost:8080/",
          "height": 0
        },
        "id": "jOfxAREWMKWr",
        "outputId": "05c9a158-06e2-49b1-db11-3eb43b825db5"
      },
      "execution_count": 123,
      "outputs": [
        {
          "output_type": "stream",
          "name": "stdout",
          "text": [
            "12\n"
          ]
        }
      ]
    },
    {
      "cell_type": "code",
      "source": [
        "# type casting int to str\n",
        "print(str(len(my_name)))\n",
        "print(\"Length of string is \" + str(len(my_name)))"
      ],
      "metadata": {
        "colab": {
          "base_uri": "https://localhost:8080/",
          "height": 0
        },
        "id": "m6POY-HVMZFb",
        "outputId": "a63bce5f-3bcf-441f-b466-dc1869a8ac5b"
      },
      "execution_count": 124,
      "outputs": [
        {
          "output_type": "stream",
          "name": "stdout",
          "text": [
            "12\n",
            "Length of string is 12\n"
          ]
        }
      ]
    },
    {
      "cell_type": "code",
      "source": [
        "# convert to upper case\n",
        "print(my_name.upper())"
      ],
      "metadata": {
        "colab": {
          "base_uri": "https://localhost:8080/",
          "height": 0
        },
        "id": "t6wUUyMQMmBm",
        "outputId": "7cba793c-25d4-429d-a924-73b3541c76f2"
      },
      "execution_count": 125,
      "outputs": [
        {
          "output_type": "stream",
          "name": "stdout",
          "text": [
            "SHAISTA BIBI\n"
          ]
        }
      ]
    },
    {
      "cell_type": "code",
      "source": [
        "# convert to lower case\n",
        "nick_name=\"SHEZO\"\n",
        "print(nick_name.lower())"
      ],
      "metadata": {
        "colab": {
          "base_uri": "https://localhost:8080/",
          "height": 0
        },
        "id": "uRde3NHMMu2D",
        "outputId": "031e1eb0-a696-4dca-b31d-bcdb4e62c012"
      },
      "execution_count": 126,
      "outputs": [
        {
          "output_type": "stream",
          "name": "stdout",
          "text": [
            "shezo\n"
          ]
        }
      ]
    },
    {
      "cell_type": "code",
      "source": [
        "# split the string into words\n",
        "my_string=\"fall,20,bsai,016\"\n",
        "word=my_string.split(',')\n",
        "print(word[0])\n",
        "print(word[1])\n",
        "print(word[2])\n",
        "print(word[3])"
      ],
      "metadata": {
        "colab": {
          "base_uri": "https://localhost:8080/",
          "height": 0
        },
        "id": "6-FbX36wNJX7",
        "outputId": "49e439e0-f22a-497a-ae4d-6062a2ff2ace"
      },
      "execution_count": 127,
      "outputs": [
        {
          "output_type": "stream",
          "name": "stdout",
          "text": [
            "fall\n",
            "20\n",
            "bsai\n",
            "016\n"
          ]
        }
      ]
    },
    {
      "cell_type": "code",
      "source": [
        " # replace \"bsai\" with \"AI\"\n",
        " rp=my_string.replace(\"bsai\",\"AI\")\n",
        " print(rp)\n",
        " # replace \",\" with \"-\"\n",
        " rp1=my_string.replace(\",\",\"-\")\n",
        " print(rp1)"
      ],
      "metadata": {
        "colab": {
          "base_uri": "https://localhost:8080/",
          "height": 0
        },
        "id": "yZWSQRG_Ommy",
        "outputId": "c6736923-581e-4232-8419-5f3878b5da34"
      },
      "execution_count": 128,
      "outputs": [
        {
          "output_type": "stream",
          "name": "stdout",
          "text": [
            "fall,20,AI,016\n",
            "fall-20-bsai-016\n"
          ]
        }
      ]
    },
    {
      "cell_type": "code",
      "source": [
        "# find the position of \"AI\" in string\n",
        "print(rp.find('AI'))"
      ],
      "metadata": {
        "colab": {
          "base_uri": "https://localhost:8080/",
          "height": 0
        },
        "id": "kJe40cXXPDTK",
        "outputId": "64069ed9-f6de-485b-9912-136cde44184c"
      },
      "execution_count": 129,
      "outputs": [
        {
          "output_type": "stream",
          "name": "stdout",
          "text": [
            "8\n"
          ]
        }
      ]
    },
    {
      "cell_type": "code",
      "source": [
        "# check if rp is a substring of rp1\n",
        "print(rp in rp1)"
      ],
      "metadata": {
        "colab": {
          "base_uri": "https://localhost:8080/",
          "height": 0
        },
        "id": "9LtBuRMtPosa",
        "outputId": "16809473-84b1-4d3c-c939-b68b5b1ecc2f"
      },
      "execution_count": 130,
      "outputs": [
        {
          "output_type": "stream",
          "name": "stdout",
          "text": [
            "False\n"
          ]
        }
      ]
    },
    {
      "cell_type": "code",
      "source": [
        "# equality comparison\n",
        "print(rp1==\"fall-20-bsai-016\")\n"
      ],
      "metadata": {
        "colab": {
          "base_uri": "https://localhost:8080/",
          "height": 0
        },
        "id": "K9IjhzJ5P1ch",
        "outputId": "cdc6279c-704b-4c81-db47-84cfeacf51ae"
      },
      "execution_count": 131,
      "outputs": [
        {
          "output_type": "stream",
          "name": "stdout",
          "text": [
            "True\n"
          ]
        }
      ]
    },
    {
      "cell_type": "code",
      "source": [
        "# inequality comparison\n",
        "print(rp1==\"AI\")\n",
        "#or\n",
        "print(rp1 < \"fall-20-bsai-016\")\n"
      ],
      "metadata": {
        "colab": {
          "base_uri": "https://localhost:8080/",
          "height": 0
        },
        "id": "aXFZGhsHP3wz",
        "outputId": "ce60cb30-4e40-4d89-b7e2-ca55248edc2c"
      },
      "execution_count": 132,
      "outputs": [
        {
          "output_type": "stream",
          "name": "stdout",
          "text": [
            "False\n",
            "False\n"
          ]
        }
      ]
    },
    {
      "cell_type": "code",
      "source": [
        "# string concatenation\n",
        "first_name=\"shaista\"\n",
        "last_name=\"bibi\"\n",
        "print(first_name,\" \" + last_name)"
      ],
      "metadata": {
        "colab": {
          "base_uri": "https://localhost:8080/",
          "height": 0
        },
        "id": "jlTpaE17P79l",
        "outputId": "821ed9eb-78fb-4d2e-8118-955d0d0d8289"
      },
      "execution_count": 133,
      "outputs": [
        {
          "output_type": "stream",
          "name": "stdout",
          "text": [
            "shaista  bibi\n"
          ]
        }
      ]
    },
    {
      "cell_type": "code",
      "source": [
        "# replicate the string 3 times\n",
        "print((my_string + \"\\n\")* 3) "
      ],
      "metadata": {
        "colab": {
          "base_uri": "https://localhost:8080/",
          "height": 0
        },
        "id": "ihb2qGoZP83z",
        "outputId": "68217809-db7c-4029-c57b-13e105fa2683"
      },
      "execution_count": 134,
      "outputs": [
        {
          "output_type": "stream",
          "name": "stdout",
          "text": [
            "fall,20,bsai,016\n",
            "fall,20,bsai,016\n",
            "fall,20,bsai,016\n",
            "\n"
          ]
        }
      ]
    },
    {
      "cell_type": "markdown",
      "source": [
        "#1.2 Compound Data Types\n",
        "The following examples show how to create and manipulate a list object\n"
      ],
      "metadata": {
        "id": "fMQ6benjRkuD"
      }
    },
    {
      "cell_type": "code",
      "source": [
        "my_list=[1,2,3,4,5]\n",
        "print(my_list)\n",
        "print(\"type of list\",type(my_list))\n",
        "print(\"length of list\",len(my_list))"
      ],
      "metadata": {
        "colab": {
          "base_uri": "https://localhost:8080/",
          "height": 0
        },
        "id": "C89W6DUgSRLi",
        "outputId": "a6f1d7a0-99ad-4118-a1c2-442753f13423"
      },
      "execution_count": 135,
      "outputs": [
        {
          "output_type": "stream",
          "name": "stdout",
          "text": [
            "[1, 2, 3, 4, 5]\n",
            "type of list <class 'list'>\n",
            "length of list 5\n"
          ]
        }
      ]
    },
    {
      "cell_type": "code",
      "source": [
        "# range[startvalue, endvalue, stepsize]\n",
        "my_list1=list(range(1,15,1))\n",
        "print(my_list1)"
      ],
      "metadata": {
        "colab": {
          "base_uri": "https://localhost:8080/",
          "height": 0
        },
        "id": "eSKwGw5ORgQi",
        "outputId": "ed64414e-1014-45f3-c15e-492e66a65ec8"
      },
      "execution_count": 136,
      "outputs": [
        {
          "output_type": "stream",
          "name": "stdout",
          "text": [
            "[1, 2, 3, 4, 5, 6, 7, 8, 9, 10, 11, 12, 13, 14]\n"
          ]
        }
      ]
    },
    {
      "cell_type": "code",
      "source": [
        "# get the third element of the list\n",
        "print(my_list1[2])"
      ],
      "metadata": {
        "colab": {
          "base_uri": "https://localhost:8080/",
          "height": 0
        },
        "id": "2MuQP_OrRzcb",
        "outputId": "b66e72bf-5fa5-43a6-d703-00d9f174260b"
      },
      "execution_count": 137,
      "outputs": [
        {
          "output_type": "stream",
          "name": "stdout",
          "text": [
            "3\n"
          ]
        }
      ]
    },
    {
      "cell_type": "code",
      "source": [
        "# get the first two elements\n",
        "print(my_list1[:2])"
      ],
      "metadata": {
        "colab": {
          "base_uri": "https://localhost:8080/",
          "height": 0
        },
        "id": "8YcaRbY1R2Hb",
        "outputId": "8fec2069-9eb9-4370-8a55-983a6d6d579e"
      },
      "execution_count": 138,
      "outputs": [
        {
          "output_type": "stream",
          "name": "stdout",
          "text": [
            "[1, 2]\n"
          ]
        }
      ]
    },
    {
      "cell_type": "code",
      "source": [
        "# get the last three elements of the list\n",
        "print(my_list1[11:])"
      ],
      "metadata": {
        "colab": {
          "base_uri": "https://localhost:8080/",
          "height": 0
        },
        "id": "G2wqZvQhR5Az",
        "outputId": "bb208915-240e-4e27-8b52-4b60f089b994"
      },
      "execution_count": 139,
      "outputs": [
        {
          "output_type": "stream",
          "name": "stdout",
          "text": [
            "[12, 13, 14]\n"
          ]
        }
      ]
    },
    {
      "cell_type": "code",
      "source": [
        "# get the number of elements in the list\n",
        "print(len(my_list1))"
      ],
      "metadata": {
        "colab": {
          "base_uri": "https://localhost:8080/",
          "height": 0
        },
        "id": "CIEQ9AUER6_Y",
        "outputId": "3a6660d9-51fc-4c2e-b42b-f6dbff9a726b"
      },
      "execution_count": 140,
      "outputs": [
        {
          "output_type": "stream",
          "name": "stdout",
          "text": [
            "14\n"
          ]
        }
      ]
    },
    {
      "cell_type": "code",
      "source": [
        "# sums up elements of the list\n",
        "print(sum(my_list1))"
      ],
      "metadata": {
        "colab": {
          "base_uri": "https://localhost:8080/",
          "height": 0
        },
        "id": "DlTC5WKhR7ix",
        "outputId": "7e9a69ae-989e-4199-d4c9-850a77458574"
      },
      "execution_count": 141,
      "outputs": [
        {
          "output_type": "stream",
          "name": "stdout",
          "text": [
            "105\n"
          ]
        }
      ]
    },
    {
      "cell_type": "code",
      "source": [
        "# insert 15 to end of the list\n",
        "my_list1.append(15)\n",
        "print(my_list1)"
      ],
      "metadata": {
        "colab": {
          "base_uri": "https://localhost:8080/",
          "height": 0
        },
        "id": "-uCw5reoUNZE",
        "outputId": "1eda3897-c27e-46e6-c86a-e891e99a7c2d"
      },
      "execution_count": 156,
      "outputs": [
        {
          "output_type": "stream",
          "name": "stdout",
          "text": [
            "[1, 2, 3, 4, 5, 6, 7, 8, 9, 10, 11, 12, 13, 15, 15]\n"
          ]
        }
      ]
    },
    {
      "cell_type": "code",
      "source": [
        "# remove last element of the list\n",
        "print(my_list1.pop())\n",
        "print(my_list1)"
      ],
      "metadata": {
        "colab": {
          "base_uri": "https://localhost:8080/",
          "height": 0
        },
        "id": "ulnTvereSBPJ",
        "outputId": "d542da1a-1144-461a-e04c-386530afc90a"
      },
      "execution_count": 157,
      "outputs": [
        {
          "output_type": "stream",
          "name": "stdout",
          "text": [
            "15\n",
            "[1, 2, 3, 4, 5, 6, 7, 8, 9, 10, 11, 12, 13, 15]\n"
          ]
        }
      ]
    },
    {
      "cell_type": "code",
      "source": [
        "# concatenate two lists\n",
        "list1=[1,2,3,4,5]\n",
        "list2=[6,7,8,9,10]\n",
        "print(list1 + list2)"
      ],
      "metadata": {
        "colab": {
          "base_uri": "https://localhost:8080/",
          "height": 0
        },
        "id": "D7F4p6t1SC5R",
        "outputId": "afa5e9db-9127-4c94-b8cd-82f1b4919777"
      },
      "execution_count": 158,
      "outputs": [
        {
          "output_type": "stream",
          "name": "stdout",
          "text": [
            "[1, 2, 3, 4, 5, 6, 7, 8, 9, 10]\n"
          ]
        }
      ]
    },
    {
      "cell_type": "code",
      "source": [
        "# replicate the list\n",
        "print(list1 *3)\n"
      ],
      "metadata": {
        "colab": {
          "base_uri": "https://localhost:8080/",
          "height": 0
        },
        "id": "QOxDC3uFSE1j",
        "outputId": "616682b4-a205-484c-a031-6d6254b54c23"
      },
      "execution_count": 159,
      "outputs": [
        {
          "output_type": "stream",
          "name": "stdout",
          "text": [
            "[1, 2, 3, 4, 5, 1, 2, 3, 4, 5, 1, 2, 3, 4, 5]\n"
          ]
        }
      ]
    },
    {
      "cell_type": "code",
      "source": [
        "# insert item 4 at index 2 \n",
        "list2.insert(2,4)\n",
        "print(list2)"
      ],
      "metadata": {
        "colab": {
          "base_uri": "https://localhost:8080/",
          "height": 0
        },
        "id": "nwSeHcNcSGv6",
        "outputId": "18ca2046-08da-4ad8-c581-bd8d4e267bbe"
      },
      "execution_count": 160,
      "outputs": [
        {
          "output_type": "stream",
          "name": "stdout",
          "text": [
            "[6, 7, 4, 8, 9, 10]\n"
          ]
        }
      ]
    },
    {
      "cell_type": "code",
      "source": [
        "# sort elements in descending order\n",
        "list2.sort(reverse=True)\n",
        "print(list2)"
      ],
      "metadata": {
        "colab": {
          "base_uri": "https://localhost:8080/",
          "height": 0
        },
        "id": "m3FKmb3xSIyq",
        "outputId": "dcf77e94-264b-4f12-8e9b-6a8c4bb5dde7"
      },
      "execution_count": 161,
      "outputs": [
        {
          "output_type": "stream",
          "name": "stdout",
          "text": [
            "[10, 9, 8, 7, 6, 4]\n"
          ]
        }
      ]
    },
    {
      "cell_type": "code",
      "source": [
        "mylist = ['this', 'is', 'a', 'list']\n",
        "print(mylist)\n",
        "print(type(mylist))\n"
      ],
      "metadata": {
        "colab": {
          "base_uri": "https://localhost:8080/",
          "height": 0
        },
        "id": "_wlfE0ajapU-",
        "outputId": "800247f4-92a8-446a-9801-d783e4ef5b92"
      },
      "execution_count": 162,
      "outputs": [
        {
          "output_type": "stream",
          "name": "stdout",
          "text": [
            "['this', 'is', 'a', 'list']\n",
            "<class 'list'>\n"
          ]
        }
      ]
    },
    {
      "cell_type": "code",
      "source": [
        "# check whether \"list\" is in mylist\n",
        "print('list' in mylist)"
      ],
      "metadata": {
        "colab": {
          "base_uri": "https://localhost:8080/",
          "height": 0
        },
        "id": "L5taiL9KXAGb",
        "outputId": "bf21747a-bc76-4fff-f8b9-f8da3f178883"
      },
      "execution_count": 163,
      "outputs": [
        {
          "output_type": "stream",
          "name": "stdout",
          "text": [
            "True\n"
          ]
        }
      ]
    },
    {
      "cell_type": "code",
      "source": [
        "# show the 3rd element of the list\n",
        "print(mylist[2])"
      ],
      "metadata": {
        "colab": {
          "base_uri": "https://localhost:8080/",
          "height": 0
        },
        "id": "gcv5P4p0aLw1",
        "outputId": "92092fa5-4d39-4819-ba81-150f274dc59b"
      },
      "execution_count": 164,
      "outputs": [
        {
          "output_type": "stream",
          "name": "stdout",
          "text": [
            "a\n"
          ]
        }
      ]
    },
    {
      "cell_type": "code",
      "source": [
        "# show the last two elements of the list\n",
        "print(mylist[2:])"
      ],
      "metadata": {
        "colab": {
          "base_uri": "https://localhost:8080/",
          "height": 0
        },
        "id": "vBblgJseaRKZ",
        "outputId": "dc38d74a-0938-4367-bdd6-81ff458cd65f"
      },
      "execution_count": 166,
      "outputs": [
        {
          "output_type": "stream",
          "name": "stdout",
          "text": [
            "['a', 'list']\n"
          ]
        }
      ]
    },
    {
      "cell_type": "code",
      "source": [
        "# insert element to end of the list\n",
        "mylist.append(\"too\")\n",
        "print(mylist)"
      ],
      "metadata": {
        "colab": {
          "base_uri": "https://localhost:8080/",
          "height": 0
        },
        "id": "iQi8OY84aSDJ",
        "outputId": "2c8a2c3c-89b1-4cc1-f609-66d0ba2c5674"
      },
      "execution_count": 167,
      "outputs": [
        {
          "output_type": "stream",
          "name": "stdout",
          "text": [
            "['this', 'is', 'a', 'list', 'too']\n"
          ]
        }
      ]
    },
    {
      "cell_type": "code",
      "source": [
        "# merge all elements of the list into a strin\n",
        "separator=\" \"\n",
        "print(separator.join(mylist))"
      ],
      "metadata": {
        "colab": {
          "base_uri": "https://localhost:8080/",
          "height": 0
        },
        "id": "I0fN1Yi4aVEL",
        "outputId": "63d76ef8-7445-4e78-8e59-c0f522c3e717"
      },
      "execution_count": 168,
      "outputs": [
        {
          "output_type": "stream",
          "name": "stdout",
          "text": [
            "this is a list too\n"
          ]
        }
      ]
    },
    {
      "cell_type": "code",
      "source": [
        "# remove element from list\n",
        "mylist.remove(\"too\")\n",
        "print(mylist)"
      ],
      "metadata": {
        "colab": {
          "base_uri": "https://localhost:8080/",
          "height": 0
        },
        "id": "e50HRQFhaV3j",
        "outputId": "d714e556-f368-493e-8ede-a35780e2712d"
      },
      "execution_count": 169,
      "outputs": [
        {
          "output_type": "stream",
          "name": "stdout",
          "text": [
            "['this', 'is', 'a', 'list']\n"
          ]
        }
      ]
    },
    {
      "cell_type": "markdown",
      "source": [
        "The following examples show how to create and manipulate a dictionary object\n"
      ],
      "metadata": {
        "id": "3gEZIFOXbu1A"
      }
    },
    {
      "cell_type": "code",
      "source": [
        "my_dict={'MI': \"Michigan\",\"MN\":\"Minnesota\",\"Tx\":\"Texas\",'CA':\"California\"}\n",
        "print(my_dict)\n",
        "print(type(my_dict))"
      ],
      "metadata": {
        "colab": {
          "base_uri": "https://localhost:8080/",
          "height": 0
        },
        "id": "4UJ38CZmbrPg",
        "outputId": "c42fcf32-eefb-44e2-ef7b-b5afb62eb0cd"
      },
      "execution_count": 170,
      "outputs": [
        {
          "output_type": "stream",
          "name": "stdout",
          "text": [
            "{'MI': 'Michigan', 'MN': 'Minnesota', 'Tx': 'Texas', 'CA': 'California'}\n",
            "<class 'dict'>\n"
          ]
        }
      ]
    },
    {
      "cell_type": "code",
      "source": [
        "# get the keys of the dictionary\n",
        "print(my_dict.keys())\n"
      ],
      "metadata": {
        "colab": {
          "base_uri": "https://localhost:8080/",
          "height": 0
        },
        "id": "_8ajcvW6cwN9",
        "outputId": "25b9f923-9f2f-4616-fa1e-2afeb03f60ec"
      },
      "execution_count": 171,
      "outputs": [
        {
          "output_type": "stream",
          "name": "stdout",
          "text": [
            "dict_keys(['MI', 'MN', 'Tx', 'CA'])\n"
          ]
        }
      ]
    },
    {
      "cell_type": "code",
      "source": [
        "# get the values of the dictionary\n",
        "print(my_dict.values())"
      ],
      "metadata": {
        "colab": {
          "base_uri": "https://localhost:8080/",
          "height": 0
        },
        "id": "rfT9_fxNcyjW",
        "outputId": "ec310f33-693f-453f-8743-5f5a9ab417d1"
      },
      "execution_count": 172,
      "outputs": [
        {
          "output_type": "stream",
          "name": "stdout",
          "text": [
            "dict_values(['Michigan', 'Minnesota', 'Texas', 'California'])\n"
          ]
        }
      ]
    },
    {
      "cell_type": "code",
      "source": [
        "# get number of key-value pairs\n",
        "print(len(my_dict))\n"
      ],
      "metadata": {
        "colab": {
          "base_uri": "https://localhost:8080/",
          "height": 0
        },
        "id": "6JlQX_Mcc0OO",
        "outputId": "da7647f5-48ef-4661-dd56-0c294ec6effb"
      },
      "execution_count": 173,
      "outputs": [
        {
          "output_type": "stream",
          "name": "stdout",
          "text": [
            "4\n"
          ]
        }
      ]
    },
    {
      "cell_type": "code",
      "source": [
        "keys = ['apples', 'oranges', 'bananas', 'cherries']\n",
        "values = [3, 4, 2, 10]\n",
        "fruits = dict(zip(keys, values))\n",
        "print(fruits)\n"
      ],
      "metadata": {
        "colab": {
          "base_uri": "https://localhost:8080/",
          "height": 0
        },
        "id": "fhmFp2vvdHaE",
        "outputId": "420cd24d-263d-41d4-b589-1590ed826192"
      },
      "execution_count": 174,
      "outputs": [
        {
          "output_type": "stream",
          "name": "stdout",
          "text": [
            "{'apples': 3, 'oranges': 4, 'bananas': 2, 'cherries': 10}\n"
          ]
        }
      ]
    },
    {
      "cell_type": "code",
      "source": [
        "print(sorted(fruits)) # sort keys of dictionary"
      ],
      "metadata": {
        "colab": {
          "base_uri": "https://localhost:8080/",
          "height": 0
        },
        "id": "NjnpCEi9dQ20",
        "outputId": "fd892d33-0dd2-4d34-e8ac-dbcb499121cf"
      },
      "execution_count": 175,
      "outputs": [
        {
          "output_type": "stream",
          "name": "stdout",
          "text": [
            "['apples', 'bananas', 'cherries', 'oranges']\n"
          ]
        }
      ]
    },
    {
      "cell_type": "code",
      "source": [
        "from operator import itemgetter\n",
        "print(sorted(fruits.items(), key=itemgetter(0))) # sort by key of dictionary"
      ],
      "metadata": {
        "colab": {
          "base_uri": "https://localhost:8080/",
          "height": 0
        },
        "id": "d9211joedXa2",
        "outputId": "b12756e2-91dc-4451-931e-b9f0e79735b7"
      },
      "execution_count": 176,
      "outputs": [
        {
          "output_type": "stream",
          "name": "stdout",
          "text": [
            "[('apples', 3), ('bananas', 2), ('cherries', 10), ('oranges', 4)]\n"
          ]
        }
      ]
    },
    {
      "cell_type": "code",
      "source": [
        "print(sorted(fruits.items(), key=itemgetter(1))) # sort by value of dictionary"
      ],
      "metadata": {
        "colab": {
          "base_uri": "https://localhost:8080/",
          "height": 0
        },
        "id": "nmmBg4gUdbJR",
        "outputId": "9b1f5fcd-5511-4c37-d4c9-d4cc80ebf0f4"
      },
      "execution_count": 177,
      "outputs": [
        {
          "output_type": "stream",
          "name": "stdout",
          "text": [
            "[('bananas', 2), ('apples', 3), ('oranges', 4), ('cherries', 10)]\n"
          ]
        }
      ]
    },
    {
      "cell_type": "markdown",
      "source": [
        "The following examples show how to create and manipulate a tuple object. Unlike a list, a tuple object is\n",
        "immutable, i.e., they cannot be modified after creation."
      ],
      "metadata": {
        "id": "deGDVqV4kOJ9"
      }
    },
    {
      "cell_type": "code",
      "source": [
        "MItuple = ('MI', 'Michigan', 'Lansing')\n",
        "CAtuple = ('CA', 'California', 'Sacramento')\n",
        "TXtuple = ('TX', 'Texas', 'Austin')\n",
        "print(MItuple)\n",
        "print(MItuple[1:])\n"
      ],
      "metadata": {
        "colab": {
          "base_uri": "https://localhost:8080/",
          "height": 0
        },
        "id": "KqBSprijdeDK",
        "outputId": "e17dde2f-0e5d-43b1-f71f-1828fa1786a0"
      },
      "execution_count": 179,
      "outputs": [
        {
          "output_type": "stream",
          "name": "stdout",
          "text": [
            "('MI', 'Michigan', 'Lansing')\n",
            "('Michigan', 'Lansing')\n"
          ]
        }
      ]
    },
    {
      "cell_type": "code",
      "source": [
        "# this will create a list of tuples\n",
        "states = [MItuple, CAtuple, TXtuple] \n",
        "print(states)"
      ],
      "metadata": {
        "colab": {
          "base_uri": "https://localhost:8080/",
          "height": 0
        },
        "id": "YoE4PU7UksVZ",
        "outputId": "176fc90d-c84f-49bf-c2f0-128b8423dcc4"
      },
      "execution_count": 180,
      "outputs": [
        {
          "output_type": "stream",
          "name": "stdout",
          "text": [
            "[('MI', 'Michigan', 'Lansing'), ('CA', 'California', 'Sacramento'), ('TX', 'Texas', 'Austin')]\n"
          ]
        }
      ]
    },
    {
      "cell_type": "code",
      "source": [
        "\n",
        "print(states[2])"
      ],
      "metadata": {
        "colab": {
          "base_uri": "https://localhost:8080/",
          "height": 0
        },
        "id": "pzVNY56okw3a",
        "outputId": "6b8e515b-83bc-4cb8-fe31-880ce1c4ced5"
      },
      "execution_count": 181,
      "outputs": [
        {
          "output_type": "stream",
          "name": "stdout",
          "text": [
            "('TX', 'Texas', 'Austin')\n"
          ]
        }
      ]
    },
    {
      "cell_type": "code",
      "source": [
        "print(states[2][:])\n",
        "print(states[2][1:])\n"
      ],
      "metadata": {
        "colab": {
          "base_uri": "https://localhost:8080/",
          "height": 0
        },
        "id": "KNpguw_olGCj",
        "outputId": "a95c7a15-aa80-4812-ee7d-560e5dac4110"
      },
      "execution_count": 182,
      "outputs": [
        {
          "output_type": "stream",
          "name": "stdout",
          "text": [
            "('TX', 'Texas', 'Austin')\n",
            "('Texas', 'Austin')\n"
          ]
        }
      ]
    },
    {
      "cell_type": "code",
      "source": [
        "# sort the states by their capital cities\n",
        "states.sort(key=lambda state: state[2]) \n",
        "print(states)"
      ],
      "metadata": {
        "colab": {
          "base_uri": "https://localhost:8080/",
          "height": 0
        },
        "id": "8GjT99jKlRK8",
        "outputId": "4de1ada9-4259-41f1-cba7-ccc6c2cd1d52"
      },
      "execution_count": 183,
      "outputs": [
        {
          "output_type": "stream",
          "name": "stdout",
          "text": [
            "[('TX', 'Texas', 'Austin'), ('MI', 'Michigan', 'Lansing'), ('CA', 'California', 'Sacramento')]\n"
          ]
        }
      ]
    },
    {
      "cell_type": "markdown",
      "source": [
        "#1.3 Control Flow Statements\n"
      ],
      "metadata": {
        "id": "9ztEXOwpleEC"
      }
    },
    {
      "cell_type": "markdown",
      "source": [
        "Similar to other programming languages, the control flow statements in Python include if, for, and while\n",
        "statements. Examples on how to use these statements are shown below.\n"
      ],
      "metadata": {
        "id": "fixnH041lhLe"
      }
    },
    {
      "cell_type": "code",
      "source": [
        "# using if-else statement\n",
        "x=18\n",
        "if x%2==0:\n",
        "  print(\"x =\", x, \"is even\")\n",
        "else:\n",
        "   print(\"x =\", x, \"is odd\")"
      ],
      "metadata": {
        "colab": {
          "base_uri": "https://localhost:8080/",
          "height": 0
        },
        "id": "zJATqpcSlaN9",
        "outputId": "f8dbb1bf-66d3-44e4-8f5c-e7cb1502d37b"
      },
      "execution_count": 184,
      "outputs": [
        {
          "output_type": "stream",
          "name": "stdout",
          "text": [
            "x = 18 is even\n"
          ]
        }
      ]
    },
    {
      "cell_type": "code",
      "source": [
        "if x > 0:\n",
        " print(\"x =\", x, \"is positive\")\n",
        "elif x < 0:\n",
        " print(\"x =\", x, \"is negative\")\n",
        "else:\n",
        " print(\"x =\", x, \"is neither positive nor negative\")\n"
      ],
      "metadata": {
        "colab": {
          "base_uri": "https://localhost:8080/",
          "height": 0
        },
        "id": "EJ-Osbkdl6xU",
        "outputId": "7873de55-2778-4ab6-9f78-dbbfc1ae4aea"
      },
      "execution_count": 185,
      "outputs": [
        {
          "output_type": "stream",
          "name": "stdout",
          "text": [
            "x = 18 is positive\n"
          ]
        }
      ]
    },
    {
      "cell_type": "code",
      "source": [
        " #using for loop with a list\n",
        " mylist=[1,2,3,4,5,6,7,8,9,10]\n",
        " for i in mylist:\n",
        "   print(i)\n"
      ],
      "metadata": {
        "colab": {
          "base_uri": "https://localhost:8080/",
          "height": 0
        },
        "id": "9jwyc1h9mGQ7",
        "outputId": "e93f8f41-6268-4288-ea5e-01754355e04f"
      },
      "execution_count": 187,
      "outputs": [
        {
          "output_type": "stream",
          "name": "stdout",
          "text": [
            "1\n",
            "2\n",
            "3\n",
            "4\n",
            "5\n",
            "6\n",
            "7\n",
            "8\n",
            "9\n",
            "10\n"
          ]
        }
      ]
    },
    {
      "cell_type": "code",
      "source": [
        "# using for loop with list of tuples\n",
        "states = [('MI', 'Michigan', 'Lansing'),('CA', 'California', 'Sacramento'),\n",
        " ('TX', 'Texas', 'Austin')]\n",
        "for stat in states:\n",
        "  print(stat)"
      ],
      "metadata": {
        "colab": {
          "base_uri": "https://localhost:8080/",
          "height": 0
        },
        "id": "TgnKE3DhmsQK",
        "outputId": "53c6335e-8427-4994-adff-6047043d018d"
      },
      "execution_count": 188,
      "outputs": [
        {
          "output_type": "stream",
          "name": "stdout",
          "text": [
            "('MI', 'Michigan', 'Lansing')\n",
            "('CA', 'California', 'Sacramento')\n",
            "('TX', 'Texas', 'Austin')\n"
          ]
        }
      ]
    },
    {
      "cell_type": "code",
      "source": [
        "sorted_capitals = [state[2] for state in states]\n",
        "sorted_capitals.sort()\n",
        "print(sorted_capitals)\n"
      ],
      "metadata": {
        "colab": {
          "base_uri": "https://localhost:8080/",
          "height": 0
        },
        "id": "03m50hp4nFse",
        "outputId": "87265ecc-b7ab-4763-c14f-7214a9024cf8"
      },
      "execution_count": 189,
      "outputs": [
        {
          "output_type": "stream",
          "name": "stdout",
          "text": [
            "['Austin', 'Lansing', 'Sacramento']\n"
          ]
        }
      ]
    },
    {
      "cell_type": "code",
      "source": [
        "# using for loop with dictionary\n",
        "fruits = {'apples': 3, 'oranges': 4, 'bananas': 2, 'cherries': 10}\n",
        "fruitnames = [k for (k,v) in fruits.items()]\n",
        "print(fruitnames)\n"
      ],
      "metadata": {
        "colab": {
          "base_uri": "https://localhost:8080/",
          "height": 0
        },
        "id": "9YKD3fhgnITe",
        "outputId": "700cd86b-ce5e-4263-863f-cdde2cbbcdcf"
      },
      "execution_count": 191,
      "outputs": [
        {
          "output_type": "stream",
          "name": "stdout",
          "text": [
            "['apples', 'oranges', 'bananas', 'cherries']\n"
          ]
        }
      ]
    },
    {
      "cell_type": "code",
      "source": [
        "# using while loop\n",
        "mylist = list(range(-10,10))\n",
        "print(mylist)\n",
        "i = 0\n",
        "while (mylist[i] < 0):\n",
        " i = i + 1\n",
        " \n",
        "print(\"First non-negative number:\", mylist[i])\n"
      ],
      "metadata": {
        "colab": {
          "base_uri": "https://localhost:8080/",
          "height": 0
        },
        "id": "RqfpM1JanSy2",
        "outputId": "734f35a6-8ba9-404c-ca55-254952c37f0d"
      },
      "execution_count": 192,
      "outputs": [
        {
          "output_type": "stream",
          "name": "stdout",
          "text": [
            "[-10, -9, -8, -7, -6, -5, -4, -3, -2, -1, 0, 1, 2, 3, 4, 5, 6, 7, 8, 9]\n",
            "First non-negative number: 0\n"
          ]
        }
      ]
    },
    {
      "cell_type": "markdown",
      "source": [
        "#.4 User-Defined Functions\n",
        "You can create your own functions in Python, which can be named or unnamed. Unnamed functions are defined\n",
        "using the lambda keyword as shown in the previous example for sorting a list of tuples."
      ],
      "metadata": {
        "id": "XPMajnSBnfQM"
      }
    },
    {
      "cell_type": "code",
      "source": [
        "# example of an unnamed quadratic fun\n",
        "myfunc = lambda x: 3*x**2 - 2*x + 3 \n",
        "print(myfunc(2))\n"
      ],
      "metadata": {
        "colab": {
          "base_uri": "https://localhost:8080/",
          "height": 0
        },
        "id": "h8HqOU0mnbMZ",
        "outputId": "1c686455-1cbe-4962-a3ab-f93021fb6ac7"
      },
      "execution_count": 193,
      "outputs": [
        {
          "output_type": "stream",
          "name": "stdout",
          "text": [
            "11\n"
          ]
        }
      ]
    },
    {
      "cell_type": "code",
      "source": [
        "def calculate(a,b):\n",
        "  add=a+b\n",
        "  print(\"addition =\",add)\n",
        "  sub=a-b\n",
        "  print(\"subtraction =\",sub)\n",
        "  div=a/b\n",
        "  print(\"division =\",div)\n",
        "calculate(10,4)\n"
      ],
      "metadata": {
        "colab": {
          "base_uri": "https://localhost:8080/",
          "height": 0
        },
        "id": "R-iWIc0NnxZ-",
        "outputId": "13a0a768-8b40-443a-9c00-b1f886717b81"
      },
      "execution_count": 194,
      "outputs": [
        {
          "output_type": "stream",
          "name": "stdout",
          "text": [
            "addition = 14\n",
            "subtraction = 6\n",
            "division = 2.5\n"
          ]
        }
      ]
    },
    {
      "cell_type": "code",
      "source": [
        "import math\n",
        "# The following function will discard missing values from a list\n",
        "def discard(inlist, sortFlag=False): # default value for sortFlag is False \n",
        " outlist = []\n",
        " for item in inlist:\n",
        "  if not math.isnan(item):\n",
        "     outlist.append(item)\n",
        " \n",
        " if sortFlag:\n",
        "     outlist.sort()\n",
        " return outlist\n",
        "mylist = [12, math.nan, 23, -11, 45, math.nan, 71]\n",
        "print(discard(mylist,True)) \n"
      ],
      "metadata": {
        "colab": {
          "base_uri": "https://localhost:8080/",
          "height": 0
        },
        "id": "oNBiSHCzoeU4",
        "outputId": "66e940f8-df30-4ea3-ff8a-86acac099bb4"
      },
      "execution_count": 196,
      "outputs": [
        {
          "output_type": "stream",
          "name": "stdout",
          "text": [
            "[-11, 12, 23, 45, 71]\n"
          ]
        }
      ]
    },
    {
      "cell_type": "markdown",
      "source": [
        "#1.5 File I/O\n",
        "You can read and write data from a list or other objects to a file.\n"
      ],
      "metadata": {
        "id": "HS1qqhuWqOEg"
      }
    },
    {
      "cell_type": "code",
      "source": [
        "states = [('MI', 'Michigan', 'Lansing'),('CA', 'California', 'Sacramento'),\n",
        " ('TX', 'Texas', 'Austin'), ('MN', 'Minnesota', 'St Paul')]\n",
        "with open('states.txt', 'w') as f:\n",
        " f.write('\\n'.join('%s,%s,%s' % state for state in states))\n"
      ],
      "metadata": {
        "id": "2dA7Ixg1qP6o"
      },
      "execution_count": 197,
      "outputs": []
    },
    {
      "cell_type": "code",
      "source": [
        "with open('states.txt', 'r') as f:\n",
        " for line in f:\n",
        "   fields = line.split(sep=',') # split each line into its respectivefields\n",
        "   print('State=',fields[1],'(',fields[0],')','Capital:', fields[2])"
      ],
      "metadata": {
        "colab": {
          "base_uri": "https://localhost:8080/",
          "height": 0
        },
        "id": "qOljkwFUqcnl",
        "outputId": "a1c356eb-c930-4ee7-8243-305c9c930b3f"
      },
      "execution_count": 199,
      "outputs": [
        {
          "output_type": "stream",
          "name": "stdout",
          "text": [
            "State= Michigan ( MI ) Capital: Lansing\n",
            "\n",
            "State= California ( CA ) Capital: Sacramento\n",
            "\n",
            "State= Texas ( TX ) Capital: Austin\n",
            "\n",
            "State= Minnesota ( MN ) Capital: St Paul\n"
          ]
        }
      ]
    }
  ],
  "metadata": {
    "colab": {
      "provenance": []
    },
    "kernelspec": {
      "display_name": "Python 3",
      "name": "python3"
    },
    "language_info": {
      "name": "python"
    }
  },
  "nbformat": 4,
  "nbformat_minor": 0
}