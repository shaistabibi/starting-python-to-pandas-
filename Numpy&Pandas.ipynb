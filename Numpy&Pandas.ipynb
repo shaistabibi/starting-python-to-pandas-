{
  "nbformat": 4,
  "nbformat_minor": 0,
  "metadata": {
    "colab": {
      "provenance": []
    },
    "kernelspec": {
      "name": "python3",
      "display_name": "Python 3"
    },
    "language_info": {
      "name": "python"
    }
  },
  "cells": [
    {
      "cell_type": "markdown",
      "source": [
        "#**Creating ndarray**"
      ],
      "metadata": {
        "id": "aaRbUIDBMZFQ"
      }
    },
    {
      "cell_type": "markdown",
      "source": [
        "An ndarray can be created from a list or a tuple object as shown in the example below.it is possible to create a 1-dimensional or multi-dimensional array from the list object as well as tuples."
      ],
      "metadata": {
        "id": "vbZzs2E9Mji_"
      }
    },
    {
      "cell_type": "code",
      "execution_count": 174,
      "metadata": {
        "colab": {
          "base_uri": "https://localhost:8080/",
          "height": 0
        },
        "id": "90S6dubZLCQ1",
        "outputId": "b5fd9024-7fe4-4e73-d400-caefebbee5a4"
      },
      "outputs": [
        {
          "output_type": "stream",
          "name": "stdout",
          "text": [
            "[1 2 3 4 5]\n",
            "type of dimensional : 1\n",
            "shape of array : (5,)\n",
            "size or element of array: 5\n",
            "type of array : int64\n"
          ]
        }
      ],
      "source": [
        "import numpy as np\n",
        "arr1=np.array([1,2,3,4,5])#create one dimensional array using numpy libarray\n",
        "print(arr1)\n",
        "print(\"type of dimensional :\",arr1.ndim)#print type of dimensional\n",
        "print(\"shape of array :\",arr1.shape)#print shape(row,column) of array\n",
        "print(\"size or element of array:\",arr1.size)#size or element of  array which count number of elemnt in array\n",
        "print(\"type of array :\",arr1.dtype)#print whcih data type in array like [float or integer type data]\n"
      ]
    },
    {
      "cell_type": "code",
      "source": [
        "#create 2 dimantional array\n",
        "arr2=np.array([[1,2],[3,4],[5,6],[7,8]])\n",
        "print(\"2 dimensional arry : \",arr2)# print array\n",
        "print(\"shape of array :\",arr2.shape)#print shape(row,column) of array\n",
        "print(\"size of array : \",arr2.size)#size or element of  array which count number of elemnt in array\n",
        "print(\"type of array :\",arr2.dtype)#print which data type in array like [float or integer type data]"
      ],
      "metadata": {
        "colab": {
          "base_uri": "https://localhost:8080/",
          "height": 0
        },
        "id": "WEwl52GXkX5Q",
        "outputId": "37ec022f-6f8a-415c-c4a5-0a3e0231a9ae"
      },
      "execution_count": 175,
      "outputs": [
        {
          "output_type": "stream",
          "name": "stdout",
          "text": [
            "2 dimensional arry :  [[1 2]\n",
            " [3 4]\n",
            " [5 6]\n",
            " [7 8]]\n",
            "shape of array : (4, 2)\n",
            "size of array :  8\n",
            "type of array : int64\n"
          ]
        }
      ]
    },
    {
      "cell_type": "code",
      "source": [
        "# create n-dimensional array from tuple\n",
        "arr_tuple=np.array([(1,'s','h','a','i','s','t','a',5.10),(4,'b','i','b','i',5,86.0,9,1)])\n",
        "print(arr_tuple)#print array\n",
        "print(\"shape of array :\",arr_tuple.shape)#print shape(row,column) of array\n",
        "print(\"size of array : \",arr_tuple.size)#size or element of  array which count number of elemnt in array\n",
        "print(\"type of array :\",arr_tuple.dtype)#print which data type in array like [float or integer type data]\n",
        "\n",
        "\n"
      ],
      "metadata": {
        "colab": {
          "base_uri": "https://localhost:8080/",
          "height": 0
        },
        "id": "u39F0eYfmLdE",
        "outputId": "c66685c9-8b69-4a33-b37c-09f3a58db597"
      },
      "execution_count": 176,
      "outputs": [
        {
          "output_type": "stream",
          "name": "stdout",
          "text": [
            "[['1' 's' 'h' 'a' 'i' 's' 't' 'a' '5.1']\n",
            " ['4' 'b' 'i' 'b' 'i' '5' '86.0' '9' '1']]\n",
            "shape of array : (2, 9)\n",
            "size of array :  18\n",
            "type of array : <U32\n"
          ]
        }
      ]
    },
    {
      "cell_type": "markdown",
      "source": [
        "There are Also Built-in function in numpy to create the ndarray"
      ],
      "metadata": {
        "id": "35umPoWyoZPr"
      }
    },
    {
      "cell_type": "code",
      "source": [
        "#Random function\n",
        "print(\"\\nArray of Random Numbers from a uniform distribution\")\n",
        "print(np.random.rand(5))#print random 5 numbers from a uniform distribution\n"
      ],
      "metadata": {
        "colab": {
          "base_uri": "https://localhost:8080/",
          "height": 0
        },
        "id": "kr_jR6Unnl20",
        "outputId": "d5a1c520-deb8-4883-cda9-a6fe133b1611"
      },
      "execution_count": 177,
      "outputs": [
        {
          "output_type": "stream",
          "name": "stdout",
          "text": [
            "\n",
            "Array of Random Numbers from a uniform distribution\n",
            "[0.29161098 0.11340971 0.65232305 0.37394653 0.11387516]\n"
          ]
        }
      ]
    },
    {
      "cell_type": "code",
      "source": [
        "print(\"\\nArray of integer between -10 and 10 with step size of 2\")\n",
        "print(np.arange(-10,10,2))"
      ],
      "metadata": {
        "colab": {
          "base_uri": "https://localhost:8080/",
          "height": 0
        },
        "id": "bsOCBXLKSLp4",
        "outputId": "565ca5b9-e27b-42f8-8b48-ee924fae75b3"
      },
      "execution_count": 178,
      "outputs": [
        {
          "output_type": "stream",
          "name": "stdout",
          "text": [
            "\n",
            "Array of integer between -10 and 10 with step size of 2\n",
            "[-10  -8  -6  -4  -2   0   2   4   6   8]\n"
          ]
        }
      ]
    },
    {
      "cell_type": "code",
      "source": [
        "print(\"\\n 2- dimensional array of integer from 0 to 11\")\n",
        "print(np.arange(0,12)) #print value from 0 to 11\n"
      ],
      "metadata": {
        "colab": {
          "base_uri": "https://localhost:8080/",
          "height": 0
        },
        "id": "m6WQYAd9SSqY",
        "outputId": "c3721e04-2cf7-4364-a701-1483773b7fcc"
      },
      "execution_count": 179,
      "outputs": [
        {
          "output_type": "stream",
          "name": "stdout",
          "text": [
            "\n",
            " 2- dimensional array of integer from 0 to 11\n",
            "[ 0  1  2  3  4  5  6  7  8  9 10 11]\n"
          ]
        }
      ]
    },
    {
      "cell_type": "code",
      "source": [
        "print(\"\\n 2- dimensional array of integer from 0 to 11\")\n",
        "print(np.arange(0,12).reshape(3,4)) #print value from 0 to 11 and then reshape into array()\n"
      ],
      "metadata": {
        "colab": {
          "base_uri": "https://localhost:8080/",
          "height": 0
        },
        "id": "fJgmfBqYSWCG",
        "outputId": "9101c942-ab23-4ebd-cbc3-22ddd051858a"
      },
      "execution_count": 180,
      "outputs": [
        {
          "output_type": "stream",
          "name": "stdout",
          "text": [
            "\n",
            " 2- dimensional array of integer from 0 to 11\n",
            "[[ 0  1  2  3]\n",
            " [ 4  5  6  7]\n",
            " [ 8  9 10 11]]\n"
          ]
        }
      ]
    },
    {
      "cell_type": "code",
      "source": [
        "print(\"\\n Array of values between 0 and 1 split into 10 equaly spaced values \")\n",
        "print(np.linspace(0,1,10))\n"
      ],
      "metadata": {
        "colab": {
          "base_uri": "https://localhost:8080/",
          "height": 0
        },
        "id": "Vaq_NHhYSZVW",
        "outputId": "0b60b409-1d16-4ab2-e1cc-bb50a7351a3e"
      },
      "execution_count": 181,
      "outputs": [
        {
          "output_type": "stream",
          "name": "stdout",
          "text": [
            "\n",
            " Array of values between 0 and 1 split into 10 equaly spaced values \n",
            "[0.         0.11111111 0.22222222 0.33333333 0.44444444 0.55555556\n",
            " 0.66666667 0.77777778 0.88888889 1.        ]\n"
          ]
        }
      ]
    },
    {
      "cell_type": "code",
      "source": [
        "print(\"\\n Array of values from 10^-3 to 10^3\")\n",
        "print(np.logspace(-3,3,7))"
      ],
      "metadata": {
        "colab": {
          "base_uri": "https://localhost:8080/",
          "height": 0
        },
        "id": "LuJFngHxScMm",
        "outputId": "f35ba00a-9dce-4f79-a655-4ac53bec4316"
      },
      "execution_count": 182,
      "outputs": [
        {
          "output_type": "stream",
          "name": "stdout",
          "text": [
            "\n",
            " Array of values from 10^-3 to 10^3\n",
            "[1.e-03 1.e-02 1.e-01 1.e+00 1.e+01 1.e+02 1.e+03]\n"
          ]
        }
      ]
    },
    {
      "cell_type": "code",
      "source": [
        "print(\"A 2*3 matrix of zeros\")\n",
        "print(np.zeros((2,3))) # print 2 dimensional array of zero matrix of 2 rows and 3 columns"
      ],
      "metadata": {
        "id": "a2RGzOvrpmJr",
        "colab": {
          "base_uri": "https://localhost:8080/",
          "height": 0
        },
        "outputId": "59cff082-fb24-4cb3-93fe-515da7c5cc0d"
      },
      "execution_count": 183,
      "outputs": [
        {
          "output_type": "stream",
          "name": "stdout",
          "text": [
            "A 2*3 matrix of zeros\n",
            "[[0. 0. 0.]\n",
            " [0. 0. 0.]]\n"
          ]
        }
      ]
    },
    {
      "cell_type": "code",
      "source": [
        "print(\"A 3*2 matrix of ones\")\n",
        "print(np.ones((3,2))) # print 2 dimensional array of ones matrix of 3 rows and 2 columns"
      ],
      "metadata": {
        "colab": {
          "base_uri": "https://localhost:8080/",
          "height": 0
        },
        "id": "ygf1KsbiRHfr",
        "outputId": "c57f3691-5024-473e-c9ab-aed9987aa42b"
      },
      "execution_count": 184,
      "outputs": [
        {
          "output_type": "stream",
          "name": "stdout",
          "text": [
            "A 3*2 matrix of ones\n",
            "[[1. 1.]\n",
            " [1. 1.]\n",
            " [1. 1.]]\n"
          ]
        }
      ]
    },
    {
      "cell_type": "code",
      "source": [
        "print(\"A 3*3 matrix of identity\")\n",
        "print(np.eye(3)) # print 2 dimensional array of identity matrix of 3 rows and 3 columns "
      ],
      "metadata": {
        "colab": {
          "base_uri": "https://localhost:8080/",
          "height": 0
        },
        "id": "HqJxGF-_RZp9",
        "outputId": "a7c31eb1-ee35-4404-d0f6-ca3843ca0802"
      },
      "execution_count": 185,
      "outputs": [
        {
          "output_type": "stream",
          "name": "stdout",
          "text": [
            "A 3*3 matrix of identity\n",
            "[[1. 0. 0.]\n",
            " [0. 1. 0.]\n",
            " [0. 0. 1.]]\n"
          ]
        }
      ]
    },
    {
      "cell_type": "markdown",
      "source": [
        "#**Element-Wise Operation**"
      ],
      "metadata": {
        "id": "quPSB0IuSj6v"
      }
    },
    {
      "cell_type": "markdown",
      "source": [
        "we can apply Standerd Operation such as addition and Multiplication on each Element of the ndarray"
      ],
      "metadata": {
        "id": "QnxQ_lYdSqm6"
      }
    },
    {
      "cell_type": "code",
      "source": [
        "#create 1-dimensional array\n",
        "x=np.array([1,2,3,4,5])\n",
        "print(\"1-dimensional array :\",x)"
      ],
      "metadata": {
        "colab": {
          "base_uri": "https://localhost:8080/",
          "height": 0
        },
        "id": "wjgRWwwsR7oc",
        "outputId": "92d45c7b-d811-4e3a-df77-fff8f0440e63"
      },
      "execution_count": 186,
      "outputs": [
        {
          "output_type": "stream",
          "name": "stdout",
          "text": [
            "1-dimensional array : [1 2 3 4 5]\n"
          ]
        }
      ]
    },
    {
      "cell_type": "code",
      "source": [
        "#Addition\n",
        "print(\"Addition of each element of Array \\n\",x+1)#Addition of each element of Array"
      ],
      "metadata": {
        "colab": {
          "base_uri": "https://localhost:8080/",
          "height": 0
        },
        "id": "OuJoxDjgTVnY",
        "outputId": "dad2393f-33e8-4319-d96c-1988bc8c5c47"
      },
      "execution_count": 187,
      "outputs": [
        {
          "output_type": "stream",
          "name": "stdout",
          "text": [
            "Addition of each element of Array \n",
            " [2 3 4 5 6]\n"
          ]
        }
      ]
    },
    {
      "cell_type": "code",
      "source": [
        "#subtraction\n",
        "print(\"subtraction of each element of Array \\n\",x-1)#subtraction of each element of Array"
      ],
      "metadata": {
        "colab": {
          "base_uri": "https://localhost:8080/",
          "height": 0
        },
        "id": "fP5jHhkDTquO",
        "outputId": "07d86f69-3eb5-4d68-fb81-93c72c6440d7"
      },
      "execution_count": 188,
      "outputs": [
        {
          "output_type": "stream",
          "name": "stdout",
          "text": [
            "subtraction of each element of Array \n",
            " [0 1 2 3 4]\n"
          ]
        }
      ]
    },
    {
      "cell_type": "code",
      "source": [
        "#Multiplication\n",
        "print(\"Multiply by 2 with each element of Array \\n\",x*2)#Multiply with each element of Array"
      ],
      "metadata": {
        "colab": {
          "base_uri": "https://localhost:8080/",
          "height": 0
        },
        "id": "SpVoQKorT5XN",
        "outputId": "fadb2647-90c7-4421-80fa-e485af352b43"
      },
      "execution_count": 189,
      "outputs": [
        {
          "output_type": "stream",
          "name": "stdout",
          "text": [
            "Multiply by 2 with each element of Array \n",
            " [ 2  4  6  8 10]\n"
          ]
        }
      ]
    },
    {
      "cell_type": "code",
      "source": [
        "#Division\n",
        "print(\"Divid by 2 with each element of Array \\n\",x/2)#Division by 2 with each element of Array"
      ],
      "metadata": {
        "colab": {
          "base_uri": "https://localhost:8080/",
          "height": 0
        },
        "id": "-OBQMXl1UWC_",
        "outputId": "d7e10735-1b26-4178-c6e0-b46b73e208ca"
      },
      "execution_count": 190,
      "outputs": [
        {
          "output_type": "stream",
          "name": "stdout",
          "text": [
            "Divid by 2 with each element of Array \n",
            " [0.5 1.  1.5 2.  2.5]\n"
          ]
        }
      ]
    },
    {
      "cell_type": "code",
      "source": [
        "#Square\n",
        "print(\"Square ofeach element of Array \\n\",x**2)#Square of each element of Array"
      ],
      "metadata": {
        "colab": {
          "base_uri": "https://localhost:8080/",
          "height": 0
        },
        "id": "tp3Qb8isUmEy",
        "outputId": "e9d12797-e60e-4a48-abaf-567b9d997231"
      },
      "execution_count": 191,
      "outputs": [
        {
          "output_type": "stream",
          "name": "stdout",
          "text": [
            "Square ofeach element of Array \n",
            " [ 1  4  9 16 25]\n"
          ]
        }
      ]
    },
    {
      "cell_type": "code",
      "source": [
        "#Module\n",
        "print(\"Module of each element of Array \\n\",x%2)#Module of each element of Array"
      ],
      "metadata": {
        "id": "RiWVhdaaU1lJ",
        "colab": {
          "base_uri": "https://localhost:8080/",
          "height": 0
        },
        "outputId": "88fe62f2-b86b-4edd-92a6-255146229b7a"
      },
      "execution_count": 192,
      "outputs": [
        {
          "output_type": "stream",
          "name": "stdout",
          "text": [
            "Module of each element of Array \n",
            " [1 0 1 0 1]\n"
          ]
        }
      ]
    },
    {
      "cell_type": "code",
      "source": [
        "#Double division\n",
        "print(\"Double division by 2  each element of Array \\n\",x//2)#Double division by 2 each element of Array"
      ],
      "metadata": {
        "colab": {
          "base_uri": "https://localhost:8080/",
          "height": 0
        },
        "id": "V-eaoNUBU-pf",
        "outputId": "bbaa4774-5f6f-4d6f-d5df-11eb4128ce4b"
      },
      "execution_count": 193,
      "outputs": [
        {
          "output_type": "stream",
          "name": "stdout",
          "text": [
            "Double division by 2  each element of Array \n",
            " [0 1 1 2 2]\n"
          ]
        }
      ]
    },
    {
      "cell_type": "code",
      "source": [
        "#create 1-dimensional array\n",
        "x=np.array([1,2,3,4,5])\n",
        "y=np.array([6,7,8,9,10])\n",
        "print(\"1-dimensional 1st array\\n\",x)\n",
        "print(\"1-dimensional 2nd array\\n\",y)"
      ],
      "metadata": {
        "colab": {
          "base_uri": "https://localhost:8080/",
          "height": 0
        },
        "id": "lP_ls6zdVTlu",
        "outputId": "47902be1-76f3-4a75-aba8-df43215f2860"
      },
      "execution_count": 194,
      "outputs": [
        {
          "output_type": "stream",
          "name": "stdout",
          "text": [
            "1-dimensional 1st array\n",
            " [1 2 3 4 5]\n",
            "1-dimensional 2nd array\n",
            " [ 6  7  8  9 10]\n"
          ]
        }
      ]
    },
    {
      "cell_type": "code",
      "source": [
        "# Element-wise Addition\n",
        "print(\"Addition of each element of both Array \\n\",x+y)#Addition of each element of Array"
      ],
      "metadata": {
        "colab": {
          "base_uri": "https://localhost:8080/",
          "height": 0
        },
        "id": "pv__XrbLVv0z",
        "outputId": "aa5ab5c4-81cf-4afd-e07d-2c203282a279"
      },
      "execution_count": 195,
      "outputs": [
        {
          "output_type": "stream",
          "name": "stdout",
          "text": [
            "Addition of each element of both Array \n",
            " [ 7  9 11 13 15]\n"
          ]
        }
      ]
    },
    {
      "cell_type": "code",
      "source": [
        "# Element-wise subtraction\n",
        "print(\"subtraction of each element of Array y \\n\",x-y)#subtraction of each element of Array"
      ],
      "metadata": {
        "colab": {
          "base_uri": "https://localhost:8080/",
          "height": 0
        },
        "id": "gtvexdVuV3dt",
        "outputId": "f66848b7-18d4-4fe3-cedd-d3e155e9bfe5"
      },
      "execution_count": 196,
      "outputs": [
        {
          "output_type": "stream",
          "name": "stdout",
          "text": [
            "subtraction of each element of Array y \n",
            " [-5 -5 -5 -5 -5]\n"
          ]
        }
      ]
    },
    {
      "cell_type": "code",
      "source": [
        "# Element-wise Multiplication\n",
        "print(\"Multiple with each element of Array of x and y \\n\",x*y)#Multiply with each element of Array"
      ],
      "metadata": {
        "colab": {
          "base_uri": "https://localhost:8080/",
          "height": 0
        },
        "id": "WOX_2VCIV6L3",
        "outputId": "fb4bc90d-e010-4fe3-d73c-7b9894072aa1"
      },
      "execution_count": 197,
      "outputs": [
        {
          "output_type": "stream",
          "name": "stdout",
          "text": [
            "Multiple with each element of Array of x and y \n",
            " [ 6 14 24 36 50]\n"
          ]
        }
      ]
    },
    {
      "cell_type": "code",
      "source": [
        "# Element-wise Division\n",
        "print(\"1st array Divid by with each element of 2nd Array \\n\",x/y)#1st array Divid by with each element of 2nd Array "
      ],
      "metadata": {
        "colab": {
          "base_uri": "https://localhost:8080/",
          "height": 0
        },
        "id": "1oDsyIn8V8kL",
        "outputId": "565db6e1-ed1a-4c24-b0d1-828f7dd699ad"
      },
      "execution_count": 198,
      "outputs": [
        {
          "output_type": "stream",
          "name": "stdout",
          "text": [
            "1st array Divid by with each element of 2nd Array \n",
            " [0.16666667 0.28571429 0.375      0.44444444 0.5       ]\n"
          ]
        }
      ]
    },
    {
      "cell_type": "code",
      "source": [
        "# Element-wise Square\n",
        "print(\"Square of each element of 2nd Array \\n\",x**y)#Square of each element of 2nd Array"
      ],
      "metadata": {
        "colab": {
          "base_uri": "https://localhost:8080/",
          "height": 0
        },
        "id": "jHtH3XAeV-c1",
        "outputId": "5dc9c308-9940-405b-964d-48e6b39c6968"
      },
      "execution_count": 199,
      "outputs": [
        {
          "output_type": "stream",
          "name": "stdout",
          "text": [
            "Square of each element of 2nd Array \n",
            " [      1     128    6561  262144 9765625]\n"
          ]
        }
      ]
    },
    {
      "cell_type": "code",
      "source": [
        "# Element-wise Module\n",
        "print(\"Module of each element of Array \\n\",x%y)# take Module of each element of Array"
      ],
      "metadata": {
        "colab": {
          "base_uri": "https://localhost:8080/",
          "height": 0
        },
        "id": "soBNR9ZMWAds",
        "outputId": "4bd33e65-4023-4b0c-c143-6069006c3768"
      },
      "execution_count": 200,
      "outputs": [
        {
          "output_type": "stream",
          "name": "stdout",
          "text": [
            "Module of each element of Array \n",
            " [1 2 3 4 5]\n"
          ]
        }
      ]
    },
    {
      "cell_type": "code",
      "source": [
        "# Element-wise Double division\n",
        "print(\"Double division by 2nd array of each element of 1st Array \\n\",x//y)#Double division by 2nd array of each element of 1st Array"
      ],
      "metadata": {
        "colab": {
          "base_uri": "https://localhost:8080/",
          "height": 0
        },
        "id": "K9dc70kIWFab",
        "outputId": "d105505a-76e7-4268-c9b6-23fd0fcb7ddf"
      },
      "execution_count": 201,
      "outputs": [
        {
          "output_type": "stream",
          "name": "stdout",
          "text": [
            "Double division by 2nd array of each element of 1st Array \n",
            " [0 0 0 0 0]\n"
          ]
        }
      ]
    },
    {
      "cell_type": "markdown",
      "source": [
        "#**Indexing and Slicing**"
      ],
      "metadata": {
        "id": "TIhB0IbJYF1o"
      }
    },
    {
      "cell_type": "markdown",
      "source": [
        "There are Various Ways to Select  subset of element within a numpy array.Assigning a numpy array to another variable will simply pass a reference to the array instead of copying its value .To make a copy of an ndarray ,you need to Explicity call the.copy() Function."
      ],
      "metadata": {
        "id": "0fogRpTLYNEk"
      }
    },
    {
      "cell_type": "code",
      "source": [
        "x1=np.arange(-5,5)\n",
        "print(x1)#print value between -5 to 5"
      ],
      "metadata": {
        "colab": {
          "base_uri": "https://localhost:8080/",
          "height": 0
        },
        "id": "ZYYvm92hXqE-",
        "outputId": "adec776e-a272-49f6-cf0b-eaa4dd0bc528"
      },
      "execution_count": 202,
      "outputs": [
        {
          "output_type": "stream",
          "name": "stdout",
          "text": [
            "[-5 -4 -3 -2 -1  0  1  2  3  4]\n"
          ]
        }
      ]
    },
    {
      "cell_type": "code",
      "source": [
        "y=x[3:6]#print value between 3 and 6\n",
        "print(y)"
      ],
      "metadata": {
        "colab": {
          "base_uri": "https://localhost:8080/",
          "height": 0
        },
        "id": "bnR8dJ0qYDtd",
        "outputId": "11bfb094-37a3-4c9c-9e1e-f9930d1763d5"
      },
      "execution_count": 203,
      "outputs": [
        {
          "output_type": "stream",
          "name": "stdout",
          "text": [
            "[4 5]\n"
          ]
        }
      ]
    },
    {
      "cell_type": "code",
      "source": [
        "y[:]=1000 #modify value of y change will be x\n",
        "print(\"After y = \",y)\n",
        "print(\"\\n x = \",x)\n"
      ],
      "metadata": {
        "colab": {
          "base_uri": "https://localhost:8080/",
          "height": 0
        },
        "id": "nYinnQ07YDgZ",
        "outputId": "6823b72d-ae7d-4837-b15b-4b34ed9d4c41"
      },
      "execution_count": 204,
      "outputs": [
        {
          "output_type": "stream",
          "name": "stdout",
          "text": [
            "After y =  [1000 1000]\n",
            "\n",
            " x =  [   1    2    3 1000 1000]\n"
          ]
        }
      ]
    },
    {
      "cell_type": "code",
      "source": [
        "z=x[3:5].copy()#copy of subarray\n",
        "print(\"Before x =\",x)\n",
        "print(\"\\n  Z =\",z)"
      ],
      "metadata": {
        "colab": {
          "base_uri": "https://localhost:8080/",
          "height": 0
        },
        "id": "jdY0pedkYDdE",
        "outputId": "3fccf64c-3b95-4aa8-83ee-5ae19ebcdbb8"
      },
      "execution_count": 205,
      "outputs": [
        {
          "output_type": "stream",
          "name": "stdout",
          "text": [
            "Before x = [   1    2    3 1000 1000]\n",
            "\n",
            "  Z = [1000 1000]\n"
          ]
        }
      ]
    },
    {
      "cell_type": "code",
      "source": [
        "z[:]=500 #Modifying the value of z will not affect x\n",
        "print(\"After :z =\",z)\n",
        "print(\"x=\",x)"
      ],
      "metadata": {
        "colab": {
          "base_uri": "https://localhost:8080/",
          "height": 0
        },
        "id": "Tp11shkiYDXc",
        "outputId": "74ad9bde-a029-4a7b-92f6-569885362c34"
      },
      "execution_count": 206,
      "outputs": [
        {
          "output_type": "stream",
          "name": "stdout",
          "text": [
            "After :z = [500 500]\n",
            "x= [   1    2    3 1000 1000]\n"
          ]
        }
      ]
    },
    {
      "cell_type": "markdown",
      "source": [
        "There are many ways to access element of an ndarray .The following Example illustrates the difference between indexing elements of a list and element of ndarry."
      ],
      "metadata": {
        "id": "NFqHcav-ekQF"
      }
    },
    {
      "cell_type": "code",
      "source": [
        "#create 2-dimensional array\n",
        "array1=[[1,2,3,4],[5,6,7,8],[9,10,11,12]]\n",
        "print(\"my array \\n\",array1)"
      ],
      "metadata": {
        "colab": {
          "base_uri": "https://localhost:8080/",
          "height": 0
        },
        "id": "b5DZshjBhuap",
        "outputId": "175517cb-0457-4523-a100-dcea56a8d5b2"
      },
      "execution_count": 207,
      "outputs": [
        {
          "output_type": "stream",
          "name": "stdout",
          "text": [
            "my array \n",
            " [[1, 2, 3, 4], [5, 6, 7, 8], [9, 10, 11, 12]]\n"
          ]
        }
      ]
    },
    {
      "cell_type": "code",
      "source": [
        "#acces 3rd list of elements\n",
        "print(\"acces 3rd list\\n\",array1[2])"
      ],
      "metadata": {
        "colab": {
          "base_uri": "https://localhost:8080/",
          "height": 0
        },
        "id": "QniM4mKCh3y0",
        "outputId": "d9a5d4b1-aea1-4154-b135-adc580bd5bbc"
      },
      "execution_count": 208,
      "outputs": [
        {
          "output_type": "stream",
          "name": "stdout",
          "text": [
            "acces 3rd list\n",
            " [9, 10, 11, 12]\n"
          ]
        }
      ]
    },
    {
      "cell_type": "code",
      "source": [
        "#access 3rd row of each column element\n",
        "print(\"access 3rd row of each column elements\\n\",array1[:][2])"
      ],
      "metadata": {
        "colab": {
          "base_uri": "https://localhost:8080/",
          "height": 0
        },
        "id": "9tWdcCFPiGPU",
        "outputId": "f933d838-725a-4f00-a13f-d78f53303057"
      },
      "execution_count": 209,
      "outputs": [
        {
          "output_type": "stream",
          "name": "stdout",
          "text": [
            "access 3rd row of each column elements\n",
            " [9, 10, 11, 12]\n"
          ]
        }
      ]
    },
    {
      "cell_type": "code",
      "source": [
        "#create 2-dimensional array\n",
        "array=np.array([[1,2,3,4],[5,6,7,8],[9,10,11,12]])\n",
        "print(\"my array \\n\",array)\n"
      ],
      "metadata": {
        "colab": {
          "base_uri": "https://localhost:8080/",
          "height": 0
        },
        "id": "_uyCWDWBYDUl",
        "outputId": "997b2bb4-93c9-41b8-bae9-f02818c061fc"
      },
      "execution_count": 210,
      "outputs": [
        {
          "output_type": "stream",
          "name": "stdout",
          "text": [
            "my array \n",
            " [[ 1  2  3  4]\n",
            " [ 5  6  7  8]\n",
            " [ 9 10 11 12]]\n"
          ]
        }
      ]
    },
    {
      "cell_type": "code",
      "source": [
        "#access elemnt pf 3rd column and 2nd row\n",
        "print(array[2][3])"
      ],
      "metadata": {
        "colab": {
          "base_uri": "https://localhost:8080/",
          "height": 0
        },
        "id": "7WWx5-O6YDRB",
        "outputId": "90f5ae1c-f9cc-4f74-b33d-3346847a85f0"
      },
      "execution_count": 211,
      "outputs": [
        {
          "output_type": "stream",
          "name": "stdout",
          "text": [
            "12\n"
          ]
        }
      ]
    },
    {
      "cell_type": "code",
      "source": [
        "#access elemnt pf 3rd row\n",
        "print(array[2])"
      ],
      "metadata": {
        "colab": {
          "base_uri": "https://localhost:8080/",
          "height": 0
        },
        "id": "l9U7ayNKYDMI",
        "outputId": "ad254867-ce64-4d79-e92c-127f011013a2"
      },
      "execution_count": 212,
      "outputs": [
        {
          "output_type": "stream",
          "name": "stdout",
          "text": [
            "[ 9 10 11 12]\n"
          ]
        }
      ]
    },
    {
      "cell_type": "code",
      "source": [
        "#access elemnt of 3rd elemnet of 1st row\n",
        "print(array[:1,2:3])"
      ],
      "metadata": {
        "colab": {
          "base_uri": "https://localhost:8080/",
          "height": 0
        },
        "id": "tSFKUiOAgpBl",
        "outputId": "26099216-4235-4f0f-fe27-96f67723309d"
      },
      "execution_count": 213,
      "outputs": [
        {
          "output_type": "stream",
          "name": "stdout",
          "text": [
            "[[3]]\n"
          ]
        }
      ]
    },
    {
      "cell_type": "code",
      "source": [
        "#access elemnt pf 3rd row\n",
        "print(\"access elemnt pf 3rd row \\n\",array[2,:])"
      ],
      "metadata": {
        "colab": {
          "base_uri": "https://localhost:8080/",
          "height": 0
        },
        "id": "_TvlIx1xjNrT",
        "outputId": "8d9ca147-9177-4b66-842e-ed9cc372fcda"
      },
      "execution_count": 214,
      "outputs": [
        {
          "output_type": "stream",
          "name": "stdout",
          "text": [
            "access elemnt pf 3rd row \n",
            " [ 9 10 11 12]\n"
          ]
        }
      ]
    },
    {
      "cell_type": "code",
      "source": [
        "#access elemnt pf 3rd row\n",
        "print(\"access elemnt pf 3rd row \\n\",array[2][:])"
      ],
      "metadata": {
        "colab": {
          "base_uri": "https://localhost:8080/",
          "height": 0
        },
        "id": "f_rXG_Sdjdgf",
        "outputId": "d8e0a91c-75e8-4b4b-de60-1763ac720d95"
      },
      "execution_count": 215,
      "outputs": [
        {
          "output_type": "stream",
          "name": "stdout",
          "text": [
            "access elemnt pf 3rd row \n",
            " [ 9 10 11 12]\n"
          ]
        }
      ]
    },
    {
      "cell_type": "code",
      "source": [
        "print(\"access elemnt pf 3rd row \\n\",array[:][2])"
      ],
      "metadata": {
        "colab": {
          "base_uri": "https://localhost:8080/",
          "height": 0
        },
        "id": "LEpAmRTsjmVB",
        "outputId": "f98ca093-9834-4caa-8bae-76276a65149a"
      },
      "execution_count": 216,
      "outputs": [
        {
          "output_type": "stream",
          "name": "stdout",
          "text": [
            "access elemnt pf 3rd row \n",
            " [ 9 10 11 12]\n"
          ]
        }
      ]
    },
    {
      "cell_type": "code",
      "source": [
        "#access elemnt pf 3rd column\n",
        "print(\"access elemnt pf 3rd column \\n\",array[:,2])#print elemnt of each row and 2nd column "
      ],
      "metadata": {
        "colab": {
          "base_uri": "https://localhost:8080/",
          "height": 0
        },
        "id": "jArhL77zjvqH",
        "outputId": "94c30d90-78be-4d90-ccca-05fb1925c346"
      },
      "execution_count": 217,
      "outputs": [
        {
          "output_type": "stream",
          "name": "stdout",
          "text": [
            "access elemnt pf 3rd column \n",
            " [ 3  7 11]\n"
          ]
        }
      ]
    },
    {
      "cell_type": "code",
      "source": [
        "#access elemnt of first 2 rows and last 2 column elemnt\n",
        "print(\"access elemnt pf 3rd row \\n\",array[:2,2:])#access elemnt of first 2 rows and last 2 column elemnt"
      ],
      "metadata": {
        "colab": {
          "base_uri": "https://localhost:8080/",
          "height": 0
        },
        "id": "Tf2mASGnkHpj",
        "outputId": "a35b8db6-7de4-4ccd-befe-65c0d520a6b6"
      },
      "execution_count": 218,
      "outputs": [
        {
          "output_type": "stream",
          "name": "stdout",
          "text": [
            "access elemnt pf 3rd row \n",
            " [[3 4]\n",
            " [7 8]]\n"
          ]
        }
      ]
    },
    {
      "cell_type": "markdown",
      "source": [
        "Numpy also support bollean indexing."
      ],
      "metadata": {
        "id": "s_eM5ctekoV2"
      }
    },
    {
      "cell_type": "code",
      "source": [
        "arr3=np.arange(1,13,1).reshape(3,4)\n",
        "print(\"My array\\n\",arr3)"
      ],
      "metadata": {
        "id": "bJr9SF-Okv8j",
        "colab": {
          "base_uri": "https://localhost:8080/",
          "height": 0
        },
        "outputId": "00a7edf2-e46e-4587-aa01-794fced451e1"
      },
      "execution_count": 219,
      "outputs": [
        {
          "output_type": "stream",
          "name": "stdout",
          "text": [
            "My array\n",
            " [[ 1  2  3  4]\n",
            " [ 5  6  7  8]\n",
            " [ 9 10 11 12]]\n"
          ]
        }
      ]
    },
    {
      "cell_type": "code",
      "source": [
        "div_arr3=arr3[arr3 % 3 == 0]\n",
        "print(\"array divide by 3 \\n\",div_arr3)#array divide by 3"
      ],
      "metadata": {
        "colab": {
          "base_uri": "https://localhost:8080/",
          "height": 0
        },
        "id": "WQ1lKxH8Fvfi",
        "outputId": "7d0af3bb-79c2-4b37-e59b-89bb14572121"
      },
      "execution_count": 220,
      "outputs": [
        {
          "output_type": "stream",
          "name": "stdout",
          "text": [
            "array divide by 3 \n",
            " [ 3  6  9 12]\n"
          ]
        }
      ]
    },
    {
      "cell_type": "code",
      "source": [
        "divid_3rd_row=arr3[2:,arr3[2,:]%3 == 0]# where start 3rd row \n",
        "print(\"divid_3rd_row \\n\",divid_3rd_row)"
      ],
      "metadata": {
        "colab": {
          "base_uri": "https://localhost:8080/",
          "height": 0
        },
        "id": "iLAB2qlWFnNy",
        "outputId": "55e15fa9-be54-4e19-964a-78114f41b492"
      },
      "execution_count": 221,
      "outputs": [
        {
          "output_type": "stream",
          "name": "stdout",
          "text": [
            "divid_3rd_row \n",
            " [[ 9 12]]\n"
          ]
        }
      ]
    },
    {
      "cell_type": "markdown",
      "source": [
        "More Indexing Example"
      ],
      "metadata": {
        "id": "f_r1lEQ0HOY6"
      }
    },
    {
      "cell_type": "code",
      "source": [
        "array=np.arange(1,13,1).reshape(4,3)\n",
        "print(\"My array \\n\",array)"
      ],
      "metadata": {
        "colab": {
          "base_uri": "https://localhost:8080/",
          "height": 0
        },
        "id": "NIxbzFgdHJOA",
        "outputId": "66ce432a-3753-45d7-8a08-05a5caec3c30"
      },
      "execution_count": 222,
      "outputs": [
        {
          "output_type": "stream",
          "name": "stdout",
          "text": [
            "My array \n",
            " [[ 1  2  3]\n",
            " [ 4  5  6]\n",
            " [ 7  8  9]\n",
            " [10 11 12]]\n"
          ]
        }
      ]
    },
    {
      "cell_type": "code",
      "source": [
        "row_indices=[2,1,0,3]#select Row as row indices\n",
        "print(\"row_indices \\n\",row_indices)"
      ],
      "metadata": {
        "colab": {
          "base_uri": "https://localhost:8080/",
          "height": 0
        },
        "id": "_oQiYnxRICMh",
        "outputId": "5b7f2c1c-1e04-402e-9ccb-5e2d524139f6"
      },
      "execution_count": 223,
      "outputs": [
        {
          "output_type": "stream",
          "name": "stdout",
          "text": [
            "row_indices \n",
            " [2, 1, 0, 3]\n"
          ]
        }
      ]
    },
    {
      "cell_type": "code",
      "source": [
        "#This will shuffle the elemnet of 1st row with 3rd row\n",
        "print(\"shuffle the row \\n\",array[row_indices,:])"
      ],
      "metadata": {
        "colab": {
          "base_uri": "https://localhost:8080/",
          "height": 0
        },
        "id": "7vVQvHv9ICI1",
        "outputId": "7acba600-d981-4bea-8504-5636c18a900b"
      },
      "execution_count": 224,
      "outputs": [
        {
          "output_type": "stream",
          "name": "stdout",
          "text": [
            "shuffle the row \n",
            " [[ 7  8  9]\n",
            " [ 4  5  6]\n",
            " [ 1  2  3]\n",
            " [10 11 12]]\n"
          ]
        }
      ]
    },
    {
      "cell_type": "code",
      "source": [
        "row_index=[0,0,1,2,3]\n",
        "#row indexes into array\n",
        "print(\"Row indexes into array \\n\",row_index)\n"
      ],
      "metadata": {
        "colab": {
          "base_uri": "https://localhost:8080/",
          "height": 0
        },
        "id": "BMPQHhk9ICD0",
        "outputId": "5b9f811f-0f8f-47c9-f2eb-029e2f45aaa2"
      },
      "execution_count": 225,
      "outputs": [
        {
          "output_type": "stream",
          "name": "stdout",
          "text": [
            "Row indexes into array \n",
            " [0, 0, 1, 2, 3]\n"
          ]
        }
      ]
    },
    {
      "cell_type": "code",
      "source": [
        "col_index=[0,2,0,1,2]\n",
        "#row indexes into array\n",
        "print(\"col indexes into array \\n\",col_index)"
      ],
      "metadata": {
        "colab": {
          "base_uri": "https://localhost:8080/",
          "height": 0
        },
        "id": "oJYpzOqqIB_7",
        "outputId": "f42a7e02-ae8a-42bf-a472-35024fdaa917"
      },
      "execution_count": 226,
      "outputs": [
        {
          "output_type": "stream",
          "name": "stdout",
          "text": [
            "col indexes into array \n",
            " [0, 2, 0, 1, 2]\n"
          ]
        }
      ]
    },
    {
      "cell_type": "code",
      "source": [
        "#show of those element on these row indexes and  col indexes\n",
        "print(\"show of those element on these row indexes and  col indexes\\n\",array[row_index,col_index])"
      ],
      "metadata": {
        "colab": {
          "base_uri": "https://localhost:8080/",
          "height": 0
        },
        "id": "-ytKS1IUIB7G",
        "outputId": "96e7b65b-3414-4743-b6d0-c3450793a54d"
      },
      "execution_count": 227,
      "outputs": [
        {
          "output_type": "stream",
          "name": "stdout",
          "text": [
            "show of those element on these row indexes and  col indexes\n",
            " [ 1  3  4  8 12]\n"
          ]
        }
      ]
    },
    {
      "cell_type": "markdown",
      "source": [
        "#**Numpy Arithmentic and Statistical Function**"
      ],
      "metadata": {
        "id": "7cErCdGKKwUF"
      }
    },
    {
      "cell_type": "markdown",
      "source": [
        "Numpy provides many built-in mathematical functions available for manipulating elements of an ndarray."
      ],
      "metadata": {
        "id": "SrKw_2YoK8PB"
      }
    },
    {
      "cell_type": "code",
      "source": [
        "y=np.array([-1.4,0.4,-3.2,2.5,3.4])#create 1-dimensional array\n",
        "print(\"Y =\",y)"
      ],
      "metadata": {
        "id": "XpBYy49YIBvX",
        "colab": {
          "base_uri": "https://localhost:8080/",
          "height": 0
        },
        "outputId": "0608218d-859d-45d1-df80-2e2d8cf865e1"
      },
      "execution_count": 228,
      "outputs": [
        {
          "output_type": "stream",
          "name": "stdout",
          "text": [
            "Y = [-1.4  0.4 -3.2  2.5  3.4]\n"
          ]
        }
      ]
    },
    {
      "cell_type": "code",
      "source": [
        "# convert negative value into +ve we use absolute built-in function\n",
        "print(\"convert negative value into +ve \\n\",np.abs(y)) "
      ],
      "metadata": {
        "colab": {
          "base_uri": "https://localhost:8080/",
          "height": 0
        },
        "id": "OAeRAjhiPmTW",
        "outputId": "aff8749c-be79-49cc-93c3-54d04e5b989a"
      },
      "execution_count": 229,
      "outputs": [
        {
          "output_type": "stream",
          "name": "stdout",
          "text": [
            "convert negative value into +ve \n",
            " [1.4 0.4 3.2 2.5 3.4]\n"
          ]
        }
      ]
    },
    {
      "cell_type": "code",
      "source": [
        "#Taking square root of each element of arrray using sqrt() built-in function\n",
        "print(\"Taking square root of each element\\n\",np.sqrt(abs(y)))\n"
      ],
      "metadata": {
        "colab": {
          "base_uri": "https://localhost:8080/",
          "height": 0
        },
        "id": "0XRvZAsgQAlP",
        "outputId": "b6702b67-4c85-4251-9b02-0da260470422"
      },
      "execution_count": 230,
      "outputs": [
        {
          "output_type": "stream",
          "name": "stdout",
          "text": [
            "Taking square root of each element\n",
            " [1.18321596 0.63245553 1.78885438 1.58113883 1.84390889]\n"
          ]
        }
      ]
    },
    {
      "cell_type": "code",
      "source": [
        "#for getting sign of each elemnet of array we use sign()built-in function\n",
        "print(\"getting sign of each elemnet \\n\",np.sign(y))"
      ],
      "metadata": {
        "colab": {
          "base_uri": "https://localhost:8080/",
          "height": 0
        },
        "id": "97Ovb0ZRQxLI",
        "outputId": "0e87a7da-c9ab-40f0-9a85-2d4f15ffed11"
      },
      "execution_count": 231,
      "outputs": [
        {
          "output_type": "stream",
          "name": "stdout",
          "text": [
            "getting sign of each elemnet \n",
            " [-1.  1. -1.  1.  1.]\n"
          ]
        }
      ]
    },
    {
      "cell_type": "code",
      "source": [
        "#Apply Exponention function on array\n",
        "print(\" Exponention function \\n\",np.exp(y))"
      ],
      "metadata": {
        "colab": {
          "base_uri": "https://localhost:8080/",
          "height": 0
        },
        "id": "aijiieePRFDE",
        "outputId": "8e162c4e-7251-43ff-8617-101962be1f58"
      },
      "execution_count": 232,
      "outputs": [
        {
          "output_type": "stream",
          "name": "stdout",
          "text": [
            " Exponention function \n",
            " [ 0.24659696  1.4918247   0.0407622  12.18249396 29.96410005]\n"
          ]
        }
      ]
    },
    {
      "cell_type": "code",
      "source": [
        "#Sort array in assending order\n",
        "print(\"Sort array in assending order \\n\",np.sort(y))#print ellemnt less to greater order"
      ],
      "metadata": {
        "colab": {
          "base_uri": "https://localhost:8080/",
          "height": 0
        },
        "id": "tCs0GymDReQy",
        "outputId": "f9e98352-408e-4868-86ef-2242f67f5579"
      },
      "execution_count": 233,
      "outputs": [
        {
          "output_type": "stream",
          "name": "stdout",
          "text": [
            "Sort array in assending order \n",
            " [-3.2 -1.4  0.4  2.5  3.4]\n"
          ]
        }
      ]
    },
    {
      "cell_type": "code",
      "source": [
        "x=np.arange(-2,3)\n",
        "y=np.random.randn(5)\n",
        "print('x array =',x)\n",
        "print(\"y array =\",y)"
      ],
      "metadata": {
        "colab": {
          "base_uri": "https://localhost:8080/",
          "height": 0
        },
        "id": "OtiLvzYsRz_r",
        "outputId": "8d242e5e-d732-40bc-8629-87ccdd9f7ea0"
      },
      "execution_count": 234,
      "outputs": [
        {
          "output_type": "stream",
          "name": "stdout",
          "text": [
            "x array = [-2 -1  0  1  2]\n",
            "y array = [ 0.71634423 -0.83305038 -0.208497   -0.80251743 -0.2221828 ]\n"
          ]
        }
      ]
    },
    {
      "cell_type": "code",
      "source": [
        "#add 2 array x and y by using add( built in function)\n",
        "print(\"add two array \\n\",np.add(x,y))#print add 2 array x and y by using add( built in function)"
      ],
      "metadata": {
        "colab": {
          "base_uri": "https://localhost:8080/",
          "height": 0
        },
        "id": "nAPym-gUagEC",
        "outputId": "cba4b524-f8b8-45d4-b7fe-3326fc839573"
      },
      "execution_count": 235,
      "outputs": [
        {
          "output_type": "stream",
          "name": "stdout",
          "text": [
            "add two array \n",
            " [-1.28365577 -1.83305038 -0.208497    0.19748257  1.7778172 ]\n"
          ]
        }
      ]
    },
    {
      "cell_type": "code",
      "source": [
        "#subtract 2 array x and y by using subtract() built in function\n",
        "print(\"subtract two array \\n\",np.subtract(x,y))"
      ],
      "metadata": {
        "colab": {
          "base_uri": "https://localhost:8080/",
          "height": 0
        },
        "id": "MTindxwibB9L",
        "outputId": "b95c9868-67a7-4a97-c06e-92884d7d799b"
      },
      "execution_count": 236,
      "outputs": [
        {
          "output_type": "stream",
          "name": "stdout",
          "text": [
            "subtract two array \n",
            " [-2.71634423 -0.16694962  0.208497    1.80251743  2.2221828 ]\n"
          ]
        }
      ]
    },
    {
      "cell_type": "code",
      "source": [
        "#Multiple 2 array x and y by using Multiply() built in function\n",
        "print(\"Multiple two array \\n\",np.multiply(x,y))"
      ],
      "metadata": {
        "colab": {
          "base_uri": "https://localhost:8080/",
          "height": 0
        },
        "id": "zYpDkwvEbzdK",
        "outputId": "15f18c6f-3e8b-426c-db92-33bbf5098b7f"
      },
      "execution_count": 237,
      "outputs": [
        {
          "output_type": "stream",
          "name": "stdout",
          "text": [
            "Multiple two array \n",
            " [-1.43268845  0.83305038 -0.         -0.80251743 -0.44436559]\n"
          ]
        }
      ]
    },
    {
      "cell_type": "code",
      "source": [
        "#divide x array by y array by using divide() built in function\n",
        "print(\"divide x array by y array \\n\",np.divide(x,y))"
      ],
      "metadata": {
        "colab": {
          "base_uri": "https://localhost:8080/",
          "height": 0
        },
        "id": "4rXK54yNcGKn",
        "outputId": "0bb6ee5a-99c5-4bbf-d587-e9f4067f2ede"
      },
      "execution_count": 238,
      "outputs": [
        {
          "output_type": "stream",
          "name": "stdout",
          "text": [
            "divide x array by y array \n",
            " [-2.79195382  1.2004076  -0.         -1.24607885 -9.00159703]\n"
          ]
        }
      ]
    },
    {
      "cell_type": "code",
      "source": [
        "#Get maximum elemnt by using maximum() built in function\n",
        "print(\"Maximum of  array \\n\",np.maximum(x,y))"
      ],
      "metadata": {
        "colab": {
          "base_uri": "https://localhost:8080/",
          "height": 0
        },
        "id": "9RG2I1nJcXDw",
        "outputId": "de6dbb0d-26a6-45bd-bb33-8287a6158115"
      },
      "execution_count": 239,
      "outputs": [
        {
          "output_type": "stream",
          "name": "stdout",
          "text": [
            "Maximum of  array \n",
            " [ 0.71634423 -0.83305038  0.          1.          2.        ]\n"
          ]
        }
      ]
    },
    {
      "cell_type": "code",
      "source": [
        "new_y=np.array([-3.2,-1.4,2.5,3.4])\n",
        "print(\"y array :\",new_y)"
      ],
      "metadata": {
        "colab": {
          "base_uri": "https://localhost:8080/",
          "height": 0
        },
        "id": "wGad6PKbe1kp",
        "outputId": "548b690f-c067-44cd-ff27-42e50e7cebb0"
      },
      "execution_count": 240,
      "outputs": [
        {
          "output_type": "stream",
          "name": "stdout",
          "text": [
            "y array : [-3.2 -1.4  2.5  3.4]\n"
          ]
        }
      ]
    },
    {
      "cell_type": "code",
      "source": [
        "#Get minimum elemnt by using min() built in function\n",
        "print(\"minimum element of  array \\n\",np.min(y))"
      ],
      "metadata": {
        "colab": {
          "base_uri": "https://localhost:8080/",
          "height": 0
        },
        "id": "BlFjrRZRfRbP",
        "outputId": "13f0c13c-f120-4638-bc93-94db88c8fdfd"
      },
      "execution_count": 241,
      "outputs": [
        {
          "output_type": "stream",
          "name": "stdout",
          "text": [
            "minimum element of  array \n",
            " -0.8330503764031771\n"
          ]
        }
      ]
    },
    {
      "cell_type": "code",
      "source": [
        "#Get maximum elemnt by using max() built in function\n",
        "print(\"Maximum of  array \\n\",np.max(y))"
      ],
      "metadata": {
        "colab": {
          "base_uri": "https://localhost:8080/",
          "height": 0
        },
        "id": "sSquhTPrfm7Y",
        "outputId": "997764e5-9857-4040-fbdb-f67a3f6ae397"
      },
      "execution_count": 242,
      "outputs": [
        {
          "output_type": "stream",
          "name": "stdout",
          "text": [
            "Maximum of  array \n",
            " 0.7163442255923478\n"
          ]
        }
      ]
    },
    {
      "cell_type": "code",
      "source": [
        "#Get average of array by using mean/average() built in function\n",
        "#mean/average = sum/ total number of elemnet\n",
        "print(\"Average of  array \\n\",np.mean(y))"
      ],
      "metadata": {
        "colab": {
          "base_uri": "https://localhost:8080/",
          "height": 0
        },
        "id": "MMDDa8X7f5WW",
        "outputId": "76e458c2-c939-4366-b82b-2a49b98b2366"
      },
      "execution_count": 243,
      "outputs": [
        {
          "output_type": "stream",
          "name": "stdout",
          "text": [
            "Average of  array \n",
            " -0.2699806767428138\n"
          ]
        }
      ]
    },
    {
      "cell_type": "code",
      "source": [
        "#Standerd Deviation of array by using std() built in function\n",
        "print(\"Standerd Deviation of  array \\n\",np.std(y))"
      ],
      "metadata": {
        "colab": {
          "base_uri": "https://localhost:8080/",
          "height": 0
        },
        "id": "p9tw0w_HiR4t",
        "outputId": "95bf8003-d90f-4a9b-df66-a77750bd8346"
      },
      "execution_count": 244,
      "outputs": [
        {
          "output_type": "stream",
          "name": "stdout",
          "text": [
            "Standerd Deviation of  array \n",
            " 0.5620577506988268\n"
          ]
        }
      ]
    },
    {
      "cell_type": "code",
      "source": [
        "#Total sum of array by using sum() built in function\n",
        "print(\"Total sum of  array \\n\",np.sum(y))"
      ],
      "metadata": {
        "colab": {
          "base_uri": "https://localhost:8080/",
          "height": 0
        },
        "id": "Zrv8rPP-i0OW",
        "outputId": "3f13591f-c80a-4488-8fca-59f796874f27"
      },
      "execution_count": 245,
      "outputs": [
        {
          "output_type": "stream",
          "name": "stdout",
          "text": [
            "Total sum of  array \n",
            " -1.3499033837140688\n"
          ]
        }
      ]
    },
    {
      "cell_type": "markdown",
      "source": [
        "#**Numpy Linear Algebra**\n"
      ],
      "metadata": {
        "id": "fwRCCfofjJT8"
      }
    },
    {
      "cell_type": "markdown",
      "source": [
        "Numpy provide Many Function to support Linear Algebra function"
      ],
      "metadata": {
        "id": "DYsxySYljQjq"
      }
    },
    {
      "cell_type": "code",
      "source": [
        "#create a 2 * 3 matrix random matrix\n",
        "x1=np.random.randn(2,3)\n",
        "print(\"random value of array \\n\",x1)\n",
        "\n"
      ],
      "metadata": {
        "colab": {
          "base_uri": "https://localhost:8080/",
          "height": 0
        },
        "id": "rSruoJW2jEVw",
        "outputId": "f3479e24-7565-480b-b0bd-cb49cf316473"
      },
      "execution_count": 246,
      "outputs": [
        {
          "output_type": "stream",
          "name": "stdout",
          "text": [
            "random value of array \n",
            " [[-0.32477078 -1.9314041  -1.51802016]\n",
            " [-0.44497435  1.67283422  0.03805513]]\n"
          ]
        }
      ]
    },
    {
      "cell_type": "code",
      "source": [
        "#matrix Transpose operation using x1.T\n",
        "print(\"Transpose of array \\n\",x1.T)"
      ],
      "metadata": {
        "colab": {
          "base_uri": "https://localhost:8080/",
          "height": 0
        },
        "id": "yyUOkl1wj8is",
        "outputId": "afd59c55-9e93-43fa-f832-1305a3d30775"
      },
      "execution_count": 247,
      "outputs": [
        {
          "output_type": "stream",
          "name": "stdout",
          "text": [
            "Transpose of array \n",
            " [[-0.32477078 -0.44497435]\n",
            " [-1.9314041   1.67283422]\n",
            " [-1.51802016  0.03805513]]\n"
          ]
        }
      ]
    },
    {
      "cell_type": "code",
      "source": [
        "#create 2nd random array\n",
        "y1=np.random.randn(3)\n",
        "print(\" Random 5 value in arry\\n\",y1)"
      ],
      "metadata": {
        "colab": {
          "base_uri": "https://localhost:8080/",
          "height": 0
        },
        "id": "yhQB1wNDkSYE",
        "outputId": "9e66bd07-d666-4dfe-af0f-bf84734e54f6"
      },
      "execution_count": 248,
      "outputs": [
        {
          "output_type": "stream",
          "name": "stdout",
          "text": [
            " Random 5 value in arry\n",
            " [ 0.57879114  0.47260689 -0.37551498]\n"
          ]
        }
      ]
    },
    {
      "cell_type": "code",
      "source": [
        "#Matrix_vector Multiplication of X1 and Y1 using dot()function\n",
        "print(\"Matrix_vector Multiplication of X1 and Y1 \\n\",x1.dot(y1))\n"
      ],
      "metadata": {
        "colab": {
          "base_uri": "https://localhost:8080/",
          "height": 0
        },
        "id": "gC4eeF3Dkjll",
        "outputId": "aed84659-0c79-476c-d4a2-798659915f9e"
      },
      "execution_count": 249,
      "outputs": [
        {
          "output_type": "stream",
          "name": "stdout",
          "text": [
            "Matrix_vector Multiplication of X1 and Y1 \n",
            " [-0.53073002  0.5187555 ]\n"
          ]
        }
      ]
    },
    {
      "cell_type": "code",
      "source": [
        "#Matrix_vector Multiplication of X1 and x1.T using dot()function\n",
        "print(\"Matrix_vector Multiplication of X1 and x1.T \\n\",x1.dot(x1.T))"
      ],
      "metadata": {
        "colab": {
          "base_uri": "https://localhost:8080/",
          "height": 0
        },
        "id": "Xh_j_y1ilOkP",
        "outputId": "aea62222-c5f7-41d1-8f98-255e7b1ba2d7"
      },
      "execution_count": 250,
      "outputs": [
        {
          "output_type": "stream",
          "name": "stdout",
          "text": [
            "Matrix_vector Multiplication of X1 and x1.T \n",
            " [[ 6.14018309 -3.14417266]\n",
            " [-3.14417266  2.99782469]]\n"
          ]
        }
      ]
    },
    {
      "cell_type": "code",
      "source": [
        "#Matrix_vector Multiplication of X1.T and x1 using dot()function\n",
        "print(\"Matrix_vector Multiplication of X1.T and x1 \\n\",x1.T.dot(x1))"
      ],
      "metadata": {
        "colab": {
          "base_uri": "https://localhost:8080/",
          "height": 0
        },
        "id": "vIksiP9oleui",
        "outputId": "ead876a0-d384-47cc-9860-511cc7b58ff8"
      },
      "execution_count": 251,
      "outputs": [
        {
          "output_type": "stream",
          "name": "stdout",
          "text": [
            "Matrix_vector Multiplication of X1.T and x1 \n",
            " [[ 0.30347823 -0.11710471  0.47607503]\n",
            " [-0.11710471  6.52869614  2.9955703 ]\n",
            " [ 0.47607503  2.9955703   2.30583341]]\n"
          ]
        }
      ]
    },
    {
      "cell_type": "code",
      "source": [
        "#create a 5 * 3 matrix random matrix\n",
        "x2=np.random.randn(5,3)\n",
        "print(\"random value of array \\n\",x2)"
      ],
      "metadata": {
        "colab": {
          "base_uri": "https://localhost:8080/",
          "height": 0
        },
        "id": "qq4TLPaQlrnL",
        "outputId": "415d9cc6-7ca1-4f46-8fe5-70e40ee81bdf"
      },
      "execution_count": 252,
      "outputs": [
        {
          "output_type": "stream",
          "name": "stdout",
          "text": [
            "random value of array \n",
            " [[-2.13351452 -0.66415703 -0.52519138]\n",
            " [-2.42908624 -0.58914933 -2.35882161]\n",
            " [ 0.83703723 -1.79688417  0.39475369]\n",
            " [-0.81425403 -0.9855373   0.2216309 ]\n",
            " [-0.30444032  0.03166202  0.80581662]]\n"
          ]
        }
      ]
    },
    {
      "cell_type": "code",
      "source": [
        "#Matrix_vector Multiplication of X2.T and x2 using dot()function\n",
        "c=x2.T\n",
        "print(\"Matrix_vector Multiplication of X2.T and x2 \\n\",c.dot(x2))"
      ],
      "metadata": {
        "colab": {
          "base_uri": "https://localhost:8080/",
          "height": 0
        },
        "id": "WISp0Ykll18K",
        "outputId": "9f8441bf-85cb-4448-f96f-5431c519da2f"
      },
      "execution_count": 253,
      "outputs": [
        {
          "output_type": "stream",
          "name": "stdout",
          "text": [
            "Matrix_vector Multiplication of X2.T and x2 \n",
            " [[11.908669    2.13686278  6.75492116]\n",
            " [ 2.13686278  4.98928047  0.83626934]\n",
            " [ 6.75492116  0.83626934  6.69415654]]\n"
          ]
        }
      ]
    },
    {
      "cell_type": "code",
      "source": [
        "#inverse of a square matrix\n",
        "C1=x2.T.dot(x2)\n",
        "inv_mat=np.linalg.inv(C1)\n",
        "print(\"inverse of c matrix \\n\",inv_mat)"
      ],
      "metadata": {
        "colab": {
          "base_uri": "https://localhost:8080/",
          "height": 0
        },
        "id": "dLmYF34emNhC",
        "outputId": "7b5bc72b-c567-48fb-f2fa-98b8ff01a7ce"
      },
      "execution_count": 254,
      "outputs": [
        {
          "output_type": "stream",
          "name": "stdout",
          "text": [
            "inverse of c matrix \n",
            " [[ 0.21051853 -0.05572397 -0.20546813]\n",
            " [-0.05572397  0.21946634  0.0288129 ]\n",
            " [-0.20546813  0.0288129   0.35311778]]\n"
          ]
        }
      ]
    },
    {
      "cell_type": "code",
      "source": [
        "#determinant of a square matrix\n",
        "C1=x2.T.dot(x2)\n",
        "det_mat=np.linalg.det(C1)\n",
        "print(\"determinant of c matrix = \",det_mat)"
      ],
      "metadata": {
        "colab": {
          "base_uri": "https://localhost:8080/",
          "height": 0
        },
        "id": "WtWZxzDVnaVE",
        "outputId": "581b5e44-3a3b-42ae-bea9-f222b30e16ca"
      },
      "execution_count": 255,
      "outputs": [
        {
          "output_type": "stream",
          "name": "stdout",
          "text": [
            "determinant of c matrix =  155.32921485900246\n"
          ]
        }
      ]
    },
    {
      "cell_type": "code",
      "source": [
        "#eigenvalue S and eigenvalue U of a square matrix\n",
        "C1=x2.T.dot(x2)\n",
        "S,U=np.linalg.eig(C1)\n",
        "print(\"Eigenvalue of c matrix \\n\", S)\n",
        "print(\"Eigenvalue of c matrix \\n\", U)"
      ],
      "metadata": {
        "colab": {
          "base_uri": "https://localhost:8080/",
          "height": 0
        },
        "id": "X17bTRglol9r",
        "outputId": "61b51ea9-2bce-4bff-8178-b005d10a6ffe"
      },
      "execution_count": 256,
      "outputs": [
        {
          "output_type": "stream",
          "name": "stdout",
          "text": [
            "Eigenvalue of c matrix \n",
            " [16.96003315  1.9604726   4.67160026]\n",
            "Eigenvalue of c matrix \n",
            " [[ 0.81420161  0.57911158  0.04129795]\n",
            " [ 0.18381336 -0.18965186 -0.964492  ]\n",
            " [ 0.55071626 -0.79288205  0.26086329]]\n"
          ]
        }
      ]
    },
    {
      "cell_type": "markdown",
      "source": [
        "#**Introduction To pandas**"
      ],
      "metadata": {
        "id": "SPSB5Kd9pWmv"
      }
    },
    {
      "cell_type": "markdown",
      "source": [
        "Pandas provide two convenient Data structure for storing and manipulating data--series and dataframe"
      ],
      "metadata": {
        "id": "i6QVIQB-pcZD"
      }
    },
    {
      "cell_type": "markdown",
      "source": [
        "#**Series**"
      ],
      "metadata": {
        "id": "OIJqXMX8pv1M"
      }
    },
    {
      "cell_type": "code",
      "source": [
        "from pandas import Series\n",
        "#Creating a series from a list\n",
        "p=Series([3.1,2.4,-1.7,0.2,-2.9,4.5])\n",
        "print(\"series from a list \\n\",p)"
      ],
      "metadata": {
        "colab": {
          "base_uri": "https://localhost:8080/",
          "height": 0
        },
        "id": "wcu6ihFapSLg",
        "outputId": "08c29e20-b193-4422-85ba-ccb12cf7f1f0"
      },
      "execution_count": 257,
      "outputs": [
        {
          "output_type": "stream",
          "name": "stdout",
          "text": [
            "series from a list \n",
            " 0    3.1\n",
            "1    2.4\n",
            "2   -1.7\n",
            "3    0.2\n",
            "4   -2.9\n",
            "5    4.5\n",
            "dtype: float64\n"
          ]
        }
      ]
    },
    {
      "cell_type": "code",
      "source": [
        "#diplay a value of the Series\n",
        "print(\"value of the Series \\n\",p.values)"
      ],
      "metadata": {
        "colab": {
          "base_uri": "https://localhost:8080/",
          "height": 0
        },
        "id": "xnmEnwWRqxIi",
        "outputId": "84ae80d1-8bc8-4af8-ff3d-6999b8b12f92"
      },
      "execution_count": 258,
      "outputs": [
        {
          "output_type": "stream",
          "name": "stdout",
          "text": [
            "value of the Series \n",
            " [ 3.1  2.4 -1.7  0.2 -2.9  4.5]\n"
          ]
        }
      ]
    },
    {
      "cell_type": "code",
      "source": [
        "#diplay a indices of the Series\n",
        "print(\"indices of the Series \\n\",p.index)"
      ],
      "metadata": {
        "colab": {
          "base_uri": "https://localhost:8080/",
          "height": 0
        },
        "id": "9UmvZ5BRrGC3",
        "outputId": "3820ab97-a7a8-4c38-c9b7-dcd827312657"
      },
      "execution_count": 259,
      "outputs": [
        {
          "output_type": "stream",
          "name": "stdout",
          "text": [
            "indices of the Series \n",
            " RangeIndex(start=0, stop=6, step=1)\n"
          ]
        }
      ]
    },
    {
      "cell_type": "code",
      "source": [
        "#diplay the element type of the Series\n",
        "print(\"element type of the Series \\n\",p.dtype)"
      ],
      "metadata": {
        "colab": {
          "base_uri": "https://localhost:8080/",
          "height": 0
        },
        "id": "trgQPj7LrSEu",
        "outputId": "0c752c3f-a326-455f-d07a-9c01884b1eeb"
      },
      "execution_count": 260,
      "outputs": [
        {
          "output_type": "stream",
          "name": "stdout",
          "text": [
            "element type of the Series \n",
            " float64\n"
          ]
        }
      ]
    },
    {
      "cell_type": "markdown",
      "source": [
        "**Numpy**"
      ],
      "metadata": {
        "id": "Jz1ddKwEr25J"
      }
    },
    {
      "cell_type": "code",
      "source": [
        "#import numpy library\n",
        "import numpy as np\n",
        "#creating a series from a numpy ndarray\n",
        "df=Series(np.random.randn(6))\n",
        "print(\"series from a ndarrya \\n\",df)"
      ],
      "metadata": {
        "colab": {
          "base_uri": "https://localhost:8080/",
          "height": 0
        },
        "id": "aOt_i_str03Z",
        "outputId": "7e2f4d0a-55cd-4dd6-aab8-f500e83a079c"
      },
      "execution_count": 261,
      "outputs": [
        {
          "output_type": "stream",
          "name": "stdout",
          "text": [
            "series from a ndarrya \n",
            " 0   -0.133516\n",
            "1    0.637315\n",
            "2   -0.048661\n",
            "3   -0.223802\n",
            "4    0.250289\n",
            "5   -0.091090\n",
            "dtype: float64\n"
          ]
        }
      ]
    },
    {
      "cell_type": "code",
      "source": [
        "#diplay a value of the Series\n",
        "print(\"value of the Series \\n\",df.values)"
      ],
      "metadata": {
        "colab": {
          "base_uri": "https://localhost:8080/",
          "height": 0
        },
        "id": "IFOMuXMBtQzt",
        "outputId": "1c59070f-7e80-4eab-e7c4-c97411b3d618"
      },
      "execution_count": 262,
      "outputs": [
        {
          "output_type": "stream",
          "name": "stdout",
          "text": [
            "value of the Series \n",
            " [-0.13351559  0.63731455 -0.04866079 -0.22380213  0.25028853 -0.0910897 ]\n"
          ]
        }
      ]
    },
    {
      "cell_type": "code",
      "source": [
        "#diplay a indices of the Series\n",
        "print(\"indices of the Series \\n\",df.index)"
      ],
      "metadata": {
        "colab": {
          "base_uri": "https://localhost:8080/",
          "height": 0
        },
        "id": "Gx4g5kUXtU_4",
        "outputId": "58b4d906-1acf-4bc9-f9d7-33e4484df8a9"
      },
      "execution_count": 263,
      "outputs": [
        {
          "output_type": "stream",
          "name": "stdout",
          "text": [
            "indices of the Series \n",
            " RangeIndex(start=0, stop=6, step=1)\n"
          ]
        }
      ]
    },
    {
      "cell_type": "code",
      "source": [
        "#diplay the element type of the Series\n",
        "print(\"element type of the Series \\n\",df.dtype)"
      ],
      "metadata": {
        "colab": {
          "base_uri": "https://localhost:8080/",
          "height": 0
        },
        "id": "1Oy5FPrhtU8d",
        "outputId": "75c2c7af-52b8-4990-cc48-9978168caf79"
      },
      "execution_count": 264,
      "outputs": [
        {
          "output_type": "stream",
          "name": "stdout",
          "text": [
            "element type of the Series \n",
            " float64\n"
          ]
        }
      ]
    },
    {
      "cell_type": "code",
      "source": [
        "s3=Series([1.2,2.5,-2.2,3.1,-0.8,-3.2],index=['jan1','jan2','jan3','jan4','jan5','jan6'])\n",
        "print(\"series s3 \\n\",s3)"
      ],
      "metadata": {
        "colab": {
          "base_uri": "https://localhost:8080/",
          "height": 0
        },
        "id": "gJjE4N13tUHa",
        "outputId": "8fe25585-6e00-4bc7-84e8-f687ebfbf0c6"
      },
      "execution_count": 265,
      "outputs": [
        {
          "output_type": "stream",
          "name": "stdout",
          "text": [
            "series s3 \n",
            " jan1    1.2\n",
            "jan2    2.5\n",
            "jan3   -2.2\n",
            "jan4    3.1\n",
            "jan5   -0.8\n",
            "jan6   -3.2\n",
            "dtype: float64\n"
          ]
        }
      ]
    },
    {
      "cell_type": "code",
      "source": [
        "#diplay a value of the Series\n",
        "print(\"value of the Series \\n\",s3.values)"
      ],
      "metadata": {
        "colab": {
          "base_uri": "https://localhost:8080/",
          "height": 0
        },
        "id": "jxy-VwpIuAzU",
        "outputId": "61e5ff48-7bea-4e58-a0cc-68f887804425"
      },
      "execution_count": 266,
      "outputs": [
        {
          "output_type": "stream",
          "name": "stdout",
          "text": [
            "value of the Series \n",
            " [ 1.2  2.5 -2.2  3.1 -0.8 -3.2]\n"
          ]
        }
      ]
    },
    {
      "cell_type": "code",
      "source": [
        "#diplay a indices of the Series\n",
        "print(\"indices of the Series \\n\",s3.index)"
      ],
      "metadata": {
        "colab": {
          "base_uri": "https://localhost:8080/",
          "height": 0
        },
        "id": "tNxX5GM8uJTt",
        "outputId": "1c71e513-f24f-4e24-fc0b-82eed0190740"
      },
      "execution_count": 267,
      "outputs": [
        {
          "output_type": "stream",
          "name": "stdout",
          "text": [
            "indices of the Series \n",
            " Index(['jan1', 'jan2', 'jan3', 'jan4', 'jan5', 'jan6'], dtype='object')\n"
          ]
        }
      ]
    },
    {
      "cell_type": "code",
      "source": [
        "#diplay the element type of the Series\n",
        "print(\"element type of the Series \\n\",s3.dtype)"
      ],
      "metadata": {
        "colab": {
          "base_uri": "https://localhost:8080/",
          "height": 0
        },
        "id": "c6hbQO_1uJGb",
        "outputId": "6c5abe72-3ba6-493f-bb6f-66629ff2842b"
      },
      "execution_count": 268,
      "outputs": [
        {
          "output_type": "stream",
          "name": "stdout",
          "text": [
            "element type of the Series \n",
            " float64\n"
          ]
        }
      ]
    },
    {
      "cell_type": "markdown",
      "source": [
        "**Dictionary**"
      ],
      "metadata": {
        "id": "1BX9N6q-uje9"
      }
    },
    {
      "cell_type": "code",
      "source": [
        "#Create a dictionary\n",
        "my_dict={'Mi':'Lansing','CA':'Sacramento','TX':'Austin','MN':'St paul'}\n",
        "print(\"my dictionary \\n\",my_dict)"
      ],
      "metadata": {
        "colab": {
          "base_uri": "https://localhost:8080/",
          "height": 0
        },
        "id": "rHggjWYyunlI",
        "outputId": "3d11a960-5193-4df0-d305-a7c151e3c679"
      },
      "execution_count": 269,
      "outputs": [
        {
          "output_type": "stream",
          "name": "stdout",
          "text": [
            "my dictionary \n",
            " {'Mi': 'Lansing', 'CA': 'Sacramento', 'TX': 'Austin', 'MN': 'St paul'}\n"
          ]
        }
      ]
    },
    {
      "cell_type": "code",
      "source": [
        "#creating a series from my dictionary\n",
        "dict_series=Series(my_dict)\n",
        "print(\"My dictionary series \\n\",dict_series)"
      ],
      "metadata": {
        "colab": {
          "base_uri": "https://localhost:8080/",
          "height": 0
        },
        "id": "UpzehifQvNI6",
        "outputId": "13edb96f-16f0-406e-fc4c-9bf36573b022"
      },
      "execution_count": 270,
      "outputs": [
        {
          "output_type": "stream",
          "name": "stdout",
          "text": [
            "My dictionary series \n",
            " Mi       Lansing\n",
            "CA    Sacramento\n",
            "TX        Austin\n",
            "MN       St paul\n",
            "dtype: object\n"
          ]
        }
      ]
    },
    {
      "cell_type": "code",
      "source": [
        "#display series value \n",
        "print(\"display series value \\n\",dict_series.values)"
      ],
      "metadata": {
        "colab": {
          "base_uri": "https://localhost:8080/",
          "height": 0
        },
        "id": "GU3_x6h5vhG5",
        "outputId": "cc945c64-48c6-47c9-814d-3758299bedfc"
      },
      "execution_count": 271,
      "outputs": [
        {
          "output_type": "stream",
          "name": "stdout",
          "text": [
            "display series value \n",
            " ['Lansing' 'Sacramento' 'Austin' 'St paul']\n"
          ]
        }
      ]
    },
    {
      "cell_type": "code",
      "source": [
        "#display series of indexes \n",
        "print(\"display series value \\n\",dict_series.index)"
      ],
      "metadata": {
        "colab": {
          "base_uri": "https://localhost:8080/",
          "height": 0
        },
        "id": "FRzxIitHvwJR",
        "outputId": "66ddc5f6-cc01-4e2e-e1ec-8f4b575db569"
      },
      "execution_count": 272,
      "outputs": [
        {
          "output_type": "stream",
          "name": "stdout",
          "text": [
            "display series value \n",
            " Index(['Mi', 'CA', 'TX', 'MN'], dtype='object')\n"
          ]
        }
      ]
    },
    {
      "cell_type": "code",
      "source": [
        "#display series of data type\n",
        "print(\"display series value \\n\",dict_series.dtype)"
      ],
      "metadata": {
        "colab": {
          "base_uri": "https://localhost:8080/",
          "height": 0
        },
        "id": "17KPVk4Mv3AR",
        "outputId": "cc782637-dd7f-4f6e-cca0-70f63a304423"
      },
      "execution_count": 273,
      "outputs": [
        {
          "output_type": "stream",
          "name": "stdout",
          "text": [
            "display series value \n",
            " object\n"
          ]
        }
      ]
    },
    {
      "cell_type": "markdown",
      "source": [
        "**List**"
      ],
      "metadata": {
        "id": "cqriTGZXwA47"
      }
    },
    {
      "cell_type": "code",
      "source": [
        "#creating a Sereis  from a list\n",
        "list_series=Series([1.2,2.5,-2.2,3.1,-0.8,-3.2],index=['jan1','jan2','jan3','jan4','jan5','jan6'])\n",
        "print(\"series of list \\n\",list_series)"
      ],
      "metadata": {
        "colab": {
          "base_uri": "https://localhost:8080/",
          "height": 0
        },
        "id": "u5q7IEYnv9fa",
        "outputId": "6bb5566c-18d6-4cb1-aa9a-76954c83fc0e"
      },
      "execution_count": 274,
      "outputs": [
        {
          "output_type": "stream",
          "name": "stdout",
          "text": [
            "series of list \n",
            " jan1    1.2\n",
            "jan2    2.5\n",
            "jan3   -2.2\n",
            "jan4    3.1\n",
            "jan5   -0.8\n",
            "jan6   -3.2\n",
            "dtype: float64\n"
          ]
        }
      ]
    },
    {
      "cell_type": "code",
      "source": [
        "#Acessing Elemnets of a series\n",
        "#display 3rd Element of series\n",
        "print(\" 3rd Element of series =\",list_series[2])"
      ],
      "metadata": {
        "colab": {
          "base_uri": "https://localhost:8080/",
          "height": 0
        },
        "id": "Q9C-oR-qJsUi",
        "outputId": "3f43f5d1-0bee-44d3-c49a-3744afa52060"
      },
      "execution_count": 275,
      "outputs": [
        {
          "output_type": "stream",
          "name": "stdout",
          "text": [
            " 3rd Element of series = -2.2\n"
          ]
        }
      ]
    },
    {
      "cell_type": "code",
      "source": [
        "#indexing Elemnets of a series\n",
        "print(\"indexing Elemnets of a series\",list_series['jan3'])"
      ],
      "metadata": {
        "colab": {
          "base_uri": "https://localhost:8080/",
          "height": 0
        },
        "id": "6R0637UhLD7x",
        "outputId": "e0145f6e-50af-4059-e283-16eb86e30cf1"
      },
      "execution_count": 276,
      "outputs": [
        {
          "output_type": "stream",
          "name": "stdout",
          "text": [
            "indexing Elemnets of a series -2.2\n"
          ]
        }
      ]
    },
    {
      "cell_type": "code",
      "source": [
        "#display a slice of the series\n",
        "print(\"a slice of the series \\n\",list_series[:3])"
      ],
      "metadata": {
        "colab": {
          "base_uri": "https://localhost:8080/",
          "height": 0
        },
        "id": "8-RseV0uLbJA",
        "outputId": "6109ce35-7b65-45cb-b142-9d637f7ba72d"
      },
      "execution_count": 277,
      "outputs": [
        {
          "output_type": "stream",
          "name": "stdout",
          "text": [
            "a slice of the series \n",
            " jan1    1.2\n",
            "jan2    2.5\n",
            "jan3   -2.2\n",
            "dtype: float64\n"
          ]
        }
      ]
    },
    {
      "cell_type": "code",
      "source": [
        "#display a slice of the series\n",
        "print(\"a slice of the series \\n\",list_series[1:3])"
      ],
      "metadata": {
        "colab": {
          "base_uri": "https://localhost:8080/",
          "height": 0
        },
        "id": "0WONdymBLxCl",
        "outputId": "49bb2b64-510c-429d-cae3-28625e854977"
      },
      "execution_count": 278,
      "outputs": [
        {
          "output_type": "stream",
          "name": "stdout",
          "text": [
            "a slice of the series \n",
            " jan2    2.5\n",
            "jan3   -2.2\n",
            "dtype: float64\n"
          ]
        }
      ]
    },
    {
      "cell_type": "code",
      "source": [
        "#display a slice of the series\n",
        "print(\"a slice of the series \\n\",list_series[2:3])"
      ],
      "metadata": {
        "colab": {
          "base_uri": "https://localhost:8080/",
          "height": 0
        },
        "id": "-gW2AiEzLzjT",
        "outputId": "b13e625d-412f-4db0-aa3b-8ad751616b28"
      },
      "execution_count": 279,
      "outputs": [
        {
          "output_type": "stream",
          "name": "stdout",
          "text": [
            "a slice of the series \n",
            " jan3   -2.2\n",
            "dtype: float64\n"
          ]
        }
      ]
    },
    {
      "cell_type": "markdown",
      "source": [
        "There are various function Available to find the number of elemnets in a series .Result of the function depends on wether null element are include."
      ],
      "metadata": {
        "id": "pMMgFAVVL6Ls"
      }
    },
    {
      "cell_type": "code",
      "source": [
        "list_series['jan7']=np.nan\n",
        "print(\"serie of the element os the series \\n\",list_series)"
      ],
      "metadata": {
        "colab": {
          "base_uri": "https://localhost:8080/",
          "height": 0
        },
        "id": "AcQm_r8AMLWe",
        "outputId": "921cf0c5-176d-48a9-de22-5a5cdfbeb42e"
      },
      "execution_count": 280,
      "outputs": [
        {
          "output_type": "stream",
          "name": "stdout",
          "text": [
            "serie of the element os the series \n",
            " jan1    1.2\n",
            "jan2    2.5\n",
            "jan3   -2.2\n",
            "jan4    3.1\n",
            "jan5   -0.8\n",
            "jan6   -3.2\n",
            "jan7    NaN\n",
            "dtype: float64\n"
          ]
        }
      ]
    },
    {
      "cell_type": "code",
      "source": [
        "#get the dimension of the shape\n",
        "print(\"shape of the series =\",list_series.shape)"
      ],
      "metadata": {
        "colab": {
          "base_uri": "https://localhost:8080/",
          "height": 0
        },
        "id": "z_AW32soMnvr",
        "outputId": "f431e8a6-b106-49b2-f180-972046041366"
      },
      "execution_count": 281,
      "outputs": [
        {
          "output_type": "stream",
          "name": "stdout",
          "text": [
            "shape of the series = (7,)\n"
          ]
        }
      ]
    },
    {
      "cell_type": "code",
      "source": [
        "#get the number of element of the series\n",
        "print(\"the number of element of the series = \",len(list_series))"
      ],
      "metadata": {
        "colab": {
          "base_uri": "https://localhost:8080/",
          "height": 0
        },
        "id": "lQbOcQLNM7KX",
        "outputId": "3e6ff19a-5f5b-449f-a5d7-f28fdf8a405e"
      },
      "execution_count": 282,
      "outputs": [
        {
          "output_type": "stream",
          "name": "stdout",
          "text": [
            "the number of element of the series =  7\n"
          ]
        }
      ]
    },
    {
      "cell_type": "code",
      "source": [
        "#get the number of the non-null element of the series\n",
        "print(\"the total number of the non-null element of the series =\",list_series.count())"
      ],
      "metadata": {
        "colab": {
          "base_uri": "https://localhost:8080/",
          "height": 0
        },
        "id": "0rtsIxw_NJ5h",
        "outputId": "24f5615f-4e0b-49f5-e4f4-2fb5782d8f35"
      },
      "execution_count": 283,
      "outputs": [
        {
          "output_type": "stream",
          "name": "stdout",
          "text": [
            "the total number of the non-null element of the series = 6\n"
          ]
        }
      ]
    },
    {
      "cell_type": "markdown",
      "source": [
        "A boolean filter can be used to select elemnet of a series."
      ],
      "metadata": {
        "id": "x2UVV8DWOdul"
      }
    },
    {
      "cell_type": "code",
      "source": [
        "#Applying filter to select non-negative element of the series\n",
        "print(list_series[list_series > 0])"
      ],
      "metadata": {
        "colab": {
          "base_uri": "https://localhost:8080/",
          "height": 0
        },
        "id": "lhaiVe3fNoGU",
        "outputId": "bde14ddc-4591-4800-a1b7-c17c3364017e"
      },
      "execution_count": 284,
      "outputs": [
        {
          "output_type": "stream",
          "name": "stdout",
          "text": [
            "jan1    1.2\n",
            "jan2    2.5\n",
            "jan4    3.1\n",
            "dtype: float64\n"
          ]
        }
      ]
    },
    {
      "cell_type": "markdown",
      "source": [
        "Scalar Operations can be performed on element of a numeric Series."
      ],
      "metadata": {
        "id": "E7pVVs66PDy2"
      }
    },
    {
      "cell_type": "code",
      "source": [
        "#add 4 in series of each element\n",
        "print(\" add 4 in series of each element \\n\",list_series + 4)"
      ],
      "metadata": {
        "colab": {
          "base_uri": "https://localhost:8080/",
          "height": 0
        },
        "id": "vtiJsKzGPAJZ",
        "outputId": "34563b41-96c7-450e-f86c-d808af2ef5f3"
      },
      "execution_count": 285,
      "outputs": [
        {
          "output_type": "stream",
          "name": "stdout",
          "text": [
            " add 4 in series of each element \n",
            " jan1    5.2\n",
            "jan2    6.5\n",
            "jan3    1.8\n",
            "jan4    7.1\n",
            "jan5    3.2\n",
            "jan6    0.8\n",
            "jan7    NaN\n",
            "dtype: float64\n"
          ]
        }
      ]
    },
    {
      "cell_type": "code",
      "source": [
        "#divide by 4 series of each element\n",
        "print(\" divide by 4 series of each element \\n\",list_series/4)"
      ],
      "metadata": {
        "colab": {
          "base_uri": "https://localhost:8080/",
          "height": 0
        },
        "id": "FA_ZrkO7PqEg",
        "outputId": "92379313-3d7b-4de3-9f1f-606a9ce664e4"
      },
      "execution_count": 286,
      "outputs": [
        {
          "output_type": "stream",
          "name": "stdout",
          "text": [
            " divide by 4 series of each element \n",
            " jan1    0.300\n",
            "jan2    0.625\n",
            "jan3   -0.550\n",
            "jan4    0.775\n",
            "jan5   -0.200\n",
            "jan6   -0.800\n",
            "jan7      NaN\n",
            "dtype: float64\n"
          ]
        }
      ]
    },
    {
      "cell_type": "markdown",
      "source": [
        "Numpy function can be applied to pandas series."
      ],
      "metadata": {
        "id": "CoT0rLKiP3eQ"
      }
    },
    {
      "cell_type": "code",
      "source": [
        "#Apply log function \n",
        "print('log function \\n',np.log(list_series +4))"
      ],
      "metadata": {
        "colab": {
          "base_uri": "https://localhost:8080/",
          "height": 0
        },
        "id": "-nCzsUOiP-Oh",
        "outputId": "611bc1b7-88e9-4e7a-a685-1d2da9272f40"
      },
      "execution_count": 287,
      "outputs": [
        {
          "output_type": "stream",
          "name": "stdout",
          "text": [
            "log function \n",
            " jan1    1.648659\n",
            "jan2    1.871802\n",
            "jan3    0.587787\n",
            "jan4    1.960095\n",
            "jan5    1.163151\n",
            "jan6   -0.223144\n",
            "jan7         NaN\n",
            "dtype: float64\n"
          ]
        }
      ]
    },
    {
      "cell_type": "code",
      "source": [
        "#Apply exponention function \n",
        "print('log function \\n',np.exp(list_series +4))"
      ],
      "metadata": {
        "colab": {
          "base_uri": "https://localhost:8080/",
          "height": 0
        },
        "id": "uCKr9r9Rd_vC",
        "outputId": "66811e59-4bc2-41dc-d77e-8b3415968cb1"
      },
      "execution_count": 288,
      "outputs": [
        {
          "output_type": "stream",
          "name": "stdout",
          "text": [
            "log function \n",
            " jan1     181.272242\n",
            "jan2     665.141633\n",
            "jan3       6.049647\n",
            "jan4    1211.967074\n",
            "jan5      24.532530\n",
            "jan6       2.225541\n",
            "jan7            NaN\n",
            "dtype: float64\n"
          ]
        }
      ]
    },
    {
      "cell_type": "code",
      "source": [
        "#The value_counts() funvtion can be used for tabulating the counts of each discrete value in the Series.\n",
        "colors=Series(['red','green','yellow','blue','orange','pink',np.nan])\n",
        "print('color series \\n',colors)"
      ],
      "metadata": {
        "colab": {
          "base_uri": "https://localhost:8080/",
          "height": 0
        },
        "id": "k05BVf93eMjR",
        "outputId": "b7a2f23e-daff-4517-caec-75321068672c"
      },
      "execution_count": 289,
      "outputs": [
        {
          "output_type": "stream",
          "name": "stdout",
          "text": [
            "color series \n",
            " 0       red\n",
            "1     green\n",
            "2    yellow\n",
            "3      blue\n",
            "4    orange\n",
            "5      pink\n",
            "6       NaN\n",
            "dtype: object\n"
          ]
        }
      ]
    },
    {
      "cell_type": "code",
      "source": [
        "print(\"count color values\",colors.value_counts())"
      ],
      "metadata": {
        "colab": {
          "base_uri": "https://localhost:8080/",
          "height": 0
        },
        "id": "M1SnMdLfemTz",
        "outputId": "a8934dc7-8351-4ffa-ae63-c4760af990b8"
      },
      "execution_count": 290,
      "outputs": [
        {
          "output_type": "stream",
          "name": "stdout",
          "text": [
            "count color values red       1\n",
            "green     1\n",
            "yellow    1\n",
            "blue      1\n",
            "orange    1\n",
            "pink      1\n",
            "dtype: int64\n"
          ]
        }
      ]
    },
    {
      "cell_type": "markdown",
      "source": [
        "#**DataFrame**"
      ],
      "metadata": {
        "id": "sdMgB9lHjWtE"
      }
    },
    {
      "cell_type": "code",
      "source": [
        "import pandas as pd\n",
        "#create dictionary \n",
        "cars={\n",
        "    'make':['Ford','Honda','Toyota','Tesla'],\n",
        "    'model':['Taurus','Accord','Camry','Models'],\n",
        "    'MSRP':[27595,23570,23495,68000]\n",
        "}"
      ],
      "metadata": {
        "id": "pJMlJunii676"
      },
      "execution_count": 291,
      "outputs": []
    },
    {
      "cell_type": "code",
      "source": [
        "#creating Dataframe from dictionary\n",
        "car_df=pd.DataFrame(cars)\n",
        "#print data\n",
        "print(car_df)"
      ],
      "metadata": {
        "colab": {
          "base_uri": "https://localhost:8080/",
          "height": 0
        },
        "id": "9gJRzGeykQB_",
        "outputId": "05287f25-0652-4e0f-d4cf-7e6b7fb8b444"
      },
      "execution_count": 292,
      "outputs": [
        {
          "output_type": "stream",
          "name": "stdout",
          "text": [
            "     make   model   MSRP\n",
            "0    Ford  Taurus  27595\n",
            "1   Honda  Accord  23570\n",
            "2  Toyota   Camry  23495\n",
            "3   Tesla  Models  68000\n"
          ]
        }
      ]
    },
    {
      "cell_type": "code",
      "source": [
        "#print the row indices\n",
        "print('the row indices of data \\n',car_df.index)"
      ],
      "metadata": {
        "colab": {
          "base_uri": "https://localhost:8080/",
          "height": 0
        },
        "id": "BYZwxv1RkvQ4",
        "outputId": "295e00ff-d946-41ce-b82b-a655f7d5b72c"
      },
      "execution_count": 293,
      "outputs": [
        {
          "output_type": "stream",
          "name": "stdout",
          "text": [
            "the row indices of data \n",
            " RangeIndex(start=0, stop=4, step=1)\n"
          ]
        }
      ]
    },
    {
      "cell_type": "code",
      "source": [
        "#print the column name\n",
        "print('the row indices of data \\n',car_df.columns)"
      ],
      "metadata": {
        "colab": {
          "base_uri": "https://localhost:8080/",
          "height": 0
        },
        "id": "JT7J09eYk-E6",
        "outputId": "b054c455-3356-403d-9f2d-6c9350cc0ba3"
      },
      "execution_count": 294,
      "outputs": [
        {
          "output_type": "stream",
          "name": "stdout",
          "text": [
            "the row indices of data \n",
            " Index(['make', 'model', 'MSRP'], dtype='object')\n"
          ]
        }
      ]
    },
    {
      "cell_type": "markdown",
      "source": [
        "inserting columns to an existing dataframe."
      ],
      "metadata": {
        "id": "sitldUWKlU4o"
      }
    },
    {
      "cell_type": "code",
      "source": [
        "#change the row index\n",
        "new_data=pd.DataFrame(cars,index=[1,2,3,4])"
      ],
      "metadata": {
        "id": "X8KGP537lMNq"
      },
      "execution_count": 295,
      "outputs": []
    },
    {
      "cell_type": "code",
      "source": [
        "#Add column with same value\n",
        "new_data['year']=2023\n",
        "new_data['dealership']=['Courtesy Ford','Capital Honda','Spartan Toyota','N/A']\n",
        "new_data"
      ],
      "metadata": {
        "colab": {
          "base_uri": "https://localhost:8080/",
          "height": 174
        },
        "id": "9aQ2IrdUls19",
        "outputId": "e6ebee98-436a-402a-c3da-173efcc7f4ab"
      },
      "execution_count": 296,
      "outputs": [
        {
          "output_type": "execute_result",
          "data": {
            "text/plain": [
              "     make   model   MSRP  year      dealership\n",
              "1    Ford  Taurus  27595  2023   Courtesy Ford\n",
              "2   Honda  Accord  23570  2023   Capital Honda\n",
              "3  Toyota   Camry  23495  2023  Spartan Toyota\n",
              "4   Tesla  Models  68000  2023             N/A"
            ],
            "text/html": [
              "\n",
              "  <div id=\"df-f20f3a25-c01d-47ee-884b-6bc2e5efcadd\">\n",
              "    <div class=\"colab-df-container\">\n",
              "      <div>\n",
              "<style scoped>\n",
              "    .dataframe tbody tr th:only-of-type {\n",
              "        vertical-align: middle;\n",
              "    }\n",
              "\n",
              "    .dataframe tbody tr th {\n",
              "        vertical-align: top;\n",
              "    }\n",
              "\n",
              "    .dataframe thead th {\n",
              "        text-align: right;\n",
              "    }\n",
              "</style>\n",
              "<table border=\"1\" class=\"dataframe\">\n",
              "  <thead>\n",
              "    <tr style=\"text-align: right;\">\n",
              "      <th></th>\n",
              "      <th>make</th>\n",
              "      <th>model</th>\n",
              "      <th>MSRP</th>\n",
              "      <th>year</th>\n",
              "      <th>dealership</th>\n",
              "    </tr>\n",
              "  </thead>\n",
              "  <tbody>\n",
              "    <tr>\n",
              "      <th>1</th>\n",
              "      <td>Ford</td>\n",
              "      <td>Taurus</td>\n",
              "      <td>27595</td>\n",
              "      <td>2023</td>\n",
              "      <td>Courtesy Ford</td>\n",
              "    </tr>\n",
              "    <tr>\n",
              "      <th>2</th>\n",
              "      <td>Honda</td>\n",
              "      <td>Accord</td>\n",
              "      <td>23570</td>\n",
              "      <td>2023</td>\n",
              "      <td>Capital Honda</td>\n",
              "    </tr>\n",
              "    <tr>\n",
              "      <th>3</th>\n",
              "      <td>Toyota</td>\n",
              "      <td>Camry</td>\n",
              "      <td>23495</td>\n",
              "      <td>2023</td>\n",
              "      <td>Spartan Toyota</td>\n",
              "    </tr>\n",
              "    <tr>\n",
              "      <th>4</th>\n",
              "      <td>Tesla</td>\n",
              "      <td>Models</td>\n",
              "      <td>68000</td>\n",
              "      <td>2023</td>\n",
              "      <td>N/A</td>\n",
              "    </tr>\n",
              "  </tbody>\n",
              "</table>\n",
              "</div>\n",
              "      <button class=\"colab-df-convert\" onclick=\"convertToInteractive('df-f20f3a25-c01d-47ee-884b-6bc2e5efcadd')\"\n",
              "              title=\"Convert this dataframe to an interactive table.\"\n",
              "              style=\"display:none;\">\n",
              "        \n",
              "  <svg xmlns=\"http://www.w3.org/2000/svg\" height=\"24px\"viewBox=\"0 0 24 24\"\n",
              "       width=\"24px\">\n",
              "    <path d=\"M0 0h24v24H0V0z\" fill=\"none\"/>\n",
              "    <path d=\"M18.56 5.44l.94 2.06.94-2.06 2.06-.94-2.06-.94-.94-2.06-.94 2.06-2.06.94zm-11 1L8.5 8.5l.94-2.06 2.06-.94-2.06-.94L8.5 2.5l-.94 2.06-2.06.94zm10 10l.94 2.06.94-2.06 2.06-.94-2.06-.94-.94-2.06-.94 2.06-2.06.94z\"/><path d=\"M17.41 7.96l-1.37-1.37c-.4-.4-.92-.59-1.43-.59-.52 0-1.04.2-1.43.59L10.3 9.45l-7.72 7.72c-.78.78-.78 2.05 0 2.83L4 21.41c.39.39.9.59 1.41.59.51 0 1.02-.2 1.41-.59l7.78-7.78 2.81-2.81c.8-.78.8-2.07 0-2.86zM5.41 20L4 18.59l7.72-7.72 1.47 1.35L5.41 20z\"/>\n",
              "  </svg>\n",
              "      </button>\n",
              "      \n",
              "  <style>\n",
              "    .colab-df-container {\n",
              "      display:flex;\n",
              "      flex-wrap:wrap;\n",
              "      gap: 12px;\n",
              "    }\n",
              "\n",
              "    .colab-df-convert {\n",
              "      background-color: #E8F0FE;\n",
              "      border: none;\n",
              "      border-radius: 50%;\n",
              "      cursor: pointer;\n",
              "      display: none;\n",
              "      fill: #1967D2;\n",
              "      height: 32px;\n",
              "      padding: 0 0 0 0;\n",
              "      width: 32px;\n",
              "    }\n",
              "\n",
              "    .colab-df-convert:hover {\n",
              "      background-color: #E2EBFA;\n",
              "      box-shadow: 0px 1px 2px rgba(60, 64, 67, 0.3), 0px 1px 3px 1px rgba(60, 64, 67, 0.15);\n",
              "      fill: #174EA6;\n",
              "    }\n",
              "\n",
              "    [theme=dark] .colab-df-convert {\n",
              "      background-color: #3B4455;\n",
              "      fill: #D2E3FC;\n",
              "    }\n",
              "\n",
              "    [theme=dark] .colab-df-convert:hover {\n",
              "      background-color: #434B5C;\n",
              "      box-shadow: 0px 1px 3px 1px rgba(0, 0, 0, 0.15);\n",
              "      filter: drop-shadow(0px 1px 2px rgba(0, 0, 0, 0.3));\n",
              "      fill: #FFFFFF;\n",
              "    }\n",
              "  </style>\n",
              "\n",
              "      <script>\n",
              "        const buttonEl =\n",
              "          document.querySelector('#df-f20f3a25-c01d-47ee-884b-6bc2e5efcadd button.colab-df-convert');\n",
              "        buttonEl.style.display =\n",
              "          google.colab.kernel.accessAllowed ? 'block' : 'none';\n",
              "\n",
              "        async function convertToInteractive(key) {\n",
              "          const element = document.querySelector('#df-f20f3a25-c01d-47ee-884b-6bc2e5efcadd');\n",
              "          const dataTable =\n",
              "            await google.colab.kernel.invokeFunction('convertToInteractive',\n",
              "                                                     [key], {});\n",
              "          if (!dataTable) return;\n",
              "\n",
              "          const docLinkHtml = 'Like what you see? Visit the ' +\n",
              "            '<a target=\"_blank\" href=https://colab.research.google.com/notebooks/data_table.ipynb>data table notebook</a>'\n",
              "            + ' to learn more about interactive tables.';\n",
              "          element.innerHTML = '';\n",
              "          dataTable['output_type'] = 'display_data';\n",
              "          await google.colab.output.renderOutput(dataTable, element);\n",
              "          const docLink = document.createElement('div');\n",
              "          docLink.innerHTML = docLinkHtml;\n",
              "          element.appendChild(docLink);\n",
              "        }\n",
              "      </script>\n",
              "    </div>\n",
              "  </div>\n",
              "  "
            ]
          },
          "metadata": {},
          "execution_count": 296
        }
      ]
    },
    {
      "cell_type": "code",
      "source": [
        "#Creating DataFrame from a list of tuple\n",
        "tuple_list=[(2011,45.1,32.4),(2012,424,34.5),(2013,47.2,39.2),(2014,44.2,31.4),(2015,39.9,29.8),(2016,41.5,36.7)]\n",
        "column_name=['year','temp','precip']\n",
        "df=pd.DataFrame(tuple_list,columns=column_name)\n",
        "df"
      ],
      "metadata": {
        "colab": {
          "base_uri": "https://localhost:8080/",
          "height": 237
        },
        "id": "0A471Da-mTjX",
        "outputId": "4be76d50-8250-43b3-8fad-ad3a4fbc6dff"
      },
      "execution_count": 297,
      "outputs": [
        {
          "output_type": "execute_result",
          "data": {
            "text/plain": [
              "   year   temp  precip\n",
              "0  2011   45.1    32.4\n",
              "1  2012  424.0    34.5\n",
              "2  2013   47.2    39.2\n",
              "3  2014   44.2    31.4\n",
              "4  2015   39.9    29.8\n",
              "5  2016   41.5    36.7"
            ],
            "text/html": [
              "\n",
              "  <div id=\"df-4fc0d634-4c33-493a-9549-bdbe9e1e29cf\">\n",
              "    <div class=\"colab-df-container\">\n",
              "      <div>\n",
              "<style scoped>\n",
              "    .dataframe tbody tr th:only-of-type {\n",
              "        vertical-align: middle;\n",
              "    }\n",
              "\n",
              "    .dataframe tbody tr th {\n",
              "        vertical-align: top;\n",
              "    }\n",
              "\n",
              "    .dataframe thead th {\n",
              "        text-align: right;\n",
              "    }\n",
              "</style>\n",
              "<table border=\"1\" class=\"dataframe\">\n",
              "  <thead>\n",
              "    <tr style=\"text-align: right;\">\n",
              "      <th></th>\n",
              "      <th>year</th>\n",
              "      <th>temp</th>\n",
              "      <th>precip</th>\n",
              "    </tr>\n",
              "  </thead>\n",
              "  <tbody>\n",
              "    <tr>\n",
              "      <th>0</th>\n",
              "      <td>2011</td>\n",
              "      <td>45.1</td>\n",
              "      <td>32.4</td>\n",
              "    </tr>\n",
              "    <tr>\n",
              "      <th>1</th>\n",
              "      <td>2012</td>\n",
              "      <td>424.0</td>\n",
              "      <td>34.5</td>\n",
              "    </tr>\n",
              "    <tr>\n",
              "      <th>2</th>\n",
              "      <td>2013</td>\n",
              "      <td>47.2</td>\n",
              "      <td>39.2</td>\n",
              "    </tr>\n",
              "    <tr>\n",
              "      <th>3</th>\n",
              "      <td>2014</td>\n",
              "      <td>44.2</td>\n",
              "      <td>31.4</td>\n",
              "    </tr>\n",
              "    <tr>\n",
              "      <th>4</th>\n",
              "      <td>2015</td>\n",
              "      <td>39.9</td>\n",
              "      <td>29.8</td>\n",
              "    </tr>\n",
              "    <tr>\n",
              "      <th>5</th>\n",
              "      <td>2016</td>\n",
              "      <td>41.5</td>\n",
              "      <td>36.7</td>\n",
              "    </tr>\n",
              "  </tbody>\n",
              "</table>\n",
              "</div>\n",
              "      <button class=\"colab-df-convert\" onclick=\"convertToInteractive('df-4fc0d634-4c33-493a-9549-bdbe9e1e29cf')\"\n",
              "              title=\"Convert this dataframe to an interactive table.\"\n",
              "              style=\"display:none;\">\n",
              "        \n",
              "  <svg xmlns=\"http://www.w3.org/2000/svg\" height=\"24px\"viewBox=\"0 0 24 24\"\n",
              "       width=\"24px\">\n",
              "    <path d=\"M0 0h24v24H0V0z\" fill=\"none\"/>\n",
              "    <path d=\"M18.56 5.44l.94 2.06.94-2.06 2.06-.94-2.06-.94-.94-2.06-.94 2.06-2.06.94zm-11 1L8.5 8.5l.94-2.06 2.06-.94-2.06-.94L8.5 2.5l-.94 2.06-2.06.94zm10 10l.94 2.06.94-2.06 2.06-.94-2.06-.94-.94-2.06-.94 2.06-2.06.94z\"/><path d=\"M17.41 7.96l-1.37-1.37c-.4-.4-.92-.59-1.43-.59-.52 0-1.04.2-1.43.59L10.3 9.45l-7.72 7.72c-.78.78-.78 2.05 0 2.83L4 21.41c.39.39.9.59 1.41.59.51 0 1.02-.2 1.41-.59l7.78-7.78 2.81-2.81c.8-.78.8-2.07 0-2.86zM5.41 20L4 18.59l7.72-7.72 1.47 1.35L5.41 20z\"/>\n",
              "  </svg>\n",
              "      </button>\n",
              "      \n",
              "  <style>\n",
              "    .colab-df-container {\n",
              "      display:flex;\n",
              "      flex-wrap:wrap;\n",
              "      gap: 12px;\n",
              "    }\n",
              "\n",
              "    .colab-df-convert {\n",
              "      background-color: #E8F0FE;\n",
              "      border: none;\n",
              "      border-radius: 50%;\n",
              "      cursor: pointer;\n",
              "      display: none;\n",
              "      fill: #1967D2;\n",
              "      height: 32px;\n",
              "      padding: 0 0 0 0;\n",
              "      width: 32px;\n",
              "    }\n",
              "\n",
              "    .colab-df-convert:hover {\n",
              "      background-color: #E2EBFA;\n",
              "      box-shadow: 0px 1px 2px rgba(60, 64, 67, 0.3), 0px 1px 3px 1px rgba(60, 64, 67, 0.15);\n",
              "      fill: #174EA6;\n",
              "    }\n",
              "\n",
              "    [theme=dark] .colab-df-convert {\n",
              "      background-color: #3B4455;\n",
              "      fill: #D2E3FC;\n",
              "    }\n",
              "\n",
              "    [theme=dark] .colab-df-convert:hover {\n",
              "      background-color: #434B5C;\n",
              "      box-shadow: 0px 1px 3px 1px rgba(0, 0, 0, 0.15);\n",
              "      filter: drop-shadow(0px 1px 2px rgba(0, 0, 0, 0.3));\n",
              "      fill: #FFFFFF;\n",
              "    }\n",
              "  </style>\n",
              "\n",
              "      <script>\n",
              "        const buttonEl =\n",
              "          document.querySelector('#df-4fc0d634-4c33-493a-9549-bdbe9e1e29cf button.colab-df-convert');\n",
              "        buttonEl.style.display =\n",
              "          google.colab.kernel.accessAllowed ? 'block' : 'none';\n",
              "\n",
              "        async function convertToInteractive(key) {\n",
              "          const element = document.querySelector('#df-4fc0d634-4c33-493a-9549-bdbe9e1e29cf');\n",
              "          const dataTable =\n",
              "            await google.colab.kernel.invokeFunction('convertToInteractive',\n",
              "                                                     [key], {});\n",
              "          if (!dataTable) return;\n",
              "\n",
              "          const docLinkHtml = 'Like what you see? Visit the ' +\n",
              "            '<a target=\"_blank\" href=https://colab.research.google.com/notebooks/data_table.ipynb>data table notebook</a>'\n",
              "            + ' to learn more about interactive tables.';\n",
              "          element.innerHTML = '';\n",
              "          dataTable['output_type'] = 'display_data';\n",
              "          await google.colab.output.renderOutput(dataTable, element);\n",
              "          const docLink = document.createElement('div');\n",
              "          docLink.innerHTML = docLinkHtml;\n",
              "          element.appendChild(docLink);\n",
              "        }\n",
              "      </script>\n",
              "    </div>\n",
              "  </div>\n",
              "  "
            ]
          },
          "metadata": {},
          "execution_count": 297
        }
      ]
    },
    {
      "cell_type": "code",
      "source": [
        "#crating Dataframe from numpy ndarray\n",
        "import numpy as np\n",
        "arr_data=np.random.randn(5,3)\n",
        "column_names=['p1','p2','p3']\n",
        "df1=pd.DataFrame(arr_data,columns=column_names)\n",
        "df1"
      ],
      "metadata": {
        "colab": {
          "base_uri": "https://localhost:8080/",
          "height": 206
        },
        "id": "u_TmHOBloYWo",
        "outputId": "4da264a6-a17c-435b-84dd-6ae5a9135e8c"
      },
      "execution_count": 298,
      "outputs": [
        {
          "output_type": "execute_result",
          "data": {
            "text/plain": [
              "         p1        p2        p3\n",
              "0 -1.488367 -0.344447  0.943069\n",
              "1  1.265409 -0.065624  0.500205\n",
              "2  0.727353 -1.743084  1.079112\n",
              "3 -0.116587  0.353792  1.709575\n",
              "4  1.946350 -0.357882  0.969666"
            ],
            "text/html": [
              "\n",
              "  <div id=\"df-aa03ff09-8666-49e0-87e6-f69fca056af2\">\n",
              "    <div class=\"colab-df-container\">\n",
              "      <div>\n",
              "<style scoped>\n",
              "    .dataframe tbody tr th:only-of-type {\n",
              "        vertical-align: middle;\n",
              "    }\n",
              "\n",
              "    .dataframe tbody tr th {\n",
              "        vertical-align: top;\n",
              "    }\n",
              "\n",
              "    .dataframe thead th {\n",
              "        text-align: right;\n",
              "    }\n",
              "</style>\n",
              "<table border=\"1\" class=\"dataframe\">\n",
              "  <thead>\n",
              "    <tr style=\"text-align: right;\">\n",
              "      <th></th>\n",
              "      <th>p1</th>\n",
              "      <th>p2</th>\n",
              "      <th>p3</th>\n",
              "    </tr>\n",
              "  </thead>\n",
              "  <tbody>\n",
              "    <tr>\n",
              "      <th>0</th>\n",
              "      <td>-1.488367</td>\n",
              "      <td>-0.344447</td>\n",
              "      <td>0.943069</td>\n",
              "    </tr>\n",
              "    <tr>\n",
              "      <th>1</th>\n",
              "      <td>1.265409</td>\n",
              "      <td>-0.065624</td>\n",
              "      <td>0.500205</td>\n",
              "    </tr>\n",
              "    <tr>\n",
              "      <th>2</th>\n",
              "      <td>0.727353</td>\n",
              "      <td>-1.743084</td>\n",
              "      <td>1.079112</td>\n",
              "    </tr>\n",
              "    <tr>\n",
              "      <th>3</th>\n",
              "      <td>-0.116587</td>\n",
              "      <td>0.353792</td>\n",
              "      <td>1.709575</td>\n",
              "    </tr>\n",
              "    <tr>\n",
              "      <th>4</th>\n",
              "      <td>1.946350</td>\n",
              "      <td>-0.357882</td>\n",
              "      <td>0.969666</td>\n",
              "    </tr>\n",
              "  </tbody>\n",
              "</table>\n",
              "</div>\n",
              "      <button class=\"colab-df-convert\" onclick=\"convertToInteractive('df-aa03ff09-8666-49e0-87e6-f69fca056af2')\"\n",
              "              title=\"Convert this dataframe to an interactive table.\"\n",
              "              style=\"display:none;\">\n",
              "        \n",
              "  <svg xmlns=\"http://www.w3.org/2000/svg\" height=\"24px\"viewBox=\"0 0 24 24\"\n",
              "       width=\"24px\">\n",
              "    <path d=\"M0 0h24v24H0V0z\" fill=\"none\"/>\n",
              "    <path d=\"M18.56 5.44l.94 2.06.94-2.06 2.06-.94-2.06-.94-.94-2.06-.94 2.06-2.06.94zm-11 1L8.5 8.5l.94-2.06 2.06-.94-2.06-.94L8.5 2.5l-.94 2.06-2.06.94zm10 10l.94 2.06.94-2.06 2.06-.94-2.06-.94-.94-2.06-.94 2.06-2.06.94z\"/><path d=\"M17.41 7.96l-1.37-1.37c-.4-.4-.92-.59-1.43-.59-.52 0-1.04.2-1.43.59L10.3 9.45l-7.72 7.72c-.78.78-.78 2.05 0 2.83L4 21.41c.39.39.9.59 1.41.59.51 0 1.02-.2 1.41-.59l7.78-7.78 2.81-2.81c.8-.78.8-2.07 0-2.86zM5.41 20L4 18.59l7.72-7.72 1.47 1.35L5.41 20z\"/>\n",
              "  </svg>\n",
              "      </button>\n",
              "      \n",
              "  <style>\n",
              "    .colab-df-container {\n",
              "      display:flex;\n",
              "      flex-wrap:wrap;\n",
              "      gap: 12px;\n",
              "    }\n",
              "\n",
              "    .colab-df-convert {\n",
              "      background-color: #E8F0FE;\n",
              "      border: none;\n",
              "      border-radius: 50%;\n",
              "      cursor: pointer;\n",
              "      display: none;\n",
              "      fill: #1967D2;\n",
              "      height: 32px;\n",
              "      padding: 0 0 0 0;\n",
              "      width: 32px;\n",
              "    }\n",
              "\n",
              "    .colab-df-convert:hover {\n",
              "      background-color: #E2EBFA;\n",
              "      box-shadow: 0px 1px 2px rgba(60, 64, 67, 0.3), 0px 1px 3px 1px rgba(60, 64, 67, 0.15);\n",
              "      fill: #174EA6;\n",
              "    }\n",
              "\n",
              "    [theme=dark] .colab-df-convert {\n",
              "      background-color: #3B4455;\n",
              "      fill: #D2E3FC;\n",
              "    }\n",
              "\n",
              "    [theme=dark] .colab-df-convert:hover {\n",
              "      background-color: #434B5C;\n",
              "      box-shadow: 0px 1px 3px 1px rgba(0, 0, 0, 0.15);\n",
              "      filter: drop-shadow(0px 1px 2px rgba(0, 0, 0, 0.3));\n",
              "      fill: #FFFFFF;\n",
              "    }\n",
              "  </style>\n",
              "\n",
              "      <script>\n",
              "        const buttonEl =\n",
              "          document.querySelector('#df-aa03ff09-8666-49e0-87e6-f69fca056af2 button.colab-df-convert');\n",
              "        buttonEl.style.display =\n",
              "          google.colab.kernel.accessAllowed ? 'block' : 'none';\n",
              "\n",
              "        async function convertToInteractive(key) {\n",
              "          const element = document.querySelector('#df-aa03ff09-8666-49e0-87e6-f69fca056af2');\n",
              "          const dataTable =\n",
              "            await google.colab.kernel.invokeFunction('convertToInteractive',\n",
              "                                                     [key], {});\n",
              "          if (!dataTable) return;\n",
              "\n",
              "          const docLinkHtml = 'Like what you see? Visit the ' +\n",
              "            '<a target=\"_blank\" href=https://colab.research.google.com/notebooks/data_table.ipynb>data table notebook</a>'\n",
              "            + ' to learn more about interactive tables.';\n",
              "          element.innerHTML = '';\n",
              "          dataTable['output_type'] = 'display_data';\n",
              "          await google.colab.output.renderOutput(dataTable, element);\n",
              "          const docLink = document.createElement('div');\n",
              "          docLink.innerHTML = docLinkHtml;\n",
              "          element.appendChild(docLink);\n",
              "        }\n",
              "      </script>\n",
              "    </div>\n",
              "  </div>\n",
              "  "
            ]
          },
          "metadata": {},
          "execution_count": 298
        }
      ]
    },
    {
      "cell_type": "markdown",
      "source": [
        "There are many ways to access elemnets of DataFrame object"
      ],
      "metadata": {
        "id": "t03plHhSpNuE"
      }
    },
    {
      "cell_type": "code",
      "source": [
        "#Accessing an entire element will return a series object\n",
        "print(df1['p1'])"
      ],
      "metadata": {
        "colab": {
          "base_uri": "https://localhost:8080/",
          "height": 0
        },
        "id": "tAYdIFiSo-kA",
        "outputId": "4285ddf5-6547-4b9b-f21d-df3d463d5c13"
      },
      "execution_count": 299,
      "outputs": [
        {
          "output_type": "stream",
          "name": "stdout",
          "text": [
            "0   -1.488367\n",
            "1    1.265409\n",
            "2    0.727353\n",
            "3   -0.116587\n",
            "4    1.946350\n",
            "Name: p1, dtype: float64\n"
          ]
        }
      ]
    },
    {
      "cell_type": "code",
      "source": [
        "#data type of p2\n",
        "print(type(df1['p2']))"
      ],
      "metadata": {
        "colab": {
          "base_uri": "https://localhost:8080/",
          "height": 0
        },
        "id": "80IYqNwwptjc",
        "outputId": "462f9482-bb47-4f2b-9241-c6ad2e966aa8"
      },
      "execution_count": 300,
      "outputs": [
        {
          "output_type": "stream",
          "name": "stdout",
          "text": [
            "<class 'pandas.core.series.Series'>\n"
          ]
        }
      ]
    },
    {
      "cell_type": "code",
      "source": [
        "#Accessing an entire row element will return a series object\n",
        "#Return 3rd row of DataFrame\n",
        "print(df1.iloc[2]) "
      ],
      "metadata": {
        "colab": {
          "base_uri": "https://localhost:8080/",
          "height": 0
        },
        "id": "cT5hPjeip4Cg",
        "outputId": "3d86c255-41b9-4d12-8d6b-a406853a052d"
      },
      "execution_count": 301,
      "outputs": [
        {
          "output_type": "stream",
          "name": "stdout",
          "text": [
            "p1    0.727353\n",
            "p2   -1.743084\n",
            "p3    1.079112\n",
            "Name: 2, dtype: float64\n"
          ]
        }
      ]
    },
    {
      "cell_type": "code",
      "source": [
        "#type of 3rd data\n",
        "print(type(df1.iloc[2]))"
      ],
      "metadata": {
        "colab": {
          "base_uri": "https://localhost:8080/",
          "height": 0
        },
        "id": "PDu-6ZRytWlK",
        "outputId": "610aad8b-963b-4d19-ed39-8fc76728c46c"
      },
      "execution_count": 302,
      "outputs": [
        {
          "output_type": "stream",
          "name": "stdout",
          "text": [
            "<class 'pandas.core.series.Series'>\n"
          ]
        }
      ]
    },
    {
      "cell_type": "code",
      "source": [
        "#accessing a specific element of the DatFrame\n",
        "print(df1.iloc[1,2])"
      ],
      "metadata": {
        "colab": {
          "base_uri": "https://localhost:8080/",
          "height": 0
        },
        "id": "h0CKQo8ztUF3",
        "outputId": "a998085b-b412-4b79-98c4-5b86a1a5bcb2"
      },
      "execution_count": 303,
      "outputs": [
        {
          "output_type": "stream",
          "name": "stdout",
          "text": [
            "0.5002048681479103\n"
          ]
        }
      ]
    },
    {
      "cell_type": "code",
      "source": [
        "#Accessing a slice of the DataFrame\n",
        "print(df1.iloc[1:3,1:3])#print 1st 2 row and 2 column data"
      ],
      "metadata": {
        "colab": {
          "base_uri": "https://localhost:8080/",
          "height": 0
        },
        "id": "8dw87of1uC58",
        "outputId": "c034f663-0643-49d0-ca52-9d1c06c95d24"
      },
      "execution_count": 304,
      "outputs": [
        {
          "output_type": "stream",
          "name": "stdout",
          "text": [
            "         p2        p3\n",
            "1 -0.065624  0.500205\n",
            "2 -1.743084  1.079112\n"
          ]
        }
      ]
    },
    {
      "cell_type": "code",
      "source": [
        "#print shape of dataframe\n",
        "print(\"shape of data \\n\",df1.shape)"
      ],
      "metadata": {
        "colab": {
          "base_uri": "https://localhost:8080/",
          "height": 0
        },
        "id": "LHoXs8DzuWg5",
        "outputId": "c94a7174-d0dd-4b0e-ba0a-c6e5ff095fdc"
      },
      "execution_count": 305,
      "outputs": [
        {
          "output_type": "stream",
          "name": "stdout",
          "text": [
            "shape of data \n",
            " (5, 3)\n"
          ]
        }
      ]
    },
    {
      "cell_type": "code",
      "source": [
        "#print size of dataframe\n",
        "print(\"size of data \\n\",df1.size)"
      ],
      "metadata": {
        "colab": {
          "base_uri": "https://localhost:8080/",
          "height": 0
        },
        "id": "Rtj3oFpqugqA",
        "outputId": "ba63e175-6656-4512-e3f6-476e83af87b7"
      },
      "execution_count": 306,
      "outputs": [
        {
          "output_type": "stream",
          "name": "stdout",
          "text": [
            "size of data \n",
            " 15\n"
          ]
        }
      ]
    },
    {
      "cell_type": "code",
      "source": [
        "#Selectring and filtring\n",
        "print(\"data of MSRP > 25000 \\n\",new_data.MSRP > 25000)"
      ],
      "metadata": {
        "colab": {
          "base_uri": "https://localhost:8080/",
          "height": 0
        },
        "id": "0a_prMaXuraa",
        "outputId": "bb2c87bf-76e9-497e-8b17-5899b9389a3a"
      },
      "execution_count": 307,
      "outputs": [
        {
          "output_type": "stream",
          "name": "stdout",
          "text": [
            "data of MSRP > 25000 \n",
            " 1     True\n",
            "2    False\n",
            "3    False\n",
            "4     True\n",
            "Name: MSRP, dtype: bool\n"
          ]
        }
      ]
    },
    {
      "cell_type": "markdown",
      "source": [
        "#**Arithmatic Operation**"
      ],
      "metadata": {
        "id": "hltdvVP4vQhL"
      }
    },
    {
      "cell_type": "code",
      "source": [
        "df1"
      ],
      "metadata": {
        "colab": {
          "base_uri": "https://localhost:8080/",
          "height": 206
        },
        "id": "FcERE40fvJ1c",
        "outputId": "83c5637b-f7aa-4b90-a84e-8cf22391d93e"
      },
      "execution_count": 308,
      "outputs": [
        {
          "output_type": "execute_result",
          "data": {
            "text/plain": [
              "         p1        p2        p3\n",
              "0 -1.488367 -0.344447  0.943069\n",
              "1  1.265409 -0.065624  0.500205\n",
              "2  0.727353 -1.743084  1.079112\n",
              "3 -0.116587  0.353792  1.709575\n",
              "4  1.946350 -0.357882  0.969666"
            ],
            "text/html": [
              "\n",
              "  <div id=\"df-013017d0-5fe9-4d4d-8afd-ec48b11f2786\">\n",
              "    <div class=\"colab-df-container\">\n",
              "      <div>\n",
              "<style scoped>\n",
              "    .dataframe tbody tr th:only-of-type {\n",
              "        vertical-align: middle;\n",
              "    }\n",
              "\n",
              "    .dataframe tbody tr th {\n",
              "        vertical-align: top;\n",
              "    }\n",
              "\n",
              "    .dataframe thead th {\n",
              "        text-align: right;\n",
              "    }\n",
              "</style>\n",
              "<table border=\"1\" class=\"dataframe\">\n",
              "  <thead>\n",
              "    <tr style=\"text-align: right;\">\n",
              "      <th></th>\n",
              "      <th>p1</th>\n",
              "      <th>p2</th>\n",
              "      <th>p3</th>\n",
              "    </tr>\n",
              "  </thead>\n",
              "  <tbody>\n",
              "    <tr>\n",
              "      <th>0</th>\n",
              "      <td>-1.488367</td>\n",
              "      <td>-0.344447</td>\n",
              "      <td>0.943069</td>\n",
              "    </tr>\n",
              "    <tr>\n",
              "      <th>1</th>\n",
              "      <td>1.265409</td>\n",
              "      <td>-0.065624</td>\n",
              "      <td>0.500205</td>\n",
              "    </tr>\n",
              "    <tr>\n",
              "      <th>2</th>\n",
              "      <td>0.727353</td>\n",
              "      <td>-1.743084</td>\n",
              "      <td>1.079112</td>\n",
              "    </tr>\n",
              "    <tr>\n",
              "      <th>3</th>\n",
              "      <td>-0.116587</td>\n",
              "      <td>0.353792</td>\n",
              "      <td>1.709575</td>\n",
              "    </tr>\n",
              "    <tr>\n",
              "      <th>4</th>\n",
              "      <td>1.946350</td>\n",
              "      <td>-0.357882</td>\n",
              "      <td>0.969666</td>\n",
              "    </tr>\n",
              "  </tbody>\n",
              "</table>\n",
              "</div>\n",
              "      <button class=\"colab-df-convert\" onclick=\"convertToInteractive('df-013017d0-5fe9-4d4d-8afd-ec48b11f2786')\"\n",
              "              title=\"Convert this dataframe to an interactive table.\"\n",
              "              style=\"display:none;\">\n",
              "        \n",
              "  <svg xmlns=\"http://www.w3.org/2000/svg\" height=\"24px\"viewBox=\"0 0 24 24\"\n",
              "       width=\"24px\">\n",
              "    <path d=\"M0 0h24v24H0V0z\" fill=\"none\"/>\n",
              "    <path d=\"M18.56 5.44l.94 2.06.94-2.06 2.06-.94-2.06-.94-.94-2.06-.94 2.06-2.06.94zm-11 1L8.5 8.5l.94-2.06 2.06-.94-2.06-.94L8.5 2.5l-.94 2.06-2.06.94zm10 10l.94 2.06.94-2.06 2.06-.94-2.06-.94-.94-2.06-.94 2.06-2.06.94z\"/><path d=\"M17.41 7.96l-1.37-1.37c-.4-.4-.92-.59-1.43-.59-.52 0-1.04.2-1.43.59L10.3 9.45l-7.72 7.72c-.78.78-.78 2.05 0 2.83L4 21.41c.39.39.9.59 1.41.59.51 0 1.02-.2 1.41-.59l7.78-7.78 2.81-2.81c.8-.78.8-2.07 0-2.86zM5.41 20L4 18.59l7.72-7.72 1.47 1.35L5.41 20z\"/>\n",
              "  </svg>\n",
              "      </button>\n",
              "      \n",
              "  <style>\n",
              "    .colab-df-container {\n",
              "      display:flex;\n",
              "      flex-wrap:wrap;\n",
              "      gap: 12px;\n",
              "    }\n",
              "\n",
              "    .colab-df-convert {\n",
              "      background-color: #E8F0FE;\n",
              "      border: none;\n",
              "      border-radius: 50%;\n",
              "      cursor: pointer;\n",
              "      display: none;\n",
              "      fill: #1967D2;\n",
              "      height: 32px;\n",
              "      padding: 0 0 0 0;\n",
              "      width: 32px;\n",
              "    }\n",
              "\n",
              "    .colab-df-convert:hover {\n",
              "      background-color: #E2EBFA;\n",
              "      box-shadow: 0px 1px 2px rgba(60, 64, 67, 0.3), 0px 1px 3px 1px rgba(60, 64, 67, 0.15);\n",
              "      fill: #174EA6;\n",
              "    }\n",
              "\n",
              "    [theme=dark] .colab-df-convert {\n",
              "      background-color: #3B4455;\n",
              "      fill: #D2E3FC;\n",
              "    }\n",
              "\n",
              "    [theme=dark] .colab-df-convert:hover {\n",
              "      background-color: #434B5C;\n",
              "      box-shadow: 0px 1px 3px 1px rgba(0, 0, 0, 0.15);\n",
              "      filter: drop-shadow(0px 1px 2px rgba(0, 0, 0, 0.3));\n",
              "      fill: #FFFFFF;\n",
              "    }\n",
              "  </style>\n",
              "\n",
              "      <script>\n",
              "        const buttonEl =\n",
              "          document.querySelector('#df-013017d0-5fe9-4d4d-8afd-ec48b11f2786 button.colab-df-convert');\n",
              "        buttonEl.style.display =\n",
              "          google.colab.kernel.accessAllowed ? 'block' : 'none';\n",
              "\n",
              "        async function convertToInteractive(key) {\n",
              "          const element = document.querySelector('#df-013017d0-5fe9-4d4d-8afd-ec48b11f2786');\n",
              "          const dataTable =\n",
              "            await google.colab.kernel.invokeFunction('convertToInteractive',\n",
              "                                                     [key], {});\n",
              "          if (!dataTable) return;\n",
              "\n",
              "          const docLinkHtml = 'Like what you see? Visit the ' +\n",
              "            '<a target=\"_blank\" href=https://colab.research.google.com/notebooks/data_table.ipynb>data table notebook</a>'\n",
              "            + ' to learn more about interactive tables.';\n",
              "          element.innerHTML = '';\n",
              "          dataTable['output_type'] = 'display_data';\n",
              "          await google.colab.output.renderOutput(dataTable, element);\n",
              "          const docLink = document.createElement('div');\n",
              "          docLink.innerHTML = docLinkHtml;\n",
              "          element.appendChild(docLink);\n",
              "        }\n",
              "      </script>\n",
              "    </div>\n",
              "  </div>\n",
              "  "
            ]
          },
          "metadata": {},
          "execution_count": 308
        }
      ]
    },
    {
      "cell_type": "code",
      "source": [
        "#Taking Transpose of dataframe\n",
        "print(\"Transpose of data \\n\",df1.T)"
      ],
      "metadata": {
        "colab": {
          "base_uri": "https://localhost:8080/",
          "height": 0
        },
        "id": "9FDzOfLEvZfi",
        "outputId": "35861664-8dca-45f5-cfb5-c1ceb2ca25aa"
      },
      "execution_count": 309,
      "outputs": [
        {
          "output_type": "stream",
          "name": "stdout",
          "text": [
            "Transpose of data \n",
            "            0         1         2         3         4\n",
            "p1 -1.488367  1.265409  0.727353 -0.116587  1.946350\n",
            "p2 -0.344447 -0.065624 -1.743084  0.353792 -0.357882\n",
            "p3  0.943069  0.500205  1.079112  1.709575  0.969666\n"
          ]
        }
      ]
    },
    {
      "cell_type": "code",
      "source": [
        "#addition operation\n",
        "print(\"addtion operation \\n\",df1 +4)"
      ],
      "metadata": {
        "colab": {
          "base_uri": "https://localhost:8080/",
          "height": 0
        },
        "id": "44RkO7IHvr1p",
        "outputId": "3419ba8d-c4f8-416c-e6f0-3d0afd2d396d"
      },
      "execution_count": 310,
      "outputs": [
        {
          "output_type": "stream",
          "name": "stdout",
          "text": [
            "addtion operation \n",
            "          p1        p2        p3\n",
            "0  2.511633  3.655553  4.943069\n",
            "1  5.265409  3.934376  4.500205\n",
            "2  4.727353  2.256916  5.079112\n",
            "3  3.883413  4.353792  5.709575\n",
            "4  5.946350  3.642118  4.969666\n"
          ]
        }
      ]
    },
    {
      "cell_type": "code",
      "source": [
        "#Multiplication operation\n",
        "print(\"Multiplication operation \\n\",df1 * 7)"
      ],
      "metadata": {
        "colab": {
          "base_uri": "https://localhost:8080/",
          "height": 0
        },
        "id": "C5fT9tJdv0ez",
        "outputId": "c42e0c01-9a49-445a-e0d6-5da481af34e2"
      },
      "execution_count": 311,
      "outputs": [
        {
          "output_type": "stream",
          "name": "stdout",
          "text": [
            "Multiplication operation \n",
            "           p1         p2         p3\n",
            "0 -10.418570  -2.411130   6.601483\n",
            "1   8.857861  -0.459366   3.501434\n",
            "2   5.091473 -12.201589   7.553782\n",
            "3  -0.816110   2.476544  11.967026\n",
            "4  13.624453  -2.505177   6.787660\n"
          ]
        }
      ]
    },
    {
      "cell_type": "code",
      "source": [
        "df1"
      ],
      "metadata": {
        "colab": {
          "base_uri": "https://localhost:8080/",
          "height": 206
        },
        "id": "st1AslOLwALV",
        "outputId": "c642f8c4-1e1e-4bf0-c031-ae474a49b932"
      },
      "execution_count": 312,
      "outputs": [
        {
          "output_type": "execute_result",
          "data": {
            "text/plain": [
              "         p1        p2        p3\n",
              "0 -1.488367 -0.344447  0.943069\n",
              "1  1.265409 -0.065624  0.500205\n",
              "2  0.727353 -1.743084  1.079112\n",
              "3 -0.116587  0.353792  1.709575\n",
              "4  1.946350 -0.357882  0.969666"
            ],
            "text/html": [
              "\n",
              "  <div id=\"df-7115f97b-152e-41e5-afe4-86f13ce32c3d\">\n",
              "    <div class=\"colab-df-container\">\n",
              "      <div>\n",
              "<style scoped>\n",
              "    .dataframe tbody tr th:only-of-type {\n",
              "        vertical-align: middle;\n",
              "    }\n",
              "\n",
              "    .dataframe tbody tr th {\n",
              "        vertical-align: top;\n",
              "    }\n",
              "\n",
              "    .dataframe thead th {\n",
              "        text-align: right;\n",
              "    }\n",
              "</style>\n",
              "<table border=\"1\" class=\"dataframe\">\n",
              "  <thead>\n",
              "    <tr style=\"text-align: right;\">\n",
              "      <th></th>\n",
              "      <th>p1</th>\n",
              "      <th>p2</th>\n",
              "      <th>p3</th>\n",
              "    </tr>\n",
              "  </thead>\n",
              "  <tbody>\n",
              "    <tr>\n",
              "      <th>0</th>\n",
              "      <td>-1.488367</td>\n",
              "      <td>-0.344447</td>\n",
              "      <td>0.943069</td>\n",
              "    </tr>\n",
              "    <tr>\n",
              "      <th>1</th>\n",
              "      <td>1.265409</td>\n",
              "      <td>-0.065624</td>\n",
              "      <td>0.500205</td>\n",
              "    </tr>\n",
              "    <tr>\n",
              "      <th>2</th>\n",
              "      <td>0.727353</td>\n",
              "      <td>-1.743084</td>\n",
              "      <td>1.079112</td>\n",
              "    </tr>\n",
              "    <tr>\n",
              "      <th>3</th>\n",
              "      <td>-0.116587</td>\n",
              "      <td>0.353792</td>\n",
              "      <td>1.709575</td>\n",
              "    </tr>\n",
              "    <tr>\n",
              "      <th>4</th>\n",
              "      <td>1.946350</td>\n",
              "      <td>-0.357882</td>\n",
              "      <td>0.969666</td>\n",
              "    </tr>\n",
              "  </tbody>\n",
              "</table>\n",
              "</div>\n",
              "      <button class=\"colab-df-convert\" onclick=\"convertToInteractive('df-7115f97b-152e-41e5-afe4-86f13ce32c3d')\"\n",
              "              title=\"Convert this dataframe to an interactive table.\"\n",
              "              style=\"display:none;\">\n",
              "        \n",
              "  <svg xmlns=\"http://www.w3.org/2000/svg\" height=\"24px\"viewBox=\"0 0 24 24\"\n",
              "       width=\"24px\">\n",
              "    <path d=\"M0 0h24v24H0V0z\" fill=\"none\"/>\n",
              "    <path d=\"M18.56 5.44l.94 2.06.94-2.06 2.06-.94-2.06-.94-.94-2.06-.94 2.06-2.06.94zm-11 1L8.5 8.5l.94-2.06 2.06-.94-2.06-.94L8.5 2.5l-.94 2.06-2.06.94zm10 10l.94 2.06.94-2.06 2.06-.94-2.06-.94-.94-2.06-.94 2.06-2.06.94z\"/><path d=\"M17.41 7.96l-1.37-1.37c-.4-.4-.92-.59-1.43-.59-.52 0-1.04.2-1.43.59L10.3 9.45l-7.72 7.72c-.78.78-.78 2.05 0 2.83L4 21.41c.39.39.9.59 1.41.59.51 0 1.02-.2 1.41-.59l7.78-7.78 2.81-2.81c.8-.78.8-2.07 0-2.86zM5.41 20L4 18.59l7.72-7.72 1.47 1.35L5.41 20z\"/>\n",
              "  </svg>\n",
              "      </button>\n",
              "      \n",
              "  <style>\n",
              "    .colab-df-container {\n",
              "      display:flex;\n",
              "      flex-wrap:wrap;\n",
              "      gap: 12px;\n",
              "    }\n",
              "\n",
              "    .colab-df-convert {\n",
              "      background-color: #E8F0FE;\n",
              "      border: none;\n",
              "      border-radius: 50%;\n",
              "      cursor: pointer;\n",
              "      display: none;\n",
              "      fill: #1967D2;\n",
              "      height: 32px;\n",
              "      padding: 0 0 0 0;\n",
              "      width: 32px;\n",
              "    }\n",
              "\n",
              "    .colab-df-convert:hover {\n",
              "      background-color: #E2EBFA;\n",
              "      box-shadow: 0px 1px 2px rgba(60, 64, 67, 0.3), 0px 1px 3px 1px rgba(60, 64, 67, 0.15);\n",
              "      fill: #174EA6;\n",
              "    }\n",
              "\n",
              "    [theme=dark] .colab-df-convert {\n",
              "      background-color: #3B4455;\n",
              "      fill: #D2E3FC;\n",
              "    }\n",
              "\n",
              "    [theme=dark] .colab-df-convert:hover {\n",
              "      background-color: #434B5C;\n",
              "      box-shadow: 0px 1px 3px 1px rgba(0, 0, 0, 0.15);\n",
              "      filter: drop-shadow(0px 1px 2px rgba(0, 0, 0, 0.3));\n",
              "      fill: #FFFFFF;\n",
              "    }\n",
              "  </style>\n",
              "\n",
              "      <script>\n",
              "        const buttonEl =\n",
              "          document.querySelector('#df-7115f97b-152e-41e5-afe4-86f13ce32c3d button.colab-df-convert');\n",
              "        buttonEl.style.display =\n",
              "          google.colab.kernel.accessAllowed ? 'block' : 'none';\n",
              "\n",
              "        async function convertToInteractive(key) {\n",
              "          const element = document.querySelector('#df-7115f97b-152e-41e5-afe4-86f13ce32c3d');\n",
              "          const dataTable =\n",
              "            await google.colab.kernel.invokeFunction('convertToInteractive',\n",
              "                                                     [key], {});\n",
              "          if (!dataTable) return;\n",
              "\n",
              "          const docLinkHtml = 'Like what you see? Visit the ' +\n",
              "            '<a target=\"_blank\" href=https://colab.research.google.com/notebooks/data_table.ipynb>data table notebook</a>'\n",
              "            + ' to learn more about interactive tables.';\n",
              "          element.innerHTML = '';\n",
              "          dataTable['output_type'] = 'display_data';\n",
              "          await google.colab.output.renderOutput(dataTable, element);\n",
              "          const docLink = document.createElement('div');\n",
              "          docLink.innerHTML = docLinkHtml;\n",
              "          element.appendChild(docLink);\n",
              "        }\n",
              "      </script>\n",
              "    </div>\n",
              "  </div>\n",
              "  "
            ]
          },
          "metadata": {},
          "execution_count": 312
        }
      ]
    },
    {
      "cell_type": "code",
      "source": [
        "arr=np.random.randn(5,3)\n",
        "column_Name=['p1','p2','p3']\n",
        "df2=pd.DataFrame(arr,columns=column_Name)\n",
        "df2"
      ],
      "metadata": {
        "colab": {
          "base_uri": "https://localhost:8080/",
          "height": 206
        },
        "id": "VFuP9yLHwGQk",
        "outputId": "9d67c96d-27f8-4c18-967a-6352ef38a881"
      },
      "execution_count": 313,
      "outputs": [
        {
          "output_type": "execute_result",
          "data": {
            "text/plain": [
              "         p1        p2        p3\n",
              "0 -0.786962  0.306524  0.789009\n",
              "1  0.358010 -2.244067  1.515587\n",
              "2 -0.621191 -0.906349 -0.670682\n",
              "3 -0.484774 -1.313156 -0.150344\n",
              "4  0.701773 -0.480770 -0.220176"
            ],
            "text/html": [
              "\n",
              "  <div id=\"df-c40fb668-b4ce-4c0b-aecf-74dafa1d3d98\">\n",
              "    <div class=\"colab-df-container\">\n",
              "      <div>\n",
              "<style scoped>\n",
              "    .dataframe tbody tr th:only-of-type {\n",
              "        vertical-align: middle;\n",
              "    }\n",
              "\n",
              "    .dataframe tbody tr th {\n",
              "        vertical-align: top;\n",
              "    }\n",
              "\n",
              "    .dataframe thead th {\n",
              "        text-align: right;\n",
              "    }\n",
              "</style>\n",
              "<table border=\"1\" class=\"dataframe\">\n",
              "  <thead>\n",
              "    <tr style=\"text-align: right;\">\n",
              "      <th></th>\n",
              "      <th>p1</th>\n",
              "      <th>p2</th>\n",
              "      <th>p3</th>\n",
              "    </tr>\n",
              "  </thead>\n",
              "  <tbody>\n",
              "    <tr>\n",
              "      <th>0</th>\n",
              "      <td>-0.786962</td>\n",
              "      <td>0.306524</td>\n",
              "      <td>0.789009</td>\n",
              "    </tr>\n",
              "    <tr>\n",
              "      <th>1</th>\n",
              "      <td>0.358010</td>\n",
              "      <td>-2.244067</td>\n",
              "      <td>1.515587</td>\n",
              "    </tr>\n",
              "    <tr>\n",
              "      <th>2</th>\n",
              "      <td>-0.621191</td>\n",
              "      <td>-0.906349</td>\n",
              "      <td>-0.670682</td>\n",
              "    </tr>\n",
              "    <tr>\n",
              "      <th>3</th>\n",
              "      <td>-0.484774</td>\n",
              "      <td>-1.313156</td>\n",
              "      <td>-0.150344</td>\n",
              "    </tr>\n",
              "    <tr>\n",
              "      <th>4</th>\n",
              "      <td>0.701773</td>\n",
              "      <td>-0.480770</td>\n",
              "      <td>-0.220176</td>\n",
              "    </tr>\n",
              "  </tbody>\n",
              "</table>\n",
              "</div>\n",
              "      <button class=\"colab-df-convert\" onclick=\"convertToInteractive('df-c40fb668-b4ce-4c0b-aecf-74dafa1d3d98')\"\n",
              "              title=\"Convert this dataframe to an interactive table.\"\n",
              "              style=\"display:none;\">\n",
              "        \n",
              "  <svg xmlns=\"http://www.w3.org/2000/svg\" height=\"24px\"viewBox=\"0 0 24 24\"\n",
              "       width=\"24px\">\n",
              "    <path d=\"M0 0h24v24H0V0z\" fill=\"none\"/>\n",
              "    <path d=\"M18.56 5.44l.94 2.06.94-2.06 2.06-.94-2.06-.94-.94-2.06-.94 2.06-2.06.94zm-11 1L8.5 8.5l.94-2.06 2.06-.94-2.06-.94L8.5 2.5l-.94 2.06-2.06.94zm10 10l.94 2.06.94-2.06 2.06-.94-2.06-.94-.94-2.06-.94 2.06-2.06.94z\"/><path d=\"M17.41 7.96l-1.37-1.37c-.4-.4-.92-.59-1.43-.59-.52 0-1.04.2-1.43.59L10.3 9.45l-7.72 7.72c-.78.78-.78 2.05 0 2.83L4 21.41c.39.39.9.59 1.41.59.51 0 1.02-.2 1.41-.59l7.78-7.78 2.81-2.81c.8-.78.8-2.07 0-2.86zM5.41 20L4 18.59l7.72-7.72 1.47 1.35L5.41 20z\"/>\n",
              "  </svg>\n",
              "      </button>\n",
              "      \n",
              "  <style>\n",
              "    .colab-df-container {\n",
              "      display:flex;\n",
              "      flex-wrap:wrap;\n",
              "      gap: 12px;\n",
              "    }\n",
              "\n",
              "    .colab-df-convert {\n",
              "      background-color: #E8F0FE;\n",
              "      border: none;\n",
              "      border-radius: 50%;\n",
              "      cursor: pointer;\n",
              "      display: none;\n",
              "      fill: #1967D2;\n",
              "      height: 32px;\n",
              "      padding: 0 0 0 0;\n",
              "      width: 32px;\n",
              "    }\n",
              "\n",
              "    .colab-df-convert:hover {\n",
              "      background-color: #E2EBFA;\n",
              "      box-shadow: 0px 1px 2px rgba(60, 64, 67, 0.3), 0px 1px 3px 1px rgba(60, 64, 67, 0.15);\n",
              "      fill: #174EA6;\n",
              "    }\n",
              "\n",
              "    [theme=dark] .colab-df-convert {\n",
              "      background-color: #3B4455;\n",
              "      fill: #D2E3FC;\n",
              "    }\n",
              "\n",
              "    [theme=dark] .colab-df-convert:hover {\n",
              "      background-color: #434B5C;\n",
              "      box-shadow: 0px 1px 3px 1px rgba(0, 0, 0, 0.15);\n",
              "      filter: drop-shadow(0px 1px 2px rgba(0, 0, 0, 0.3));\n",
              "      fill: #FFFFFF;\n",
              "    }\n",
              "  </style>\n",
              "\n",
              "      <script>\n",
              "        const buttonEl =\n",
              "          document.querySelector('#df-c40fb668-b4ce-4c0b-aecf-74dafa1d3d98 button.colab-df-convert');\n",
              "        buttonEl.style.display =\n",
              "          google.colab.kernel.accessAllowed ? 'block' : 'none';\n",
              "\n",
              "        async function convertToInteractive(key) {\n",
              "          const element = document.querySelector('#df-c40fb668-b4ce-4c0b-aecf-74dafa1d3d98');\n",
              "          const dataTable =\n",
              "            await google.colab.kernel.invokeFunction('convertToInteractive',\n",
              "                                                     [key], {});\n",
              "          if (!dataTable) return;\n",
              "\n",
              "          const docLinkHtml = 'Like what you see? Visit the ' +\n",
              "            '<a target=\"_blank\" href=https://colab.research.google.com/notebooks/data_table.ipynb>data table notebook</a>'\n",
              "            + ' to learn more about interactive tables.';\n",
              "          element.innerHTML = '';\n",
              "          dataTable['output_type'] = 'display_data';\n",
              "          await google.colab.output.renderOutput(dataTable, element);\n",
              "          const docLink = document.createElement('div');\n",
              "          docLink.innerHTML = docLinkHtml;\n",
              "          element.appendChild(docLink);\n",
              "        }\n",
              "      </script>\n",
              "    </div>\n",
              "  </div>\n",
              "  "
            ]
          },
          "metadata": {},
          "execution_count": 313
        }
      ]
    },
    {
      "cell_type": "code",
      "source": [
        "#Add two Dataframes\n",
        "print(\"Add two Dataframes\\n\",df1.add(df2))"
      ],
      "metadata": {
        "colab": {
          "base_uri": "https://localhost:8080/",
          "height": 0
        },
        "id": "2yI4q6KUw6ki",
        "outputId": "5f22bf48-8b40-4ef1-9b53-47392dfb1783"
      },
      "execution_count": 314,
      "outputs": [
        {
          "output_type": "stream",
          "name": "stdout",
          "text": [
            "Add two Dataframes\n",
            "          p1        p2        p3\n",
            "0 -2.275329 -0.037923  1.732078\n",
            "1  1.623419 -2.309691  2.015792\n",
            "2  0.106162 -2.649433  0.408430\n",
            "3 -0.601361 -0.959364  1.559231\n",
            "4  2.648124 -0.838652  0.749489\n"
          ]
        }
      ]
    },
    {
      "cell_type": "code",
      "source": [
        "#Multiply two Dataframes\n",
        "print(\"multiply two Dataframes\\n\",df1.mul(df2))"
      ],
      "metadata": {
        "colab": {
          "base_uri": "https://localhost:8080/",
          "height": 0
        },
        "id": "-oVSVUk1xcc_",
        "outputId": "75d10f13-9872-4642-a058-01cf54350b9c"
      },
      "execution_count": 315,
      "outputs": [
        {
          "output_type": "stream",
          "name": "stdout",
          "text": [
            "multiply two Dataframes\n",
            "          p1        p2        p3\n",
            "0  1.171288 -0.105581  0.744090\n",
            "1  0.453029  0.147264  0.758104\n",
            "2 -0.451825  1.579843 -0.723741\n",
            "3  0.056518 -0.464584 -0.257024\n",
            "4  1.365897  0.172059 -0.213498\n"
          ]
        }
      ]
    },
    {
      "cell_type": "code",
      "source": [
        "#get absolute value of each element\n",
        "print(df1.abs())"
      ],
      "metadata": {
        "colab": {
          "base_uri": "https://localhost:8080/",
          "height": 0
        },
        "id": "8oGo3PNcxocp",
        "outputId": "2aaf49e6-8c2a-4a59-d5f6-7d1be4eed2b0"
      },
      "execution_count": 316,
      "outputs": [
        {
          "output_type": "stream",
          "name": "stdout",
          "text": [
            "         p1        p2        p3\n",
            "0  1.488367  0.344447  0.943069\n",
            "1  1.265409  0.065624  0.500205\n",
            "2  0.727353  1.743084  1.079112\n",
            "3  0.116587  0.353792  1.709575\n",
            "4  1.946350  0.357882  0.969666\n"
          ]
        }
      ]
    },
    {
      "cell_type": "code",
      "source": [
        "#get maximum value of each element\n",
        "print(df1.max())"
      ],
      "metadata": {
        "colab": {
          "base_uri": "https://localhost:8080/",
          "height": 0
        },
        "id": "XExVLY-5xzZF",
        "outputId": "4758b815-5468-4b0f-c4fe-33787cca4757"
      },
      "execution_count": 317,
      "outputs": [
        {
          "output_type": "stream",
          "name": "stdout",
          "text": [
            "p1    1.946350\n",
            "p2    0.353792\n",
            "p3    1.709575\n",
            "dtype: float64\n"
          ]
        }
      ]
    },
    {
      "cell_type": "code",
      "source": [
        "#get minimum value of each element\n",
        "print(df1.min())"
      ],
      "metadata": {
        "colab": {
          "base_uri": "https://localhost:8080/",
          "height": 0
        },
        "id": "Ps9Hl4gHx9DE",
        "outputId": "c64d7f98-3ef2-477f-8abd-a1846067a51d"
      },
      "execution_count": 318,
      "outputs": [
        {
          "output_type": "stream",
          "name": "stdout",
          "text": [
            "p1   -1.488367\n",
            "p2   -1.743084\n",
            "p3    0.500205\n",
            "dtype: float64\n"
          ]
        }
      ]
    },
    {
      "cell_type": "code",
      "source": [
        "#get sum of  value of each element\n",
        "print(df1.sum())"
      ],
      "metadata": {
        "colab": {
          "base_uri": "https://localhost:8080/",
          "height": 0
        },
        "id": "elgfMdIMyByy",
        "outputId": "f8eb68a2-68e7-4bae-bf0a-81cd4cb0f738"
      },
      "execution_count": 319,
      "outputs": [
        {
          "output_type": "stream",
          "name": "stdout",
          "text": [
            "p1    2.334158\n",
            "p2   -2.157245\n",
            "p3    5.201626\n",
            "dtype: float64\n"
          ]
        }
      ]
    },
    {
      "cell_type": "code",
      "source": [
        "#get average  value of each element\n",
        "print(df1.mean())"
      ],
      "metadata": {
        "colab": {
          "base_uri": "https://localhost:8080/",
          "height": 0
        },
        "id": "kHyqpl2TyKWN",
        "outputId": "088c6c23-944e-40eb-d7e8-3fb8aa413f7f"
      },
      "execution_count": 320,
      "outputs": [
        {
          "output_type": "stream",
          "name": "stdout",
          "text": [
            "p1    0.466832\n",
            "p2   -0.431449\n",
            "p3    1.040325\n",
            "dtype: float64\n"
          ]
        }
      ]
    },
    {
      "cell_type": "code",
      "source": [
        "#calculat max - min per row\n",
        "f=lambda x: x.max() - x.min()\n",
        "print(df1.apply(f,axis=1))"
      ],
      "metadata": {
        "colab": {
          "base_uri": "https://localhost:8080/",
          "height": 0
        },
        "id": "k7cnou6EyVPR",
        "outputId": "8c25ea95-5571-45a2-8fe2-d4b7b8ef12e9"
      },
      "execution_count": 321,
      "outputs": [
        {
          "output_type": "stream",
          "name": "stdout",
          "text": [
            "0    2.431436\n",
            "1    1.331032\n",
            "2    2.822196\n",
            "3    1.826162\n",
            "4    2.304233\n",
            "dtype: float64\n"
          ]
        }
      ]
    },
    {
      "cell_type": "code",
      "source": [
        "#calculat max - min per column\n",
        "f=lambda x: x.max() - x.min()\n",
        "print(df1.apply(f))"
      ],
      "metadata": {
        "colab": {
          "base_uri": "https://localhost:8080/",
          "height": 0
        },
        "id": "bulJHNe-yzSz",
        "outputId": "9540267e-b0f2-474c-e5b1-c55e5b39a1c5"
      },
      "execution_count": 322,
      "outputs": [
        {
          "output_type": "stream",
          "name": "stdout",
          "text": [
            "p1    3.434718\n",
            "p2    2.096876\n",
            "p3    1.209370\n",
            "dtype: float64\n"
          ]
        }
      ]
    },
    {
      "cell_type": "markdown",
      "source": [
        "#**plotting Series and DataFrame**"
      ],
      "metadata": {
        "id": "57F15YSHzBsh"
      }
    },
    {
      "cell_type": "markdown",
      "source": [
        "There are Many built-in Function Available to plot the data stored in a series "
      ],
      "metadata": {
        "id": "hdHEnOwfzb9W"
      }
    },
    {
      "cell_type": "code",
      "source": [
        "%matplotlib inline\n",
        "#creating a Sereis  from a list\n",
        "list_series=Series([1.2,2.5,-2.2,3.1,-0.8,-3.2],index=['jan1','jan2','jan3','jan4','jan5','jan6'])\n",
        "print(\"series of list \\n\",list_series)"
      ],
      "metadata": {
        "colab": {
          "base_uri": "https://localhost:8080/",
          "height": 0
        },
        "id": "KVSLSBqVzI5J",
        "outputId": "bb001cb1-02fd-4591-e845-775867d39e5c"
      },
      "execution_count": 323,
      "outputs": [
        {
          "output_type": "stream",
          "name": "stdout",
          "text": [
            "series of list \n",
            " jan1    1.2\n",
            "jan2    2.5\n",
            "jan3   -2.2\n",
            "jan4    3.1\n",
            "jan5   -0.8\n",
            "jan6   -3.2\n",
            "dtype: float64\n"
          ]
        }
      ]
    },
    {
      "cell_type": "code",
      "source": [
        "list_series.plot(kind='line',title='Line plot')"
      ],
      "metadata": {
        "colab": {
          "base_uri": "https://localhost:8080/",
          "height": 299
        },
        "id": "magOyrU8znR1",
        "outputId": "1bbef806-3667-414f-9646-7cf290c68293"
      },
      "execution_count": 324,
      "outputs": [
        {
          "output_type": "execute_result",
          "data": {
            "text/plain": [
              "<AxesSubplot:title={'center':'Line plot'}>"
            ]
          },
          "metadata": {},
          "execution_count": 324
        },
        {
          "output_type": "display_data",
          "data": {
            "text/plain": [
              "<Figure size 432x288 with 1 Axes>"
            ],
            "image/png": "[encoded data removed]"
          },
          "metadata": {
            "needs_background": "light"
          }
        }
      ]
    },
    {
      "cell_type": "markdown",
      "source": [
        "**Bar Plot**"
      ],
      "metadata": {
        "id": "Ax7j98-F2cVq"
      }
    },
    {
      "cell_type": "code",
      "source": [
        "list_series.plot(kind='bar',title='Bar plot')"
      ],
      "metadata": {
        "colab": {
          "base_uri": "https://localhost:8080/",
          "height": 311
        },
        "id": "QjLhgp1i2apD",
        "outputId": "5d870767-6d74-4555-ee3f-59e88c08975a"
      },
      "execution_count": 325,
      "outputs": [
        {
          "output_type": "execute_result",
          "data": {
            "text/plain": [
              "<AxesSubplot:title={'center':'Bar plot'}>"
            ]
          },
          "metadata": {},
          "execution_count": 325
        },
        {
          "output_type": "display_data",
          "data": {
            "text/plain": [
              "<Figure size 432x288 with 1 Axes>"
            ],
            "image/png": "[encoded data removed]"
          },
          "metadata": {
            "needs_background": "light"
          }
        }
      ]
    },
    {
      "cell_type": "markdown",
      "source": [
        "**Histogram**"
      ],
      "metadata": {
        "id": "k6_TZmCp2vCC"
      }
    },
    {
      "cell_type": "code",
      "source": [
        "list_series.plot(kind='hist',title='Histogram')"
      ],
      "metadata": {
        "colab": {
          "base_uri": "https://localhost:8080/",
          "height": 299
        },
        "id": "QHT_oF-62ulz",
        "outputId": "e0ce2fb0-f9f7-4fae-cd93-76857ed65239"
      },
      "execution_count": 326,
      "outputs": [
        {
          "output_type": "execute_result",
          "data": {
            "text/plain": [
              "<AxesSubplot:title={'center':'Histogram'}, ylabel='Frequency'>"
            ]
          },
          "metadata": {},
          "execution_count": 326
        },
        {
          "output_type": "display_data",
          "data": {
            "text/plain": [
              "<Figure size 432x288 with 1 Axes>"
            ],
            "image/png": "[encoded data removed]"
          },
          "metadata": {
            "needs_background": "light"
          }
        }
      ]
    },
    {
      "cell_type": "markdown",
      "source": [
        "**box Plot**"
      ],
      "metadata": {
        "id": "tpfT3k5h26ME"
      }
    },
    {
      "cell_type": "code",
      "source": [
        "#Creating DataFrame from a list of tuple\n",
        "tuple_list=[(2011,45.1,32.4),(2012,424,34.5),(2013,47.2,39.2),(2014,44.2,31.4),(2015,39.9,29.8),(2016,41.5,36.7)]\n",
        "column_name=['year','temp','precip']\n",
        "df=pd.DataFrame(tuple_list,columns=column_name)\n",
        "df[['temp','precip']].plot(kind='box',title='Box plot')"
      ],
      "metadata": {
        "colab": {
          "base_uri": "https://localhost:8080/",
          "height": 299
        },
        "id": "saagDHO129J4",
        "outputId": "080e0f84-1139-43e4-a26d-ec7b3a3a268d"
      },
      "execution_count": 327,
      "outputs": [
        {
          "output_type": "execute_result",
          "data": {
            "text/plain": [
              "<AxesSubplot:title={'center':'Box plot'}>"
            ]
          },
          "metadata": {},
          "execution_count": 327
        },
        {
          "output_type": "display_data",
          "data": {
            "text/plain": [
              "<Figure size 432x288 with 1 Axes>"
            ],
            "image/png": "[encoded data removed]"
          },
          "metadata": {
            "needs_background": "light"
          }
        }
      ]
    },
    {
      "cell_type": "markdown",
      "source": [
        "SCatter plot"
      ],
      "metadata": {
        "id": "PX8hjW2i3u6F"
      }
    },
    {
      "cell_type": "code",
      "source": [
        "df.plot(kind='scatter',x='temp',y='precip',color='red',marker='*')"
      ],
      "metadata": {
        "colab": {
          "base_uri": "https://localhost:8080/",
          "height": 297
        },
        "id": "f8JBtooo3sur",
        "outputId": "9bd09547-1293-4928-cbef-fe29b0a395aa"
      },
      "execution_count": 328,
      "outputs": [
        {
          "output_type": "execute_result",
          "data": {
            "text/plain": [
              "<AxesSubplot:xlabel='temp', ylabel='precip'>"
            ]
          },
          "metadata": {},
          "execution_count": 328
        },
        {
          "output_type": "display_data",
          "data": {
            "text/plain": [
              "<Figure size 432x288 with 1 Axes>"
            ],
            "image/png": "[encoded data removed]"
          },
          "metadata": {
            "needs_background": "light"
          }
        }
      ]
    },
    {
      "cell_type": "code",
      "source": [],
      "metadata": {
        "id": "vD2SAply4EHp"
      },
      "execution_count": 328,
      "outputs": []
    }
  ]
}